{
 "cells": [
  {
   "cell_type": "markdown",
   "id": "990fd801",
   "metadata": {},
   "source": [
    "# Exploration of ChemProt dataset"
   ]
  },
  {
   "cell_type": "code",
   "execution_count": 2,
   "id": "8613da01",
   "metadata": {},
   "outputs": [],
   "source": [
    "import pandas as pd\n",
    "import re\n",
    "\n",
    "raw_path = \"./\"\n",
    "# processed_path = \"./data/chemprot/\"\n",
    "# pre-processed data\n",
    "dev_file = raw_path + \"dev.tsv\"\n",
    "train_file = raw_path + \"training/drugprot_training_relations.tsv\"\n",
    "test_file = raw_path + \"test.tsv\""
   ]
  },
  {
   "cell_type": "code",
   "execution_count": 3,
   "id": "65574bb2",
   "metadata": {},
   "outputs": [
    {
     "data": {
      "text/html": [
       "<div>\n",
       "<style scoped>\n",
       "    .dataframe tbody tr th:only-of-type {\n",
       "        vertical-align: middle;\n",
       "    }\n",
       "\n",
       "    .dataframe tbody tr th {\n",
       "        vertical-align: top;\n",
       "    }\n",
       "\n",
       "    .dataframe thead th {\n",
       "        text-align: right;\n",
       "    }\n",
       "</style>\n",
       "<table border=\"1\" class=\"dataframe\">\n",
       "  <thead>\n",
       "    <tr style=\"text-align: right;\">\n",
       "      <th></th>\n",
       "      <th>PMID</th>\n",
       "      <th>relation</th>\n",
       "      <th>interact arg 1</th>\n",
       "      <th>interact arg 2</th>\n",
       "    </tr>\n",
       "  </thead>\n",
       "  <tbody>\n",
       "    <tr>\n",
       "      <th>0</th>\n",
       "      <td>23017395</td>\n",
       "      <td>INHIBITOR</td>\n",
       "      <td>Arg1:T15</td>\n",
       "      <td>Arg2:T21</td>\n",
       "    </tr>\n",
       "    <tr>\n",
       "      <th>1</th>\n",
       "      <td>23017395</td>\n",
       "      <td>INHIBITOR</td>\n",
       "      <td>Arg1:T16</td>\n",
       "      <td>Arg2:T21</td>\n",
       "    </tr>\n",
       "    <tr>\n",
       "      <th>2</th>\n",
       "      <td>12181427</td>\n",
       "      <td>PART-OF</td>\n",
       "      <td>Arg1:T3</td>\n",
       "      <td>Arg2:T22</td>\n",
       "    </tr>\n",
       "    <tr>\n",
       "      <th>3</th>\n",
       "      <td>12181427</td>\n",
       "      <td>INHIBITOR</td>\n",
       "      <td>Arg1:T6</td>\n",
       "      <td>Arg2:T23</td>\n",
       "    </tr>\n",
       "    <tr>\n",
       "      <th>4</th>\n",
       "      <td>12181427</td>\n",
       "      <td>INHIBITOR</td>\n",
       "      <td>Arg1:T7</td>\n",
       "      <td>Arg2:T23</td>\n",
       "    </tr>\n",
       "    <tr>\n",
       "      <th>...</th>\n",
       "      <td>...</td>\n",
       "      <td>...</td>\n",
       "      <td>...</td>\n",
       "      <td>...</td>\n",
       "    </tr>\n",
       "    <tr>\n",
       "      <th>17269</th>\n",
       "      <td>17653133</td>\n",
       "      <td>PRODUCT-OF</td>\n",
       "      <td>Arg1:T10</td>\n",
       "      <td>Arg2:T24</td>\n",
       "    </tr>\n",
       "    <tr>\n",
       "      <th>17270</th>\n",
       "      <td>17653133</td>\n",
       "      <td>INHIBITOR</td>\n",
       "      <td>Arg1:T12</td>\n",
       "      <td>Arg2:T17</td>\n",
       "    </tr>\n",
       "    <tr>\n",
       "      <th>17271</th>\n",
       "      <td>17653133</td>\n",
       "      <td>INHIBITOR</td>\n",
       "      <td>Arg1:T13</td>\n",
       "      <td>Arg2:T17</td>\n",
       "    </tr>\n",
       "    <tr>\n",
       "      <th>17272</th>\n",
       "      <td>17653133</td>\n",
       "      <td>SUBSTRATE</td>\n",
       "      <td>Arg1:T3</td>\n",
       "      <td>Arg2:T19</td>\n",
       "    </tr>\n",
       "    <tr>\n",
       "      <th>17273</th>\n",
       "      <td>17653133</td>\n",
       "      <td>SUBSTRATE</td>\n",
       "      <td>Arg1:T11</td>\n",
       "      <td>Arg2:T24</td>\n",
       "    </tr>\n",
       "  </tbody>\n",
       "</table>\n",
       "<p>17274 rows × 4 columns</p>\n",
       "</div>"
      ],
      "text/plain": [
       "           PMID    relation interact arg 1 interact arg 2\n",
       "0      23017395   INHIBITOR       Arg1:T15       Arg2:T21\n",
       "1      23017395   INHIBITOR       Arg1:T16       Arg2:T21\n",
       "2      12181427     PART-OF        Arg1:T3       Arg2:T22\n",
       "3      12181427   INHIBITOR        Arg1:T6       Arg2:T23\n",
       "4      12181427   INHIBITOR        Arg1:T7       Arg2:T23\n",
       "...         ...         ...            ...            ...\n",
       "17269  17653133  PRODUCT-OF       Arg1:T10       Arg2:T24\n",
       "17270  17653133   INHIBITOR       Arg1:T12       Arg2:T17\n",
       "17271  17653133   INHIBITOR       Arg1:T13       Arg2:T17\n",
       "17272  17653133   SUBSTRATE        Arg1:T3       Arg2:T19\n",
       "17273  17653133   SUBSTRATE       Arg1:T11       Arg2:T24\n",
       "\n",
       "[17274 rows x 4 columns]"
      ]
     },
     "execution_count": 3,
     "metadata": {},
     "output_type": "execute_result"
    }
   ],
   "source": [
    "df = pd.read_table(train_file, header=None, dtype=str, names=['PMID', 'relation', 'interact arg 1', 'interact arg 2'])\n",
    "df"
   ]
  },
  {
   "cell_type": "code",
   "execution_count": 4,
   "id": "c147a84e",
   "metadata": {},
   "outputs": [
    {
     "data": {
      "text/plain": [
       "array(['INHIBITOR', 'PART-OF', 'SUBSTRATE', 'ACTIVATOR',\n",
       "       'INDIRECT-DOWNREGULATOR', 'ANTAGONIST', 'INDIRECT-UPREGULATOR',\n",
       "       'AGONIST', 'DIRECT-REGULATOR', 'PRODUCT-OF', 'AGONIST-ACTIVATOR',\n",
       "       'AGONIST-INHIBITOR', 'SUBSTRATE_PRODUCT-OF'], dtype=object)"
      ]
     },
     "execution_count": 4,
     "metadata": {},
     "output_type": "execute_result"
    }
   ],
   "source": [
    "df['relation'].unique()"
   ]
  },
  {
   "cell_type": "code",
   "execution_count": 3,
   "id": "25230e89",
   "metadata": {},
   "outputs": [
    {
     "data": {
      "text/plain": [
       "'@GENE$ inhibitors currently under investigation include the small molecules @CHEMICAL$ (Iressa, ZD1839) and erlotinib (Tarceva, OSI-774), as well as monoclonal antibodies such as cetuximab (IMC-225, Erbitux).'"
      ]
     },
     "execution_count": 3,
     "metadata": {},
     "output_type": "execute_result"
    }
   ],
   "source": [
    "df.iloc[1, 1]"
   ]
  },
  {
   "cell_type": "code",
   "execution_count": 4,
   "id": "f329cb2c",
   "metadata": {},
   "outputs": [],
   "source": [
    "def abs_id(id):\n",
    "    return re.split(\"\\.\", id)[0]"
   ]
  },
  {
   "cell_type": "code",
   "execution_count": 5,
   "id": "9c34116b",
   "metadata": {},
   "outputs": [
    {
     "data": {
      "text/html": [
       "<div>\n",
       "<style scoped>\n",
       "    .dataframe tbody tr th:only-of-type {\n",
       "        vertical-align: middle;\n",
       "    }\n",
       "\n",
       "    .dataframe tbody tr th {\n",
       "        vertical-align: top;\n",
       "    }\n",
       "\n",
       "    .dataframe thead th {\n",
       "        text-align: right;\n",
       "    }\n",
       "</style>\n",
       "<table border=\"1\" class=\"dataframe\">\n",
       "  <thead>\n",
       "    <tr style=\"text-align: right;\">\n",
       "      <th></th>\n",
       "      <th>text</th>\n",
       "      <th>relation</th>\n",
       "      <th>abs</th>\n",
       "      <th>e1</th>\n",
       "      <th>e2</th>\n",
       "    </tr>\n",
       "  </thead>\n",
       "  <tbody>\n",
       "    <tr>\n",
       "      <th>0</th>\n",
       "      <td>Recent studies have provided consistent eviden...</td>\n",
       "      <td>false</td>\n",
       "      <td>16357751</td>\n",
       "      <td>T1</td>\n",
       "      <td>T2</td>\n",
       "    </tr>\n",
       "    <tr>\n",
       "      <th>1</th>\n",
       "      <td>@GENE$ inhibitors currently under investigatio...</td>\n",
       "      <td>CPR:4</td>\n",
       "      <td>14967461</td>\n",
       "      <td>T22</td>\n",
       "      <td>T1</td>\n",
       "    </tr>\n",
       "    <tr>\n",
       "      <th>2</th>\n",
       "      <td>@GENE$ inhibitors currently under investigatio...</td>\n",
       "      <td>CPR:4</td>\n",
       "      <td>14967461</td>\n",
       "      <td>T22</td>\n",
       "      <td>T2</td>\n",
       "    </tr>\n",
       "    <tr>\n",
       "      <th>3</th>\n",
       "      <td>@GENE$ inhibitors currently under investigatio...</td>\n",
       "      <td>CPR:4</td>\n",
       "      <td>14967461</td>\n",
       "      <td>T22</td>\n",
       "      <td>T3</td>\n",
       "    </tr>\n",
       "    <tr>\n",
       "      <th>4</th>\n",
       "      <td>@GENE$ inhibitors currently under investigatio...</td>\n",
       "      <td>CPR:4</td>\n",
       "      <td>14967461</td>\n",
       "      <td>T22</td>\n",
       "      <td>T4</td>\n",
       "    </tr>\n",
       "    <tr>\n",
       "      <th>...</th>\n",
       "      <td>...</td>\n",
       "      <td>...</td>\n",
       "      <td>...</td>\n",
       "      <td>...</td>\n",
       "      <td>...</td>\n",
       "    </tr>\n",
       "    <tr>\n",
       "      <th>18030</th>\n",
       "      <td>In hippocampal dentate gyrus, @CHEMICAL$-recei...</td>\n",
       "      <td>CPR:3</td>\n",
       "      <td>17611273</td>\n",
       "      <td>T16</td>\n",
       "      <td>T18</td>\n",
       "    </tr>\n",
       "    <tr>\n",
       "      <th>18031</th>\n",
       "      <td>In hippocampal dentate gyrus, @CHEMICAL$-recei...</td>\n",
       "      <td>CPR:4</td>\n",
       "      <td>17611273</td>\n",
       "      <td>T16</td>\n",
       "      <td>T26</td>\n",
       "    </tr>\n",
       "    <tr>\n",
       "      <th>18032</th>\n",
       "      <td>In hippocampal dentate gyrus, @CHEMICAL$-recei...</td>\n",
       "      <td>CPR:3</td>\n",
       "      <td>17611273</td>\n",
       "      <td>T16</td>\n",
       "      <td>T27</td>\n",
       "    </tr>\n",
       "    <tr>\n",
       "      <th>18033</th>\n",
       "      <td>In medial striatum, @GENE$-ir decreased by 21%...</td>\n",
       "      <td>CPR:4</td>\n",
       "      <td>17611273</td>\n",
       "      <td>T19</td>\n",
       "      <td>T1</td>\n",
       "    </tr>\n",
       "    <tr>\n",
       "      <th>18034</th>\n",
       "      <td>In medial striatum, TH-ir decreased by 21%, an...</td>\n",
       "      <td>CPR:3</td>\n",
       "      <td>17611273</td>\n",
       "      <td>T20</td>\n",
       "      <td>T1</td>\n",
       "    </tr>\n",
       "  </tbody>\n",
       "</table>\n",
       "<p>18035 rows × 5 columns</p>\n",
       "</div>"
      ],
      "text/plain": [
       "                                                    text relation       abs  \\\n",
       "0      Recent studies have provided consistent eviden...    false  16357751   \n",
       "1      @GENE$ inhibitors currently under investigatio...    CPR:4  14967461   \n",
       "2      @GENE$ inhibitors currently under investigatio...    CPR:4  14967461   \n",
       "3      @GENE$ inhibitors currently under investigatio...    CPR:4  14967461   \n",
       "4      @GENE$ inhibitors currently under investigatio...    CPR:4  14967461   \n",
       "...                                                  ...      ...       ...   \n",
       "18030  In hippocampal dentate gyrus, @CHEMICAL$-recei...    CPR:3  17611273   \n",
       "18031  In hippocampal dentate gyrus, @CHEMICAL$-recei...    CPR:4  17611273   \n",
       "18032  In hippocampal dentate gyrus, @CHEMICAL$-recei...    CPR:3  17611273   \n",
       "18033  In medial striatum, @GENE$-ir decreased by 21%...    CPR:4  17611273   \n",
       "18034  In medial striatum, TH-ir decreased by 21%, an...    CPR:3  17611273   \n",
       "\n",
       "        e1   e2  \n",
       "0       T1   T2  \n",
       "1      T22   T1  \n",
       "2      T22   T2  \n",
       "3      T22   T3  \n",
       "4      T22   T4  \n",
       "...    ...  ...  \n",
       "18030  T16  T18  \n",
       "18031  T16  T26  \n",
       "18032  T16  T27  \n",
       "18033  T19   T1  \n",
       "18034  T20   T1  \n",
       "\n",
       "[18035 rows x 5 columns]"
      ]
     },
     "execution_count": 5,
     "metadata": {},
     "output_type": "execute_result"
    }
   ],
   "source": [
    "df_exp = pd.concat([df, df['id'].str.split('.', expand=True)], axis=1)\n",
    "df_exp = df_exp.drop('id', axis=1)\n",
    "df_exp.columns = ['text', 'relation', 'abs', 'e1', 'e2']\n",
    "df_exp"
   ]
  },
  {
   "cell_type": "code",
   "execution_count": 6,
   "id": "1901841a",
   "metadata": {},
   "outputs": [
    {
     "data": {
      "text/plain": [
       "array(['false', 'CPR:4', 'CPR:6', 'CPR:5', 'CPR:9', 'CPR:3'], dtype=object)"
      ]
     },
     "execution_count": 6,
     "metadata": {},
     "output_type": "execute_result"
    }
   ],
   "source": [
    "unique_relations = df_exp['relation'].unique()\n",
    "unique_relations"
   ]
  },
  {
   "cell_type": "code",
   "execution_count": 7,
   "id": "a93cd8c8",
   "metadata": {},
   "outputs": [
    {
     "data": {
      "text/plain": [
       "<AxesSubplot:>"
      ]
     },
     "execution_count": 7,
     "metadata": {},
     "output_type": "execute_result"
    },
    {
     "data": {
      "image/png": "[encoded data removed]",
      "text/plain": [
       "<Figure size 432x288 with 1 Axes>"
      ]
     },
     "metadata": {
      "needs_background": "light"
     },
     "output_type": "display_data"
    }
   ],
   "source": [
    "df_exp['relation'].hist()"
   ]
  },
  {
   "cell_type": "code",
   "execution_count": 8,
   "id": "a0626843",
   "metadata": {},
   "outputs": [
    {
     "data": {
      "text/html": [
       "<div>\n",
       "<style scoped>\n",
       "    .dataframe tbody tr th:only-of-type {\n",
       "        vertical-align: middle;\n",
       "    }\n",
       "\n",
       "    .dataframe tbody tr th {\n",
       "        vertical-align: top;\n",
       "    }\n",
       "\n",
       "    .dataframe thead th {\n",
       "        text-align: right;\n",
       "    }\n",
       "</style>\n",
       "<table border=\"1\" class=\"dataframe\">\n",
       "  <thead>\n",
       "    <tr style=\"text-align: right;\">\n",
       "      <th></th>\n",
       "      <th>total</th>\n",
       "      <th>percentage</th>\n",
       "    </tr>\n",
       "  </thead>\n",
       "  <tbody>\n",
       "    <tr>\n",
       "      <th>false</th>\n",
       "      <td>13923</td>\n",
       "      <td>77.199889</td>\n",
       "    </tr>\n",
       "    <tr>\n",
       "      <th>CPR:4</th>\n",
       "      <td>2227</td>\n",
       "      <td>12.348212</td>\n",
       "    </tr>\n",
       "    <tr>\n",
       "      <th>CPR:3</th>\n",
       "      <td>756</td>\n",
       "      <td>4.191849</td>\n",
       "    </tr>\n",
       "    <tr>\n",
       "      <th>CPR:9</th>\n",
       "      <td>727</td>\n",
       "      <td>4.031051</td>\n",
       "    </tr>\n",
       "    <tr>\n",
       "      <th>CPR:6</th>\n",
       "      <td>229</td>\n",
       "      <td>1.269753</td>\n",
       "    </tr>\n",
       "    <tr>\n",
       "      <th>CPR:5</th>\n",
       "      <td>173</td>\n",
       "      <td>0.959246</td>\n",
       "    </tr>\n",
       "  </tbody>\n",
       "</table>\n",
       "</div>"
      ],
      "text/plain": [
       "       total  percentage\n",
       "false  13923   77.199889\n",
       "CPR:4   2227   12.348212\n",
       "CPR:3    756    4.191849\n",
       "CPR:9    727    4.031051\n",
       "CPR:6    229    1.269753\n",
       "CPR:5    173    0.959246"
      ]
     },
     "execution_count": 8,
     "metadata": {},
     "output_type": "execute_result"
    }
   ],
   "source": [
    "n_relations = df_exp['relation'].value_counts()\n",
    "df_rel = pd.DataFrame({'total': n_relations, 'percentage': n_relations * 100 / n_relations.sum()})\n",
    "df_rel"
   ]
  },
  {
   "cell_type": "code",
   "execution_count": 9,
   "id": "88edd819",
   "metadata": {},
   "outputs": [
    {
     "name": "stderr",
     "output_type": "stream",
     "text": [
      "/tmp/ipykernel_7555/1110530460.py:10: MatplotlibDeprecationWarning: Support for passing numbers through unit converters is deprecated since 3.5 and support will be removed two minor releases later; use Axis.convert_units instead.\n",
      "  ax[i].set_xticks([])\n",
      "/tmp/ipykernel_7555/1110530460.py:10: MatplotlibDeprecationWarning: Support for passing numbers through unit converters is deprecated since 3.5 and support will be removed two minor releases later; use Axis.convert_units instead.\n",
      "  ax[i].set_xticks([])\n",
      "/tmp/ipykernel_7555/1110530460.py:10: MatplotlibDeprecationWarning: Support for passing numbers through unit converters is deprecated since 3.5 and support will be removed two minor releases later; use Axis.convert_units instead.\n",
      "  ax[i].set_xticks([])\n",
      "/tmp/ipykernel_7555/1110530460.py:10: MatplotlibDeprecationWarning: Support for passing numbers through unit converters is deprecated since 3.5 and support will be removed two minor releases later; use Axis.convert_units instead.\n",
      "  ax[i].set_xticks([])\n",
      "/tmp/ipykernel_7555/1110530460.py:10: MatplotlibDeprecationWarning: Support for passing numbers through unit converters is deprecated since 3.5 and support will be removed two minor releases later; use Axis.convert_units instead.\n",
      "  ax[i].set_xticks([])\n",
      "/tmp/ipykernel_7555/1110530460.py:10: MatplotlibDeprecationWarning: Support for passing numbers through unit converters is deprecated since 3.5 and support will be removed two minor releases later; use Axis.convert_units instead.\n",
      "  ax[i].set_xticks([])\n"
     ]
    },
    {
     "data": {
      "image/png": "[encoded data removed]",
      "text/plain": [
       "<Figure size 921.6x921.6 with 6 Axes>"
      ]
     },
     "metadata": {
      "needs_background": "light"
     },
     "output_type": "display_data"
    }
   ],
   "source": [
    "%matplotlib inline\n",
    "import matplotlib.pyplot as plt\n",
    "\n",
    "fig, ax = plt.subplots(len(unique_relations), figsize=(12.8, 12.8))\n",
    "for i, relation in enumerate(unique_relations):\n",
    "    df_tmp = df_exp[df_exp['relation'] == relation]\n",
    "    ax[i].hist(df_tmp['abs'], bins=df_exp['abs'].nunique())\n",
    "    ax[i].set_title(f\"{relation}\")\n",
    "    ax[i].set_xticklabels([])\n",
    "    ax[i].set_xticks([])"
   ]
  },
  {
   "cell_type": "code",
   "execution_count": 10,
   "id": "e46ab69f",
   "metadata": {},
   "outputs": [
    {
     "data": {
      "text/html": [
       "<div>\n",
       "<style scoped>\n",
       "    .dataframe tbody tr th:only-of-type {\n",
       "        vertical-align: middle;\n",
       "    }\n",
       "\n",
       "    .dataframe tbody tr th {\n",
       "        vertical-align: top;\n",
       "    }\n",
       "\n",
       "    .dataframe thead th {\n",
       "        text-align: right;\n",
       "    }\n",
       "</style>\n",
       "<table border=\"1\" class=\"dataframe\">\n",
       "  <thead>\n",
       "    <tr style=\"text-align: right;\">\n",
       "      <th></th>\n",
       "      <th>false</th>\n",
       "      <th>CPR:4</th>\n",
       "      <th>CPR:6</th>\n",
       "      <th>CPR:5</th>\n",
       "      <th>CPR:9</th>\n",
       "      <th>CPR:3</th>\n",
       "    </tr>\n",
       "  </thead>\n",
       "  <tbody>\n",
       "    <tr>\n",
       "      <th>0</th>\n",
       "      <td>190.0</td>\n",
       "      <td>46.0</td>\n",
       "      <td>11.0</td>\n",
       "      <td>12.0</td>\n",
       "      <td>25.0</td>\n",
       "      <td>17.0</td>\n",
       "    </tr>\n",
       "    <tr>\n",
       "      <th>1</th>\n",
       "      <td>147.0</td>\n",
       "      <td>34.0</td>\n",
       "      <td>8.0</td>\n",
       "      <td>11.0</td>\n",
       "      <td>24.0</td>\n",
       "      <td>16.0</td>\n",
       "    </tr>\n",
       "    <tr>\n",
       "      <th>2</th>\n",
       "      <td>131.0</td>\n",
       "      <td>34.0</td>\n",
       "      <td>8.0</td>\n",
       "      <td>9.0</td>\n",
       "      <td>21.0</td>\n",
       "      <td>15.0</td>\n",
       "    </tr>\n",
       "    <tr>\n",
       "      <th>3</th>\n",
       "      <td>118.0</td>\n",
       "      <td>28.0</td>\n",
       "      <td>7.0</td>\n",
       "      <td>6.0</td>\n",
       "      <td>17.0</td>\n",
       "      <td>15.0</td>\n",
       "    </tr>\n",
       "    <tr>\n",
       "      <th>4</th>\n",
       "      <td>114.0</td>\n",
       "      <td>26.0</td>\n",
       "      <td>7.0</td>\n",
       "      <td>6.0</td>\n",
       "      <td>17.0</td>\n",
       "      <td>15.0</td>\n",
       "    </tr>\n",
       "    <tr>\n",
       "      <th>...</th>\n",
       "      <td>...</td>\n",
       "      <td>...</td>\n",
       "      <td>...</td>\n",
       "      <td>...</td>\n",
       "      <td>...</td>\n",
       "      <td>...</td>\n",
       "    </tr>\n",
       "    <tr>\n",
       "      <th>876</th>\n",
       "      <td>1.0</td>\n",
       "      <td>NaN</td>\n",
       "      <td>NaN</td>\n",
       "      <td>NaN</td>\n",
       "      <td>NaN</td>\n",
       "      <td>NaN</td>\n",
       "    </tr>\n",
       "    <tr>\n",
       "      <th>877</th>\n",
       "      <td>1.0</td>\n",
       "      <td>NaN</td>\n",
       "      <td>NaN</td>\n",
       "      <td>NaN</td>\n",
       "      <td>NaN</td>\n",
       "      <td>NaN</td>\n",
       "    </tr>\n",
       "    <tr>\n",
       "      <th>878</th>\n",
       "      <td>1.0</td>\n",
       "      <td>NaN</td>\n",
       "      <td>NaN</td>\n",
       "      <td>NaN</td>\n",
       "      <td>NaN</td>\n",
       "      <td>NaN</td>\n",
       "    </tr>\n",
       "    <tr>\n",
       "      <th>879</th>\n",
       "      <td>1.0</td>\n",
       "      <td>NaN</td>\n",
       "      <td>NaN</td>\n",
       "      <td>NaN</td>\n",
       "      <td>NaN</td>\n",
       "      <td>NaN</td>\n",
       "    </tr>\n",
       "    <tr>\n",
       "      <th>880</th>\n",
       "      <td>1.0</td>\n",
       "      <td>NaN</td>\n",
       "      <td>NaN</td>\n",
       "      <td>NaN</td>\n",
       "      <td>NaN</td>\n",
       "      <td>NaN</td>\n",
       "    </tr>\n",
       "  </tbody>\n",
       "</table>\n",
       "<p>881 rows × 6 columns</p>\n",
       "</div>"
      ],
      "text/plain": [
       "     false  CPR:4  CPR:6  CPR:5  CPR:9  CPR:3\n",
       "0    190.0   46.0   11.0   12.0   25.0   17.0\n",
       "1    147.0   34.0    8.0   11.0   24.0   16.0\n",
       "2    131.0   34.0    8.0    9.0   21.0   15.0\n",
       "3    118.0   28.0    7.0    6.0   17.0   15.0\n",
       "4    114.0   26.0    7.0    6.0   17.0   15.0\n",
       "..     ...    ...    ...    ...    ...    ...\n",
       "876    1.0    NaN    NaN    NaN    NaN    NaN\n",
       "877    1.0    NaN    NaN    NaN    NaN    NaN\n",
       "878    1.0    NaN    NaN    NaN    NaN    NaN\n",
       "879    1.0    NaN    NaN    NaN    NaN    NaN\n",
       "880    1.0    NaN    NaN    NaN    NaN    NaN\n",
       "\n",
       "[881 rows x 6 columns]"
      ]
     },
     "execution_count": 10,
     "metadata": {},
     "output_type": "execute_result"
    }
   ],
   "source": [
    "import numpy as np\n",
    "import seaborn as sns\n",
    "\n",
    "max_len = 881\n",
    "sns.set_theme(style=\"whitegrid\")\n",
    "freq_dict = {}\n",
    "\n",
    "for relation in unique_relations:\n",
    "    freq_dict[relation] = np.empty(max_len)\n",
    "    # fill with NaN to make arrays equal lenght\n",
    "    freq_dict[relation][:] = np.NaN\n",
    "    df_tmp = df_exp[df_exp['relation'] == relation]\n",
    "    counts = df_tmp['abs'].value_counts().to_numpy()\n",
    "    freq_dict[relation][:len(counts)] = counts\n",
    "    \n",
    "\n",
    "df_abs_freq = pd.DataFrame(freq_dict)\n",
    "df_abs_freq"
   ]
  },
  {
   "cell_type": "code",
   "execution_count": 11,
   "id": "d1043f09",
   "metadata": {},
   "outputs": [
    {
     "data": {
      "text/plain": [
       "(-5.0, 50.0)"
      ]
     },
     "execution_count": 11,
     "metadata": {},
     "output_type": "execute_result"
    },
    {
     "data": {
      "image/png": "[encoded data removed]",
      "text/plain": [
       "<Figure size 921.6x921.6 with 1 Axes>"
      ]
     },
     "metadata": {},
     "output_type": "display_data"
    }
   ],
   "source": [
    "plt.figure(figsize=(12.8, 12.8))\n",
    "ax = sns.violinplot(data=df_abs_freq)\n",
    "ax.set_ylim([-5, 50])"
   ]
  }
 ],
 "metadata": {
  "kernelspec": {
   "display_name": "Python 3 (ipykernel)",
   "language": "python",
   "name": "python3"
  },
  "language_info": {
   "codemirror_mode": {
    "name": "ipython",
    "version": 3
   },
   "file_extension": ".py",
   "mimetype": "text/x-python",
   "name": "python",
   "nbconvert_exporter": "python",
   "pygments_lexer": "ipython3",
   "version": "3.8.12"
  }
 },
 "nbformat": 4,
 "nbformat_minor": 5
}
