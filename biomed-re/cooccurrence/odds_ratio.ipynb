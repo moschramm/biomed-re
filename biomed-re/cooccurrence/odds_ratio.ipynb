{
 "cells": [
  {
   "cell_type": "markdown",
   "id": "23029462",
   "metadata": {},
   "source": [
    "# Log odds ratio prediction\n",
    "\n",
    "Predict binary relation between DrugProt entities based on log odds ratio. First determine unique entities based on the name from the entity file. Later improve on it by using database to determine unique entities."
   ]
  },
  {
   "cell_type": "code",
   "execution_count": 1,
   "id": "fdce6ba3",
   "metadata": {},
   "outputs": [
    {
     "data": {
      "text/html": [
       "<div>\n",
       "<style scoped>\n",
       "    .dataframe tbody tr th:only-of-type {\n",
       "        vertical-align: middle;\n",
       "    }\n",
       "\n",
       "    .dataframe tbody tr th {\n",
       "        vertical-align: top;\n",
       "    }\n",
       "\n",
       "    .dataframe thead th {\n",
       "        text-align: right;\n",
       "    }\n",
       "</style>\n",
       "<table border=\"1\" class=\"dataframe\">\n",
       "  <thead>\n",
       "    <tr style=\"text-align: right;\">\n",
       "      <th></th>\n",
       "      <th>id</th>\n",
       "      <th>text</th>\n",
       "      <th>relation</th>\n",
       "    </tr>\n",
       "  </thead>\n",
       "  <tbody>\n",
       "    <tr>\n",
       "      <th>0</th>\n",
       "      <td>17512723.T12.T3</td>\n",
       "      <td>@GENE$, a @CHEMICAL$ dehydrogenase causing Leb...</td>\n",
       "      <td>false</td>\n",
       "    </tr>\n",
       "    <tr>\n",
       "      <th>1</th>\n",
       "      <td>17512723.T13.T3</td>\n",
       "      <td>RDH12, a @CHEM-GENE$ causing Leber's congenita...</td>\n",
       "      <td>false</td>\n",
       "    </tr>\n",
       "    <tr>\n",
       "      <th>2</th>\n",
       "      <td>17512723.T2.T4</td>\n",
       "      <td>Three @CHEMICAL$ dehydrogenases (RDHs) were te...</td>\n",
       "      <td>false</td>\n",
       "    </tr>\n",
       "    <tr>\n",
       "      <th>3</th>\n",
       "      <td>17512723.T2.T8</td>\n",
       "      <td>Three @CHEMICAL$ dehydrogenases (@GENE$) were ...</td>\n",
       "      <td>false</td>\n",
       "    </tr>\n",
       "    <tr>\n",
       "      <th>4</th>\n",
       "      <td>17512723.T10.T2</td>\n",
       "      <td>Three @CHEM-GENE$ (RDHs) were tested for stero...</td>\n",
       "      <td>false</td>\n",
       "    </tr>\n",
       "    <tr>\n",
       "      <th>...</th>\n",
       "      <td>...</td>\n",
       "      <td>...</td>\n",
       "      <td>...</td>\n",
       "    </tr>\n",
       "    <tr>\n",
       "      <th>64724</th>\n",
       "      <td>17315049.T10.T12</td>\n",
       "      <td>Like other DPP-4 inhibitors, @CHEMICAL$ reduce...</td>\n",
       "      <td>false</td>\n",
       "    </tr>\n",
       "    <tr>\n",
       "      <th>64725</th>\n",
       "      <td>17315049.T10.T13</td>\n",
       "      <td>Like other DPP-4 inhibitors, @CHEMICAL$ reduce...</td>\n",
       "      <td>false</td>\n",
       "    </tr>\n",
       "    <tr>\n",
       "      <th>64726</th>\n",
       "      <td>17315049.T28.T10</td>\n",
       "      <td>Like other @GENE$ inhibitors, @CHEMICAL$ reduc...</td>\n",
       "      <td>INHIBITOR</td>\n",
       "    </tr>\n",
       "    <tr>\n",
       "      <th>64727</th>\n",
       "      <td>17315049.T10.T29</td>\n",
       "      <td>Like other DPP-4 inhibitors, @CHEMICAL$ reduce...</td>\n",
       "      <td>INDIRECT-DOWNREGULATOR</td>\n",
       "    </tr>\n",
       "    <tr>\n",
       "      <th>64728</th>\n",
       "      <td>17315049.T10.T30</td>\n",
       "      <td>Like other DPP-4 inhibitors, @CHEMICAL$ reduce...</td>\n",
       "      <td>INDIRECT-DOWNREGULATOR</td>\n",
       "    </tr>\n",
       "  </tbody>\n",
       "</table>\n",
       "<p>64729 rows × 3 columns</p>\n",
       "</div>"
      ],
      "text/plain": [
       "                     id                                               text  \\\n",
       "0       17512723.T12.T3  @GENE$, a @CHEMICAL$ dehydrogenase causing Leb...   \n",
       "1       17512723.T13.T3  RDH12, a @CHEM-GENE$ causing Leber's congenita...   \n",
       "2        17512723.T2.T4  Three @CHEMICAL$ dehydrogenases (RDHs) were te...   \n",
       "3        17512723.T2.T8  Three @CHEMICAL$ dehydrogenases (@GENE$) were ...   \n",
       "4       17512723.T10.T2  Three @CHEM-GENE$ (RDHs) were tested for stero...   \n",
       "...                 ...                                                ...   \n",
       "64724  17315049.T10.T12  Like other DPP-4 inhibitors, @CHEMICAL$ reduce...   \n",
       "64725  17315049.T10.T13  Like other DPP-4 inhibitors, @CHEMICAL$ reduce...   \n",
       "64726  17315049.T28.T10  Like other @GENE$ inhibitors, @CHEMICAL$ reduc...   \n",
       "64727  17315049.T10.T29  Like other DPP-4 inhibitors, @CHEMICAL$ reduce...   \n",
       "64728  17315049.T10.T30  Like other DPP-4 inhibitors, @CHEMICAL$ reduce...   \n",
       "\n",
       "                     relation  \n",
       "0                       false  \n",
       "1                       false  \n",
       "2                       false  \n",
       "3                       false  \n",
       "4                       false  \n",
       "...                       ...  \n",
       "64724                   false  \n",
       "64725                   false  \n",
       "64726               INHIBITOR  \n",
       "64727  INDIRECT-DOWNREGULATOR  \n",
       "64728  INDIRECT-DOWNREGULATOR  \n",
       "\n",
       "[64729 rows x 3 columns]"
      ]
     },
     "execution_count": 1,
     "metadata": {},
     "output_type": "execute_result"
    }
   ],
   "source": [
    "import pandas as pd\n",
    "from tqdm import tqdm\n",
    "\n",
    "processed_path = \"./data/drugprot/\"\n",
    "raw_path = \"./raw_data/drugprot-training-development-test-background/drugprot-gs-training-development/training/\"\n",
    "ent_file = raw_path + \"drugprot_training_entities.tsv\"\n",
    "# pre-processed data\n",
    "dev_file = processed_path + \"dev.tsv\"\n",
    "train_file = processed_path + \"train.tsv\"\n",
    "test_file = processed_path + \"test.tsv\"\n",
    "\n",
    "# train data\n",
    "df = pd.read_table(train_file, header=None, dtype=str, names=[\"id\", \"text\", \"relation\"])\n",
    "df"
   ]
  },
  {
   "cell_type": "code",
   "execution_count": 2,
   "id": "4c2d918b",
   "metadata": {},
   "outputs": [
    {
     "data": {
      "text/html": [
       "<div>\n",
       "<style scoped>\n",
       "    .dataframe tbody tr th:only-of-type {\n",
       "        vertical-align: middle;\n",
       "    }\n",
       "\n",
       "    .dataframe tbody tr th {\n",
       "        vertical-align: top;\n",
       "    }\n",
       "\n",
       "    .dataframe thead th {\n",
       "        text-align: right;\n",
       "    }\n",
       "</style>\n",
       "<table border=\"1\" class=\"dataframe\">\n",
       "  <thead>\n",
       "    <tr style=\"text-align: right;\">\n",
       "      <th></th>\n",
       "      <th>PMID</th>\n",
       "      <th>id</th>\n",
       "      <th>type</th>\n",
       "      <th>start</th>\n",
       "      <th>end</th>\n",
       "      <th>text</th>\n",
       "    </tr>\n",
       "  </thead>\n",
       "  <tbody>\n",
       "    <tr>\n",
       "      <th>0</th>\n",
       "      <td>11808879</td>\n",
       "      <td>T1</td>\n",
       "      <td>CHEMICAL</td>\n",
       "      <td>1165</td>\n",
       "      <td>1174</td>\n",
       "      <td>diazoxide</td>\n",
       "    </tr>\n",
       "    <tr>\n",
       "      <th>1</th>\n",
       "      <td>11808879</td>\n",
       "      <td>T2</td>\n",
       "      <td>CHEMICAL</td>\n",
       "      <td>1450</td>\n",
       "      <td>1459</td>\n",
       "      <td>Diazoxide</td>\n",
       "    </tr>\n",
       "    <tr>\n",
       "      <th>2</th>\n",
       "      <td>11808879</td>\n",
       "      <td>T3</td>\n",
       "      <td>CHEMICAL</td>\n",
       "      <td>1901</td>\n",
       "      <td>1910</td>\n",
       "      <td>diazoxide</td>\n",
       "    </tr>\n",
       "    <tr>\n",
       "      <th>3</th>\n",
       "      <td>11808879</td>\n",
       "      <td>T4</td>\n",
       "      <td>CHEMICAL</td>\n",
       "      <td>1993</td>\n",
       "      <td>2002</td>\n",
       "      <td>glutamate</td>\n",
       "    </tr>\n",
       "    <tr>\n",
       "      <th>4</th>\n",
       "      <td>11808879</td>\n",
       "      <td>T5</td>\n",
       "      <td>CHEMICAL</td>\n",
       "      <td>917</td>\n",
       "      <td>924</td>\n",
       "      <td>glucose</td>\n",
       "    </tr>\n",
       "    <tr>\n",
       "      <th>...</th>\n",
       "      <td>...</td>\n",
       "      <td>...</td>\n",
       "      <td>...</td>\n",
       "      <td>...</td>\n",
       "      <td>...</td>\n",
       "      <td>...</td>\n",
       "    </tr>\n",
       "    <tr>\n",
       "      <th>89524</th>\n",
       "      <td>17653133</td>\n",
       "      <td>T21</td>\n",
       "      <td>GENE-N</td>\n",
       "      <td>572</td>\n",
       "      <td>580</td>\n",
       "      <td>protease</td>\n",
       "    </tr>\n",
       "    <tr>\n",
       "      <th>89525</th>\n",
       "      <td>17653133</td>\n",
       "      <td>T22</td>\n",
       "      <td>GENE-N</td>\n",
       "      <td>744</td>\n",
       "      <td>752</td>\n",
       "      <td>Arginase</td>\n",
       "    </tr>\n",
       "    <tr>\n",
       "      <th>89526</th>\n",
       "      <td>17653133</td>\n",
       "      <td>T23</td>\n",
       "      <td>GENE-N</td>\n",
       "      <td>756</td>\n",
       "      <td>777</td>\n",
       "      <td>nitric oxide synthase</td>\n",
       "    </tr>\n",
       "    <tr>\n",
       "      <th>89527</th>\n",
       "      <td>17653133</td>\n",
       "      <td>T24</td>\n",
       "      <td>GENE-Y</td>\n",
       "      <td>897</td>\n",
       "      <td>901</td>\n",
       "      <td>DDAH</td>\n",
       "    </tr>\n",
       "    <tr>\n",
       "      <th>89528</th>\n",
       "      <td>17653133</td>\n",
       "      <td>T25</td>\n",
       "      <td>GENE-Y</td>\n",
       "      <td>17</td>\n",
       "      <td>56</td>\n",
       "      <td>dimethylarginine dimethylaminohydrolase</td>\n",
       "    </tr>\n",
       "  </tbody>\n",
       "</table>\n",
       "<p>89529 rows × 6 columns</p>\n",
       "</div>"
      ],
      "text/plain": [
       "           PMID   id      type start   end  \\\n",
       "0      11808879   T1  CHEMICAL  1165  1174   \n",
       "1      11808879   T2  CHEMICAL  1450  1459   \n",
       "2      11808879   T3  CHEMICAL  1901  1910   \n",
       "3      11808879   T4  CHEMICAL  1993  2002   \n",
       "4      11808879   T5  CHEMICAL   917   924   \n",
       "...         ...  ...       ...   ...   ...   \n",
       "89524  17653133  T21    GENE-N   572   580   \n",
       "89525  17653133  T22    GENE-N   744   752   \n",
       "89526  17653133  T23    GENE-N   756   777   \n",
       "89527  17653133  T24    GENE-Y   897   901   \n",
       "89528  17653133  T25    GENE-Y    17    56   \n",
       "\n",
       "                                          text  \n",
       "0                                    diazoxide  \n",
       "1                                    Diazoxide  \n",
       "2                                    diazoxide  \n",
       "3                                    glutamate  \n",
       "4                                      glucose  \n",
       "...                                        ...  \n",
       "89524                                 protease  \n",
       "89525                                 Arginase  \n",
       "89526                    nitric oxide synthase  \n",
       "89527                                     DDAH  \n",
       "89528  dimethylarginine dimethylaminohydrolase  \n",
       "\n",
       "[89529 rows x 6 columns]"
      ]
     },
     "execution_count": 2,
     "metadata": {},
     "output_type": "execute_result"
    }
   ],
   "source": [
    "# entity data\n",
    "df_ent = pd.read_table(\n",
    "    ent_file,\n",
    "    header=None,\n",
    "    dtype=str,\n",
    "    names=[\"PMID\", \"id\", \"type\", \"start\", \"end\", \"text\"],\n",
    ")\n",
    "df_ent"
   ]
  },
  {
   "cell_type": "markdown",
   "id": "1f7f516e",
   "metadata": {},
   "source": [
    "## All entity combinations with binary relation"
   ]
  },
  {
   "cell_type": "code",
   "execution_count": 3,
   "id": "0cd416b6",
   "metadata": {},
   "outputs": [],
   "source": [
    "# df_test = df.iloc[:20, :]"
   ]
  },
  {
   "cell_type": "code",
   "execution_count": 5,
   "id": "02b232d2",
   "metadata": {
    "scrolled": true
   },
   "outputs": [
    {
     "name": "stderr",
     "output_type": "stream",
     "text": [
      "16696it [02:49, 80.95it/s]"
     ]
    },
    {
     "name": "stdout",
     "output_type": "stream",
     "text": [
      "Entity not a string: histamine H1-receptor, nan\n",
      "Entity not a string: histamine H1-receptor, nan\n",
      "Entity not a string: nan, alpha-adrenoceptors\n",
      "Entity not a string: nan, alpha-adrenoceptors\n",
      "Entity not a string: histamine H1-receptor, nan\n",
      "Entity not a string: histamine H1-receptor, nan\n",
      "Entity not a string: H1, nan\n",
      "Entity not a string: H1, nan\n",
      "Entity not a string: histamine H1-receptor, nan\n",
      "Entity not a string: histamine H1-receptor, nan\n"
     ]
    },
    {
     "name": "stderr",
     "output_type": "stream",
     "text": [
      "16713it [02:49, 78.21it/s]"
     ]
    },
    {
     "name": "stdout",
     "output_type": "stream",
     "text": [
      "Entity not a string: H1, nan\n",
      "Entity not a string: H1, nan\n"
     ]
    },
    {
     "name": "stderr",
     "output_type": "stream",
     "text": [
      "24349it [04:42, 61.41it/s]"
     ]
    },
    {
     "name": "stdout",
     "output_type": "stream",
     "text": [
      "Entity not a string: nan, NNMT\n",
      "Entity not a string: nan, NNMT\n",
      "Entity not a string: NNMT, nan\n",
      "Entity not a string: NNMT, nan\n"
     ]
    },
    {
     "name": "stderr",
     "output_type": "stream",
     "text": [
      "27139it [05:29, 59.27it/s]"
     ]
    },
    {
     "name": "stdout",
     "output_type": "stream",
     "text": [
      "Entity not a string: 5-HT1A, nan\n",
      "Entity not a string: 5-HT1A, nan\n",
      "Entity not a string: 5-HT1A, nan\n",
      "Entity not a string: 5-HT1A, nan\n",
      "Entity not a string: 5-HT1B/D, nan\n",
      "Entity not a string: 5-HT1B/D, nan\n"
     ]
    },
    {
     "name": "stderr",
     "output_type": "stream",
     "text": [
      "41886it [10:09, 47.46it/s]"
     ]
    },
    {
     "name": "stdout",
     "output_type": "stream",
     "text": [
      "Entity not a string: alpha 1 A-adrenoceptor, nan\n",
      "Entity not a string: alpha 1 A-adrenoceptor, nan\n",
      "Entity not a string: nan, alpha 1-adrenoceptor\n",
      "Entity not a string: nan, alpha 1-adrenoceptor\n",
      "Entity not a string: alpha 1A adrenoceptors, nan\n",
      "Entity not a string: alpha 1A adrenoceptors, nan\n"
     ]
    },
    {
     "name": "stderr",
     "output_type": "stream",
     "text": [
      "41901it [10:09, 47.26it/s]"
     ]
    },
    {
     "name": "stdout",
     "output_type": "stream",
     "text": [
      "Entity not a string: nan, alpha 1-adrenoceptor\n",
      "Entity not a string: nan, alpha 1-adrenoceptor\n"
     ]
    },
    {
     "name": "stderr",
     "output_type": "stream",
     "text": [
      "57694it [16:32, 37.20it/s]"
     ]
    },
    {
     "name": "stdout",
     "output_type": "stream",
     "text": [
      "Entity not a string: nan, alpha-2 AR\n",
      "Entity not a string: nan, alpha-2 AR\n",
      "Entity not a string: alpha-2CDel AR, nan\n",
      "Entity not a string: alpha-2CDel AR, nan\n"
     ]
    },
    {
     "name": "stderr",
     "output_type": "stream",
     "text": [
      "64729it [19:48, 54.45it/s]\n"
     ]
    }
   ],
   "source": [
    "import pickle\n",
    "\n",
    "def update_rel_dict(rel_dict, ent1, ent2, rel):\n",
    "    \"\"\"create dict of all occuring relations between different entities\"\"\"\n",
    "    # check that both entity texts are strings\n",
    "    if (not isinstance(ent1, str)) or (not isinstance(ent2, str)):\n",
    "        print(f\"Entity not a string: {ent1}, {ent2}\")\n",
    "        return\n",
    "    if ent1 < ent2:\n",
    "        e1 = ent1\n",
    "        e2 = ent2\n",
    "    elif ent2 < ent1:\n",
    "        e1 = ent2\n",
    "        e2 = ent1\n",
    "    else:\n",
    "        print(f\"Neither entity string is smaller: {ent1}, {ent2}\")\n",
    "        return\n",
    "    if e1 in rel_dict:\n",
    "        if e2 in rel_dict[e1]:\n",
    "            if rel not in rel_dict[e1][e2]:\n",
    "                rel_dict[e1][e2].append(rel)\n",
    "        else:\n",
    "            rel_dict[e1][e2] = [rel]\n",
    "    else:\n",
    "        rel_dict[e1] = {}\n",
    "        rel_dict[e1][e2] = [rel]\n",
    "\n",
    "def update_co_count(co_count, ent1, ent2):\n",
    "    \"\"\"count number of cooccurences of two entities without using labels\"\"\"\n",
    "    # check that both entity texts are strings\n",
    "    if (not isinstance(ent1, str)) or (not isinstance(ent2, str)):\n",
    "        print(f\"Entity not a string: {ent1}, {ent2}\")\n",
    "        return\n",
    "    if ent1 < ent2:\n",
    "        e1 = ent1\n",
    "        e2 = ent2\n",
    "    elif ent2 < ent1:\n",
    "        e1 = ent2\n",
    "        e2 = ent1\n",
    "    else:\n",
    "        print(f\"Neither entity string is smaller: {ent1}, {ent2}\")\n",
    "        return\n",
    "    if e1 in co_count:\n",
    "        if e2 in co_count[e1]:\n",
    "            co_count[e1][e2] += 1\n",
    "        else:\n",
    "            co_count[e1][e2] = 1\n",
    "    else:\n",
    "        co_count[e1] = {}\n",
    "        co_count[e1][e2] = 1\n",
    "\n",
    "rel_dict = {}\n",
    "unsup_co_count = {}\n",
    "for idx, text, relation in tqdm(df.itertuples(index=False)):\n",
    "    PMID, e1, e2 = idx.split(\".\")\n",
    "    # entity IDs should be different\n",
    "    if e1 == e2:\n",
    "        continue\n",
    "    df_pmid = df_ent.loc[df_ent[\"PMID\"] == PMID, :]\n",
    "    ent1 = df_pmid.loc[df_pmid[\"id\"] == e1, :][\"text\"].values[0]\n",
    "    ent2 = df_pmid.loc[df_pmid[\"id\"] == e2, :][\"text\"].values[0]\n",
    "    # entity text should be different\n",
    "    if ent1 == ent2:\n",
    "        continue\n",
    "    if relation != 'false':\n",
    "        rel = 'related'\n",
    "    else:\n",
    "        rel = 'false'\n",
    "    update_rel_dict(rel_dict, ent1, ent2, rel)\n",
    "    update_co_count(unsup_co_count, ent1, ent2)\n",
    "    # save dict\n",
    "    pickle.dump(rel_dict, open(\"bin_rel_dict.p\", \"wb\"))\n",
    "    pickle.dump(unsup_co_count, open(\"unsup_co_dict.p\", \"wb\"))"
   ]
  },
  {
   "cell_type": "markdown",
   "id": "f486e345",
   "metadata": {},
   "source": [
    "## Unsupervised log odds ratio prediction"
   ]
  },
  {
   "cell_type": "code",
   "execution_count": 5,
   "id": "bc86dfae",
   "metadata": {},
   "outputs": [
    {
     "data": {
      "text/plain": [
       "11342"
      ]
     },
     "execution_count": 5,
     "metadata": {},
     "output_type": "execute_result"
    }
   ],
   "source": [
    "len(unsup_co_count)"
   ]
  },
  {
   "cell_type": "code",
   "execution_count": 3,
   "id": "f1c14198",
   "metadata": {},
   "outputs": [],
   "source": [
    "import pickle\n",
    "\n",
    "ent_count = pickle.load(open(\"ent_count_dict.p\", \"rb\"))\n",
    "# unsup_co_count = pickle.load(open(\"unsup_co_dict.p\", \"rb\"))\n",
    "# rel_dict = pickle.load(open(\"bin_rel_dict.p\", \"rb\"))"
   ]
  },
  {
   "cell_type": "code",
   "execution_count": 4,
   "id": "29a72de8",
   "metadata": {},
   "outputs": [
    {
     "ename": "NameError",
     "evalue": "name 'unsup_co_count' is not defined",
     "output_type": "error",
     "traceback": [
      "\u001b[0;31m---------------------------------------------------------------------------\u001b[0m",
      "\u001b[0;31mNameError\u001b[0m                                 Traceback (most recent call last)",
      "\u001b[0;32m/tmp/ipykernel_15636/487882502.py\u001b[0m in \u001b[0;36m<module>\u001b[0;34m\u001b[0m\n\u001b[1;32m      7\u001b[0m \u001b[0munsup_co_dict\u001b[0m \u001b[0;34m=\u001b[0m \u001b[0;34m{\u001b[0m\u001b[0;34m}\u001b[0m\u001b[0;34m\u001b[0m\u001b[0;34m\u001b[0m\u001b[0m\n\u001b[1;32m      8\u001b[0m \u001b[0munsup_co_list\u001b[0m \u001b[0;34m=\u001b[0m \u001b[0;34m[\u001b[0m\u001b[0;34m]\u001b[0m\u001b[0;34m\u001b[0m\u001b[0;34m\u001b[0m\u001b[0m\n\u001b[0;32m----> 9\u001b[0;31m \u001b[0;32mfor\u001b[0m \u001b[0me1\u001b[0m \u001b[0;32min\u001b[0m \u001b[0mtqdm\u001b[0m\u001b[0;34m(\u001b[0m\u001b[0munsup_co_count\u001b[0m\u001b[0;34m)\u001b[0m\u001b[0;34m:\u001b[0m\u001b[0;34m\u001b[0m\u001b[0;34m\u001b[0m\u001b[0m\n\u001b[0m\u001b[1;32m     10\u001b[0m     \u001b[0munsup_co_dict\u001b[0m\u001b[0;34m[\u001b[0m\u001b[0me1\u001b[0m\u001b[0;34m]\u001b[0m \u001b[0;34m=\u001b[0m \u001b[0;34m{\u001b[0m\u001b[0;34m}\u001b[0m\u001b[0;34m\u001b[0m\u001b[0;34m\u001b[0m\u001b[0m\n\u001b[1;32m     11\u001b[0m     \u001b[0;32mfor\u001b[0m \u001b[0me2\u001b[0m \u001b[0;32min\u001b[0m \u001b[0munsup_co_count\u001b[0m\u001b[0;34m[\u001b[0m\u001b[0me1\u001b[0m\u001b[0;34m]\u001b[0m\u001b[0;34m:\u001b[0m\u001b[0;34m\u001b[0m\u001b[0;34m\u001b[0m\u001b[0m\n",
      "\u001b[0;31mNameError\u001b[0m: name 'unsup_co_count' is not defined"
     ]
    }
   ],
   "source": [
    "def unsup_cooc(unsup_co_dict, ent1, ent2, co_val):\n",
    "    unsup_cooc[ent1][ent2] = co_val\n",
    "    \n",
    "from math import log2\n",
    "\n",
    "n = len(df)\n",
    "unsup_co_dict = {}\n",
    "unsup_co_list = []\n",
    "for e1 in tqdm(unsup_co_count):\n",
    "    unsup_co_dict[e1] = {}\n",
    "    for e2 in unsup_co_count[e1]:\n",
    "        unsup_co_dict[e1][e2] = log2((n * unsup_co_count[e1][e2]) / (ent_count[e1] * ent_count[e2]))\n",
    "        unsup_co_list.append(unsup_co_dict[e1][e2])"
   ]
  },
  {
   "cell_type": "code",
   "execution_count": 9,
   "id": "d5cba9f1",
   "metadata": {},
   "outputs": [
    {
     "data": {
      "image/png": "[encoded data removed]",
      "text/plain": [
       "<Figure size 432x288 with 1 Axes>"
      ]
     },
     "metadata": {
      "needs_background": "light"
     },
     "output_type": "display_data"
    }
   ],
   "source": [
    "import numpy as np\n",
    "import math\n",
    "import matplotlib.pyplot as plt\n",
    "\n",
    "clf = unsup_co_list\n",
    "bins = np.linspace(math.ceil(min(clf)), \n",
    "                   math.floor(max(clf)),\n",
    "                   50) # fixed number of bins\n",
    "\n",
    "plt.xlim([min(clf), max(clf)])\n",
    "\n",
    "plt.hist(unsup_co_list, bins=bins, alpha=0.5)\n",
    "plt.title('Unsupervised cooccurence of entities')\n",
    "plt.xlabel('entity combinations')\n",
    "plt.ylabel('count')\n",
    "\n",
    "plt.show()"
   ]
  },
  {
   "cell_type": "code",
   "execution_count": 10,
   "id": "43853aed",
   "metadata": {},
   "outputs": [
    {
     "name": "stderr",
     "output_type": "stream",
     "text": [
      "100%|█████████████████████████████████| 11342/11342 [00:00<00:00, 183436.92it/s]"
     ]
    },
    {
     "name": "stdout",
     "output_type": "stream",
     "text": [
      "[12.174769673304432, 8.827306486309931, 14.39716209464088, 10.075233999753518, 5.0979540762536, 11.660196500474674, 12.660196500474674, 7.9597567823335815, 4.693258521196216, 8.419882171140964]\n",
      "[8.34187965913969, 10.367414751246828, 7.7824522505256715, 7.02502255379975, 10.149234581197295, 9.564272080476139, 6.564272080476138, 6.242343985588776, 9.149234581197295, 7.827306486309932]\n"
     ]
    },
    {
     "name": "stderr",
     "output_type": "stream",
     "text": [
      "\n"
     ]
    }
   ],
   "source": [
    "def binary_class_ratios(unsup_co_dict, bin_rel_dict, unambiguos=False):\n",
    "    \"\"\"returns two lists with log odds ratios, one for related entities and on for unrelated ('false')\"\"\"\n",
    "    rel_list = []; false_list = []; label_list = []\n",
    "    for e1 in tqdm(unsup_co_count):\n",
    "        unsup_co_dict[e1] = {}\n",
    "        for e2 in unsup_co_count[e1]:\n",
    "            log_odds = log2((n * unsup_co_count[e1][e2]) / (ent_count[e1] * ent_count[e2]))\n",
    "            if unambiguos:\n",
    "                if len(bin_rel_dict[e1][e2]) != 1:\n",
    "                    continue\n",
    "            if 'false' in bin_rel_dict[e1][e2]:\n",
    "                false_list.append(log_odds)\n",
    "                label_list.append(False)\n",
    "            if 'related' in bin_rel_dict[e1][e2]:\n",
    "                rel_list.append(log_odds)\n",
    "                label_list.append(True)\n",
    "    return rel_list, false_list\n",
    "\n",
    "reulated, unrelated = binary_class_ratios(unsup_co_dict, rel_dict, False)"
   ]
  },
  {
   "cell_type": "code",
   "execution_count": 11,
   "id": "e8e9ff79",
   "metadata": {},
   "outputs": [
    {
     "data": {
      "image/png": "[encoded data removed]",
      "text/plain": [
       "<Figure size 864x576 with 1 Axes>"
      ]
     },
     "metadata": {
      "needs_background": "light"
     },
     "output_type": "display_data"
    }
   ],
   "source": [
    "bins = np.linspace(math.ceil(min([min(related), min(unrelated)])), \n",
    "                   math.floor(max([max(related), max(unrelated)])),\n",
    "                   50) # fixed number of bins\n",
    "\n",
    "fig = plt.figure(figsize=(12, 8))\n",
    "plt.xlim([min([min(related), min(unrelated)]), max([max(related), max(unrelated)])])\n",
    "\n",
    "plt.hist(related, bins=bins, alpha=0.5, label='related', edgecolor = \"black\")\n",
    "plt.hist(unrelated, bins=bins, alpha=0.5, label='unrelated', edgecolor = \"black\")\n",
    "plt.title('Unsupervised cooccurence of entities')\n",
    "plt.xlabel('entity combinations')\n",
    "plt.ylabel('count')\n",
    "plt.legend()\n",
    "plt.show()"
   ]
  },
  {
   "cell_type": "markdown",
   "id": "4520b034",
   "metadata": {},
   "source": [
    "## Prediction on train data"
   ]
  },
  {
   "cell_type": "code",
   "execution_count": null,
   "id": "b5f34e31",
   "metadata": {},
   "outputs": [],
   "source": [
    "def predict(co_dict, threshold):\n",
    "    pred_dict = {}; pred_list = []\n",
    "    for e1 in co_dict:\n",
    "        pred_dict[e1] = {}\n",
    "        for e2 in co_dict[e1]:\n",
    "            if co_dict[e1][e2] >= threshold:\n",
    "                pred_dict[e1][e2] = True\n",
    "                pred_list.append(True)\n",
    "            else:\n",
    "                pred_dict[e1][e2] = False\n",
    "                pred_list.append(False)\n",
    "    return pred_dict, pred_list"
   ]
  },
  {
   "cell_type": "code",
   "execution_count": null,
   "id": "4c19aa8b",
   "metadata": {},
   "outputs": [],
   "source": [
    "from sklearn.metrics import precision_recall_fscore_support\n",
    "p, r, f, s = precision_recall_fscore_support(label, pred)\n",
    "\n",
    "thresholds = np.linspace(math.ceil(min([min(related), min(unrelated)])), \n",
    "                   math.floor(max([max(related), max(unrelated)])),\n",
    "                   50) # fixed number of thresholds\n",
    "eval_dict = {}\n",
    "\n",
    "for t in thresholds:\n",
    "    pred_dict, pred_list = predict(unsup_co_dict, t)\n",
    "    p, r, f, _ = precision_recall_fscore_support(label_list, pred_list)\n",
    "    eval_dict[t] = (p, r, f)"
   ]
  },
  {
   "cell_type": "markdown",
   "id": "3b8826c7",
   "metadata": {},
   "source": [
    "## Kernel Density Estimate"
   ]
  },
  {
   "cell_type": "code",
   "execution_count": 12,
   "id": "ca7ea429",
   "metadata": {},
   "outputs": [],
   "source": [
    "from sklearn.neighbors import KernelDensity\n",
    "import numpy as np\n",
    "\n",
    "related_array = np.array(related)\n",
    "related_array = related_array.reshape(-1, 1)\n",
    "unrelated_array = np.array(unrelated)\n",
    "unrelated_array = unrelated_array.reshape(-1, 1)\n",
    "\n",
    "kde_rel = KernelDensity(kernel='gaussian', bandwidth=0.2).fit(related_array)\n",
    "kde_un = KernelDensity(kernel='gaussian', bandwidth=0.2).fit(unrelated_array)"
   ]
  },
  {
   "cell_type": "code",
   "execution_count": 13,
   "id": "4a7b499a",
   "metadata": {},
   "outputs": [
    {
     "data": {
      "text/plain": [
       "[]"
      ]
     },
     "execution_count": 13,
     "metadata": {},
     "output_type": "execute_result"
    },
    {
     "data": {
      "image/png": "[encoded data removed]",
      "text/plain": [
       "<Figure size 432x288 with 1 Axes>"
      ]
     },
     "metadata": {
      "needs_background": "light"
     },
     "output_type": "display_data"
    }
   ],
   "source": [
    "samples_rel = kde_rel.sample(10000)\n",
    "samples_un = kde_un.sample(10000)\n",
    "\n",
    "plt.hist(samples_rel, bins = 100, label='related', alpha=0.5)\n",
    "plt.hist(samples_un, bins=100, label='unrelated', alpha=0.5)\n",
    "plt.legend()\n",
    "plt.plot()"
   ]
  },
  {
   "cell_type": "code",
   "execution_count": 21,
   "id": "2d03c9cc",
   "metadata": {},
   "outputs": [
    {
     "name": "stdout",
     "output_type": "stream",
     "text": [
      "[-2.49821186 -1.97200383 -4.01056971 ... -2.60179603 -2.60179603\n",
      " -2.60179603]\n",
      "[-3.01125392 -2.08510652 -4.72053307 ... -3.1043664  -3.1043664\n",
      " -3.1043664 ]\n",
      "[-1.93859157 -2.04627146 -2.02473074 ... -2.60179603 -2.60179603\n",
      " -2.37265204]\n",
      "[-2.03049421 -2.30859886 -2.06221919 ... -3.1043664  -3.1043664\n",
      " -2.16467279]\n"
     ]
    }
   ],
   "source": [
    "# prediction\n",
    "def predict_kde(kde_rel, kde_un, data):\n",
    "    score_rel = kde_rel.score_samples(data)\n",
    "    score_un = kde_un.score_samples(data)\n",
    "    prediction = score_rel > score_un\n",
    "    return prediction\n",
    "\n",
    "pred_rel = predict_kde(kde_rel, kde_un, related_array)\n",
    "pred_un = predict_kde(kde_rel, kde_un, unrelated_array)"
   ]
  },
  {
   "cell_type": "code",
   "execution_count": 26,
   "id": "8e5b6b1e",
   "metadata": {},
   "outputs": [
    {
     "name": "stdout",
     "output_type": "stream",
     "text": [
      "0.681206806866315\n",
      "0.5438812527040969\n"
     ]
    }
   ],
   "source": [
    "print(sum(pred_rel) / len(pred_rel))\n",
    "print(sum(pred_un) / len(pred_un))"
   ]
  },
  {
   "cell_type": "markdown",
   "id": "fd6ca60e",
   "metadata": {},
   "source": [
    "# Prediction on dev data"
   ]
  },
  {
   "cell_type": "code",
   "execution_count": 41,
   "id": "a0de46fe",
   "metadata": {},
   "outputs": [],
   "source": [
    "ent_file = \"./raw_data/drugprot-training-development-test-background/drugprot-gs-training-development/development/drugprot_development_entities.tsv\"\n",
    "\n",
    "# dev data\n",
    "df = pd.read_table(dev_file, header=None, dtype=str, names=[\"id\", \"text\", \"relation\"])\n",
    "# entity data\n",
    "df_ent = pd.read_table(\n",
    "    ent_file,\n",
    "    header=None,\n",
    "    dtype=str,\n",
    "    names=[\"PMID\", \"id\", \"type\", \"start\", \"end\", \"text\"],\n",
    ")"
   ]
  },
  {
   "cell_type": "code",
   "execution_count": 44,
   "id": "91cce908",
   "metadata": {},
   "outputs": [
    {
     "name": "stderr",
     "output_type": "stream",
     "text": [
      "7976it [00:26, 251.58it/s]"
     ]
    },
    {
     "name": "stdout",
     "output_type": "stream",
     "text": [
      "Entity not a string: alpha 1-adrenoceptor, nan\n"
     ]
    },
    {
     "name": "stderr",
     "output_type": "stream",
     "text": [
      "11754it [00:43, 214.94it/s]"
     ]
    },
    {
     "name": "stdout",
     "output_type": "stream",
     "text": [
      "Entity not a string: nan, noradrenaline transporter\n",
      "Entity not a string: nan, NAT\n"
     ]
    },
    {
     "name": "stderr",
     "output_type": "stream",
     "text": [
      "13445it [00:51, 261.08it/s]\n"
     ]
    }
   ],
   "source": [
    "import pickle\n",
    "\n",
    "def update_ent_count(ent_count, ent):\n",
    "    \"\"\"count how many times an entity is mentioned in total\"\"\"\n",
    "    if ent in ent_count:\n",
    "        ent_count[ent] += 1\n",
    "    else:\n",
    "        ent_count[ent] = 1\n",
    "\n",
    "def update_co_count(co_count, ent1, ent2):\n",
    "    \"\"\"count number of cooccurences of two entities without using labels\"\"\"\n",
    "    # check that both entity texts are strings\n",
    "    if (not isinstance(ent1, str)) or (not isinstance(ent2, str)):\n",
    "        print(f\"Entity not a string: {ent1}, {ent2}\")\n",
    "        return\n",
    "    if ent1 < ent2:\n",
    "        e1 = ent1\n",
    "        e2 = ent2\n",
    "    elif ent2 < ent1:\n",
    "        e1 = ent2\n",
    "        e2 = ent1\n",
    "    else:\n",
    "        print(f\"Neither entity string is smaller: {ent1}, {ent2}\")\n",
    "        return\n",
    "    if e1 in co_count:\n",
    "        if e2 in co_count[e1]:\n",
    "            co_count[e1][e2] += 1\n",
    "        else:\n",
    "            co_count[e1][e2] = 1\n",
    "    else:\n",
    "        co_count[e1] = {}\n",
    "        co_count[e1][e2] = 1\n",
    "\n",
    "ent_count_dict = {}\n",
    "unsup_co_count = {}\n",
    "for idx, text, relation in tqdm(df.itertuples(index=False)):\n",
    "    PMID, e1, e2 = idx.split(\".\")\n",
    "    # entity IDs should be different\n",
    "    if e1 == e2:\n",
    "        continue\n",
    "    df_pmid = df_ent.loc[df_ent[\"PMID\"] == PMID, :]\n",
    "    ent1 = df_pmid.loc[df_pmid[\"id\"] == e1, :][\"text\"].values[0]\n",
    "    ent2 = df_pmid.loc[df_pmid[\"id\"] == e2, :][\"text\"].values[0]\n",
    "    # entity text should be different\n",
    "    if ent1 == ent2:\n",
    "        continue\n",
    "    update_ent_count(ent_count_dict, ent1)\n",
    "    update_ent_count(ent_count_dict, ent2)\n",
    "    update_co_count(unsup_co_count, ent1, ent2)\n",
    "    # save dict\n",
    "    pickle.dump(ent_count_dict, open(\"dev_ent_dict.p\", \"wb\"))\n",
    "    pickle.dump(unsup_co_count, open(\"dev_co_dict.p\", \"wb\"))"
   ]
  },
  {
   "cell_type": "code",
   "execution_count": 54,
   "id": "354f4fd6",
   "metadata": {},
   "outputs": [
    {
     "name": "stderr",
     "output_type": "stream",
     "text": [
      "13445it [00:42, 314.03it/s]"
     ]
    },
    {
     "name": "stdout",
     "output_type": "stream",
     "text": [
      "[True, True, True, True, True, True, False, False, False, False, True, False, True, False, False, False, False, False, False, True, True, True, True, True, True, True, False, False, False, True, True, True, True, True, True, True, True, False, True, False, False, True, False, False, True, False, True, False, False, True, True, True, False, True, True, False, False, False, False, False, False, True, True, True, True, False, True, True, True, True, False, True, True, True, True, True, False, False, True, True, True, True, True, True, False, False, True, True, True, True, True, True, True, True, True, True, True, True, True, True, True, True, True, True, True, True, False, True, True, True, True, True, True, True, True, True, True, True, False, True, True, False, True, True, True, True, True, False, True, True, True, True, True, True, True, True, True, True, True, True, True, True, False, False, False, False, True, True, True, True, True, True, True, True, True, True, True, True, True, True, True, True, True, True, True, True, True, False, True, True, True, True, True, True, True, False, False, True, True, True, True, True, True, True, True, True, True, True, True, True, True, True, True, True, True, True, True, True, True, True, False, False, False, False, True, False, False, True, True, False, False, True, True, True, True, True, True, True, True, True, True, True, True, True, True, True, True, False, True, False, False, False, False, False, False, True, True, False, False, True, True, True, True, False, True, True, True, True, True, True, True, True, True, True, True, False, False, False, False, False, False, False, False, False, False, False, False, False, False, False, False, False, False, True, True, True, True, True, False, True, True, True, True, False, False, False, False, False, False, False, False, True, False, False, False, False, False, False, True, False, True, False, False, False, False, False, False, False, False, False, False, False, False, False, False, False, False, False, False, True, True, True, True, True, True, False, True, True, False, False, True, False, True, False, True, False, False, True, True, True, True, True, True, True, True, True, True, True, True, True, True, True, True, False, True, True, True, True, True, False, True, True, True, True, True, True, False, True, False, False, False, False, False, True, False, True, False, True, False, False, True, False, False, False, False, False, True, True, True, True, True, True, True, True, True, True, True, True, False, False, False, True, False, False, True, True, True, True, True, True, False, True, False, True, True, True, True, True, False, False, False, False, False, False, False, False, False, False, False, False, False, False, False, False, False, False, False, False, False, False, False, False, False, False, False, False, False, False, False, False, False, False, False, False, False, False, False, False, False, False, False, False, False, False, False, False, False, False, False, False, False, False, False, False, False, False, False, False, False, False, False, False, False, False, False, False, False, False, False, False, False, False, False, False, False, False, False, False, False, False, False, False, False, False, False, False, False, False, False, False, False, False, False, False, False, False, False, False, False, False, False, False, False, False, False, False, False, False, False, False, False, False, False, False, False, False, False, False, False, False, False, False, False, False, False, False, True, True, True, True, True, True, True, True, True, False, False, True, True, True, False, False, False, True, True, True, True, True, False, True, True, True, False, True, True, True, False, False, True, False, False, False, False, True, True, True, False, False, False, False, False, False, False, False, True, True, True, False, True, True, True, True, False, False, True, True, True, False, False, False, False, True, False, False, True, False, False, False, False, True, False, True, False, True, True, True, True, True, True, False, False, False, True, True, True, True, True, False, False, False, False, False, False, False, False, True, True, True, True, True, False, False, False, False, True, True, False, False, False, False, False, False, False, False, False, False, False, True, False, False, False, True, True, True, True, False, True, True, True, True, True, False, True, True, False, False, True, False, True, True, True, True, True, True, True, True, True, True, True, True, True, True, True, True, False, False, False, False, True, True, True, False, False, False, False, False, False, True, False, True, False, True, True, True, True, True, True, False, True, False, False, False, False, False, True, False, True, True, True, True, True, False, False, True, False, True, False, True, False, False, True, True, True, True, True, True, False, True, True, True, True, True, True, True, False, False, False, False, True, False, False, True, False, False, True, True, False, True, False, False, False, False, False, True, False, False, False, False, False, False, False, False, False, False, False, False, False, False, False, False, False, False, False, False, False, False, False, False, False, False, False, False, False, False, False, False, False, False, False, False, False, False, False, False, False, True, True, True, True, True, True, True, True, True, True, True, True, True, True, True, False, True, True, False, True, True, False, False, False, False, True, False, False, False, False, False, False, False, True, True, True, True, False, False, False, False, False, False, False, True, False, False, False, False, True, False, True, True, False, True, False, True, True, True, True, False, False, False, False, True, True, True, True, True, True, True, True, True, False, False, False, False, False, False, False, False, True, False, False, False, False, False, True, True, True, True, True, True, False, False, False, False, True, True, True, False, False, False, False, False, False, False, False, False, False, True, False, False, False, True, False, False, False, False, False, False, False, False, False, False, False, False, False, False, False, False, False, False, False, False, False, False, False, False, False, False, False, False, False, False, False, False, False, False, False, False, False, True, False, False, False, False, False, True, False, False, False, False, False, True, False, True, True, True, True, False, False, False, False, False, False, True, True, True, True, False, False, False, False, False, False, False, False, False, False, False, False, False, True, True, True, True, True, True, True, True, True, True, True, True, False, True, True, True, True, True, True, False, True, True, True, True, True, True, True, True, True, True, False, False, False, False, False, False, False, True, True, False, True, True, True, True, True, False, True, False, False, True, True, True, True, True, False, False, False, True, False, False, False, False, False, False, False, False, False, False, False, False, False, False, False, False, False, False, False, False, False, False, False, False, False, False, False, False, False, False, False, True, False, False, False, False, False, False, False, False, False, False, False, False, False, False, False, False, False, False, True, True, True, True, True, True, True, True, False, True, True, True, True, True, True, False, True, True, False, False, True, True, False, False, False, True, True, True, True, True, True, True, False, False, True, True, True, False, False, False, False, True, True, True, True, False, False, False, False, False, False, False, True, True, True, True, True, True, True, False, True, True, True, True, True, True, False, False, True, True, True, True, True, True, True, True, False, False, False, False, False, False, False, True, False, True, True, True, True, True, True, True, True, True, True, True, True, True, True, True, True, True, True, True, True, True, True, True, True, False, False, False, True, False, False, False, False, False, False, False, False, False, True, False, False, False, False, True, True, True, True, True, True, True, True, False, False, True, False, False, False, True, False, True, True, False, False, False, False, True, True, True, True, False, False, False, False, True, True, True, False, False, False, True, False, False, False, False, False, False, False, False, True, True, True, True, True, False, False, False, True, True, False, False, False, False, False, False, False, False, False, False, False, False, False, False, False, False, False, True, True, False, False, False, False, False, False, True, False, False, False, True, True, True, False, True, True, True, True, False, True, False, True, True, True, True, True, True, True, True, True, True, True, True, True, True, True, True, True, True, True, True, True, True, True, True, True, True, False, True, False, True, False, True, False, False, False, False, False, True, False, True, False, True, True, False, True, True, True, True, False, False, False, False, False, False, False, False, False, False, False, False, False, False, False, False, False, False, False, False, False, False, False, False, False, False, False, False, False, False, False, False, False, False, False, False, False, False, False, False, False, False, False, False, False, False, False, False, True, True, True, True, True, False, False, True, True, True, True, False, False, False, True, False, True, False, True, True, True, True, True, False, False, False, True, True, True, False, True, True, True, True, True, False, False, True, False, True, True, True, True, True, True, True, True, True, True, False, False, False, True, True, True, True, True, True, True, False, True, True, True, True, True, True, True, True, True, True, False, False, True, True, True, True, True, True, True, True, True, True, True, True, True, True, True, False, True, False, False, False, False, False, False, False, False, False, False, False, False, False, False, False, False, False, False, False, False, False, False, False, True, False, False, False, False, False, True, False, True, False, False, False, False, False, False, False, False, False, False, False, False, True, False, False, True, True, False, False, False, False, False, False, True, True, False, False, False, False, False, False, False, False, False, False, False, False, False, False, False, False, False, False, True, True, True, True, False, True, True, True, False, False, False, True, True, True, True, False, True, True, False, False, False, True, True, True, True, True, True, False, False, False, False, True, True, True, False, True, True, True, True, True, True, True, True, False, True, True, False, False, False, True, True, False, True, False, False, False, True, True, True, True, True, True, True, True, True, True, True, True, True, True, True, True, True, True, True, True, True, True, True, True, False, True, True, True, True, True, False, True, True, True, True, True, True, True, True, True, True, True, True, False, True, False, False, False, True, False, True, True, True, True, True, True, True, True, False, False, False, True, True, True, True, True, False, False, False, True, False, False, False, True, False, True, True, True, True, True, True, True, True, True, True, True, True, False, True, True, True, False, False, False, False, False, False, True, True, True, False, True, True, False, True, False, True, True, True, True, True, True, True, True, True, False, False, False, False, True, True, True, True, True, True, True, False, True, True, True, True, True, True, True, True, True, False, False, False, True, False, False, False, False, False, False, True, False, False, True, False, False, False, False, False, False, False, False, False, False, False, False, False, False, False, False, False, False, False, False, True, True, False, False, False, False, False, False, False, True, True, True, True, True, False, False, False, True, False, False, False, True, True, True, True, True, True, True, False, True, True, False, False, True, True, True, True, True, True, False, True, False, False, False, True, True, False, False, False, False, False, False, False, False, False, False, False, False, False, False, True, False, True, False, False, False, True, False, True, True, False, True, True, False, True, True, True, False, True, False, True, True, True, True, False, False, False, False, False, False, True, False, True, True, False, True, True, False, False, False, True, True, False, False, False, True, True, True, True, False, True, True, True, True, False, True, True, True, False, True, True, True, False, False, True, True, True, False, True, True, True, True, False, True, True, True, True, True, True, True, True, True, False, True, True, True, True, False, True, True, True, True, True, False, False, True, True, True, True, True, True, True, True, True, False, False, True, False, False, False, False, False, False, False, False, False, False, True, True, False, True, False, True, True, True, False, False, True, True, True, False, False, False, True, False, False, False, False, True, True, True, True, True, True, True, True, True, True, False, True, True, False, False, True, True, True, False, False, True, True, False, True, True, False, True, True, True, True, False, True, True, True, False, False, False, True, True, True, True, True, True, True, True, True, True, True, True, True, True, True, True, True, True, True, True, True, True, True, True, True, True, True, True, True, True, True, True, True, True, True, False, True, True, True, True, True, False, True, False, False, True, False, True, True, True, True, True, True, True, False, False, False, False, False, True, False, False, False, True, True, True, True, True, True, True, True, True, True, True, True, True, True, True, True, True, True, False, False, True, True, False, False, False, False, False, False, True, False, False, False, False, True, True, False, True, True, False, True, True, True, False, False, False, False, False, False, False, True, True, False, False, False, True, True, False, False, False, True, True, False, True, True, True, True, True, False, True, False, True, False, False, True, True, False, False, True, True, True, True, True, True, True, True, True, False, False, False, True, True, False, True, False, False, False, False, True, True, True, False, True, True, True, False, False, False, False, False, True, False, False, True, False, False, False, False, False, False, True, False, True, False, True, True, False, False, True, True, False, True, True, True, True, True, True, True, True, True, True, True, True, True, True, True, True, True, True, True, True, True, True, False, False, False, False, False, False, True, True, True, False, False, False, True, False, False, False, True, True, False, True, True, False, True, True, False, True, False, False, False, False, True, False, True, False, True, False, True, True, True, True, False, False, True, True, True, True, True, True, True, True, True, True, True, False, True, False, False, True, True, True, False, False, True, False, True, True, False, False, False, False, False, False, False, False, False, False, False, False, False, False, False, False, False, False, False, False, False, False, False, False, False, False, False, False, False, False, False, False, False, False, False, False, False, False, False, True, True, True, False, False, True, False, False, True, False, False, False, False, False, False, False, True, True, True, True, True, True, False, True, True, False, False, True, False, True, False, False, False, False, True, False, True, True, True, False, True, True, True, True, True, False, False, False, False, False, False, False, False, False, True, False, False, False, False, False, False, True, True, True, True, True, True, True, True, True, True, True, False, False, True, True, True, True, False, False, True, False, False, False, False, False, True, False, True, True, False, True, False, False, False, False, False, False, False, False, False, False, False, False, False, True, False, False, True, True, False, False, False, False, True, False, False, False, False, True, True, True, True, True, True, True, False, False, False, False, False, False, False, False, False, True, True, True, True, True, True, True, True, True, True, True, True, True, True, True, True, True, True, False, True, False, False, True, False, False, False, False, True, False, False, False, False, False, False, False, True, False, False, False, False, False, False, False, True, True, False, False, False, True, True, True, False, False, False, True, True, True, False, True, False, False, False, False, False, False, False, True, True, False, True, True, True, False, False, False, False, False, False, False, False, False, False, False, False, False, False, False, False, False, False, False, False, False, True, False, False, False, True, False, True, True, False, False, False, False, False, True, True, True, True, True, True, False, True, False, False, False, False, False, False, False, False, False, True, True, True, True, True, True, True, False, False, True, True, True, True, True, True, True, True, True, False, True, True, True, True, True, True, True, True, True, False, True, True, True, False, True, True, True, False, True, True, False, True, True, True, True, False, False, False, True, True, True, True, True, True, True, True, True, True, True, True, True, True, True, True, True, False, False, False, True, False, False, False, True, True, False, False, False, False, False, True, True, True, True, False, True, True, False, False, False, False, True, True, True, True, False, False, True, True, True, True, False, True, False, True, True, False, False, True, True, True, True, True, True, True, True, True, False, True, True, False, True, True, True, True, True, True, True, False, True, True, False, False, False, False, False, True, True, True, True, True, True, True, True, True, True, True, True, True, True, True, True, True, True, True, True, False, False, False, False, True, True, True, True, False, False, True, True, True, True, True, True, True, True, False, False, False, False, False, True, True, True, False, False, False, False, True, True, True, True, False, True, True, False, True, False, False, True, False, False, False, False, False, True, True, False, False, False, False, False, False, False, False, False, False, False, False, False, False, False, False, False, False, False, False, False, False, False, False, False, False, False, False, True, True, False, False, True, True, True, True, True, True, False, True, False, True, True, True, True, True, False, False, False, True, True, True, True, False, False, False, True, False, True, True, True, True, False, True, False, False, False, True, True, True, True, True, True, False, True, True, True, True, True, True, True, True, True, False, False, True, True, False, False, True, False, True, False, False, False, False, False, False, False, False, False, False, True, True, False, False, False, True, False, False, False, False, True, True, False, True, True, True, True, False, False, True, True, True, False, False, False, False, False, True, True, False, False, False, True, False, True, True, True, True, True, True, False, True, True, True, True, True, True, True, True, True, False, True, True, True, False, False, False, False, False, True, False, True, True, False, False, False, False, False, False, True, False, True, True, True, True, False, True, True, True, True, False, True, True, True, True, False, True, True, True, True, False, True, True, False, False, False, False, True, True, True, True, True, True, False, False, False, True, True, True, True, False, True, True, True, True, True, True, False, True, False, True, True, False, True, True, True, True, True, True, True, True, False, True, True, False, False, False, False, True, False, False, False, False, True, False, True, True, True, False, False, True, True, False, False, True, False, True, True, True, True, True, False, False, True, False, False, False, False, False, True, False, True, False, False, False, False, True, True, True, False, False, False, False, False, True, True, True, False, False, False, True, True, False, False, False, True, True, True, False, True, True, False, False, False, False, False, False, False, False, False, False, False, False, False, False, False, False, False, False, False, False, False, False, False, False, False, False, False, False, False, True, True, True, False, True, True, True, False, True, True, True, True, False, True, False, True, False, True, False, True, False, False, True, False, False, True, True, True, True, True, True, True, True, True, True, True, False, True, False, True, True, True, True, True, True, False, True, True, False, False, True, True, False, True, True, True, True, True, False, True, False, True, True, True, True, True, False, True, True, True, True, True, True, False, True, True, True, True, True, False, True, True, False, True, True, True, True, True, True, True, True, True, False, False, False, True, False, False, False, False, False, False, True, False, True, True, False, False, True, False, False, False, False, True, False, True, False, True, True, True, True, True, True, False, True, True, True, False, False, False, False, False, False, True, False, False, False, False, False, False, True, False, True, True, False, True, True, False, False, True, False, True, True, True, True, True, True, True, True, True, True, True, True, True, True, True, True, True, True, True, True, True, True, False, True, True, False, False, False, False, False, False, False, True, False, True, True, False, False, True, False, False, False, False, True, True, False, True, True, True, True, True, False, False, False, False, False, False, True, False, False, False, True, False, True, False, True, False, False, False, False, False, False, False, False, False, True, True, False, False, False, True, True, True, True, False, True, True, False, False, False, False, False, False, True, True, True, True, True, False, False, False, False, True, False, False, False, False, False, False, False, True, False, False, False, True, False, False, True, True, True, True, False, False, True, True, True, False, True, True, True, True, True, True, False, False, False, False, False, False, False, True, True, True, False, False, False, True, True, False, True, True, False, False, False, False, False, True, True, True, False, False, False, False, False, True, True, False, True, True, True, True, True, True, False, True, False, True, True, True, True, True, True, True, False, False, False, True, True, True, True, True, False, False, False, False, True, True, True, True, True, False, True, True, True, True, True, True, True, True, True, True, True, True, True, True, True, True, True, True, False, True, True, False, False, False, False, True, True, True, True, True, True, True, True, True, True, False, False, False, False, True, False, False, False, False, False, False, False, True, False, False, True, False, True, True, False, False, True, False, True, True, True, True, True, True, True, True, False, False, False, False, False, False, False, False, False, False, False, False, False, False, False, False, False, True, True, True, True, False, False, True, True, True, True, True, True, True, True, False, True, False, True, True, True, True, True, False, True, True, True, True, True, False, True, False, True, True, True, True, False, False, True, True, False, False, True, True, True, False, False, True, True, True, False, False, True, False, True, False, False, True, True, True, True, True, True, True, True, False, False, True, True, True, False, True, True, True, True, True, True, False, False, False, False, False, False, True, True, False, True, True, True, True, True, True, True, False, False, False, False, False, False, False, False, False, False, True, False, False, False, False, False, True, True, False, False, False, False, False, True, True, True, True, True, False, True, True, True, True, True, True, False, False, False, True, True, True, True, True, True, True, False, True, True, True, True, True, True, True, True, True, False, True, False, True, True, False, True, True, True, False, False, False, False, False, False, False, False, False, False, False, False, False, False, False, False, False, True, False, True, True, True, True, False, False, True, True, True, True, True, True, True, True, False, False, False, True, True, True, True, False, True, True, True, True, False, False, False, False, False, True, False, False, False, True, True, True, True, True, True, True, True, True, True, True, True, True, True, False, False, True, True, True, True, True, True, True, True, True, True, False, False, False, False, False, True, True, False, False, True, True, True, True, True, True, False, True, True, True, True, True, True, False, False, True, True, True, False, True, True, True, True, False, True, True, True, True, True, True, True, True, True, True, True, False, True, True, True, True, True, False, False, False, False, False, False, False, False, False, False, False, False, False, False, False, False, False, False, False, False, False, False, False, False, False, False, False, False, False, False, False, False, False, False, False, False, False, False, False, False, False, True, True, True, True, True, True, True, False, False, False, False, False, False, False, False, False, False, False, False, False, False, False, False, False, False, False, False, False, False, False, False, False, False, False, False, False, False, False, False, False, False, False, False, False, False, False, False, False, False, True, False, True, True, False, False, False, False, True, True, True, True, False, False, True, False, True, False, False, True, True, True, False, False, False, True, True, True, True, True, True, True, True, True, True, True, False, False, True, False, True, True, True, False, True, True, False, False, False, False, False, False, False, False, False, True, False, False, False, False, False, True, True, False, True, True, True, True, True, True, True, False, False, True, True, True, True, True, True, False, False, False, False, True, True, False, True, False, False, True, True, True, True, True, False, False, False, False, False, False, True, True, True, False, False, False, True, True, False, False, False, False, False, False, False, False, False, False, True, True, True, True, True, True, True, True, False, False, True, True, True, True, True, False, True, False, False, False, False, False, False, True, False, True, True, False, False, False, False, False, False, True, True, False, False, False, True, True, False, False, True, False, True, False, True, True, True, True, True, False, False, False, True, True, True, False, False, True, False, True, True, True, True, True, True, True, True, True, True, True, True, True, True, True, True, True, True, True, True, True, False, False, False, True, True, True, True, True, True, True, True, True, True, True, True, True, False, True, False, True, False, True, True, False, True, True, True, True, True, True, True, True, True, True, True, True, True, True, True, False, True, False, True, True, True, True, True, True, True, True, True, True, True, True, True, True, True, True, True, True, True, True, True, True, True, True, True, True, True, True, True, True, True, True, True, True, True, False, False, True, True, True, True, True, False, False, False, False, False, False, True, False, False, True, False, True, True, True, True, True, True, True, True, True, True, True, False, True, True, True, True, True, True, True, True, True, True, True, True, True, False, False, True, True, True, False, False, False, False, False, False, False, True, True, True, True, False, False, False, False, True, True, False, True, True, True, True, True, False, False, False, True, True, True, True, True, True, False, False, True, False, False, False, False, False, False, False, False, True, True, True, True, True, False, False, False, False, True, False, False, False, False, True, True, False, True, True, False, True, True, True, True, True, True, True, True, True, True, True, False, True, False, False, False, False, False, False, True, True, True, True, True, True, True, True, True, False, False, True, True, True, True, True, True, True, True, False, False, True, False, False, True, True, True, True, False, False, True, False, True, True, True, True, True, True, False, True, False, True, True, False, True, True, True, True, True, False, False, True, True, True, True, False, False, False, True, True, True, False, False, True, True, True, True, True, True, True, True, True, False, True, True, False, True, False, False, False, True, True, True, True, True, False, True, True, False, True, False, True, True, True, True, False, True, True, False, False, False, False, False, True, True, False, False, True, True, True, True, True, True, True, True, True, True, False, False, True, True, True, True, True, True, True, False, True, True, True, False, False, False, True, True, True, False, False, False, False, True, True, True, True, True, False, False, True, True, False, True, True, True, True, False, False, False, False, False, False, False, False, True, True, False, True, True, True, True, True, True, True, True, False, False, True, False, False, False, True, True, True, True, False, False, True, True, True, True, True, True, True, True, True, True, True, True, True, True, True, True, True, True, True, True, False, True, True, True, True, True, True, True, True, True, True, False, True, True, True, True, True, True, True, False, True, True, True, False, False, False, True, True, True, True, False, False, False, False, False, False, False, False, False, False, False, False, False, False, False, False, False, False, True, False, False, False, True, True, True, True, True, True, True, True, True, True, True, True, True, True, True, False, False, False, False, False, False, True, False, False, True, True, False, False, False, False, False, False, False, False, False, False, True, True, True, False, False, False, True, True, True, True, True, True, True, True, True, True, True, False, False, True, False, True, True, True, True, True, True, True, False, True, False, True, True, True, True, True, True, True, True, True, True, True, True, False, False, True, True, True, True, True, True, True, True, True, True, True, False, False, False, True, True, True, False, False, False, False, False, False, False, False, False, False, False, False, True, True, True, False, True, True, False, True, False, False, False, True, False, True, False, True, False, False, True, False, True, True, False, True, True, True, True, True, True, True, False, True, True, False, True, False, False, True, False, True, False, False, True, True, True, True, False, False, True, True, True, False, True, True, False, True, True, True, True, True, True, True, True, True, True, True, True, True, True, True, True, True, False, False, False, True, True, False, True, True, False, False, True, False, True, True, True, True, True, False, False, True, True, True, False, True, True, True, True, True, True, True, True, True, True, True, False, True, True, False, False, False, True, True, True, True, True, True, True, True, False, False, True, False, True, True, False, False, False, False, True, True, True, True, True, False, False, True, True, False, False, False, False, False, False, True, True, True, False, True, True, True, True, False, False, True, True, False, False, True, True, True, False, False, False, False, True, True, True, False, False, False, False, False, False, False, False, False, False, False, False, False, False, False, False, False, False, False, False, False, False, False, False, False, False, False, False, False, False, False, False, False, False, False, False, False, False, False, False, False, False, False, False, False, False, False, False, False, False, False, False, False, False, True, True, True, True, True, True, True, True, True, True, True, True, True, True, True, True, False, False, False, False, False, False, True, True, True, False, False, True, True, True, True, True, False, False, False, False, True, True, True, True, True, False, True, True, False, False, False, False, False, False, False, False, False, True, True, False, False, False, True, True, True, True, True, True, False, True, True, False, False, False, False, False, False, False, False, False, False, False, False, False, False, False, False, False, True, False, False, False, False, False, False, False, False, True, True, False, False, True, True, True, True, True, True, True, False, True, True, True, True, True, True, True, True, True, False, False, True, False, False, False, False, True, True, False, False, False, True, False, True, False, True, False, True, True, True, True, True, True, True, False, False, False, False, False, True, True, True, False, False, False, False, False, False, False, False, False, False, False, False, False, True, True, False, True, True, False, True, True, True, True, True, False, True, True, True, True, False, True, True, True, False, False, True, False, True, True, True, True, True, True, True, True, True, True, False, True, False, True, False, True, True, True, False, True, True, True, True, True, True, True, True, True, True, True, False, False, True, True, False, True, True, True, False, True, True, True, True, True, True, True, True, False, False, True, False, True, True, True, True, True, True, True, True, True, True, True, False, True, False, True, True, True, True, True, True, True, True, True, True, True, False, False, False, True, True, True, False, True, True, False, False, False, True, False, False, False, True, True, True, True, True, False, False, True, False, False, True, True, False, False, False, False, True, True, True, True, False, False, False, False, True, True, True, True, False, False, False, False, False, False, False, False, False, False, True, True, True, True, True, True, True, True, True, True, True, True, True, False, False, True, True, True, True, True, True, False, False, False, False, False, False, True, True, False, True, True, True, False, True, False, True, True, False, False, True, True, True, True, True, True, True, True, True, True, True, True, True, True, True, True, True, True, True, True, True, True, True, True, True, False, False, True, True, True, True, True, False, False, False, True, True, True, True, True, True, True, True, True, True, False, True, True, True, True, False, True, True, True, True, False, False, True, False, False, False, True, False, False, False, True, True, False, False, False, True, True, False, True, False, False, True, True, True, True, True, True, False, False, False, True, False, False, True, True, False, True, True, False, True, True, False, True, True, False, False, False, True, False, False, False, False, True, False, True, False, False, False, False, False, False, False, False, False, False, False, False, False, False, False, False, False, True, True, False, False, False, True, False, True, True, True, True, True, True, True, True, True, True, True, True, True, True, True, True, False, True, True, False, False, False, True, True, True, True, False, False, True, True, True, False, True, False, True, False, True, True, True, True, False, True, True, True, True, False, True, True, True, True, True, True, False, False, False, False, False, False, False, True, True, False, True, True, True, True, True, True, True, False, False, True, True, False, True, True, True, True, False, False, False, True, False, True, False, False, False, False, True, False, False, True, True, True, True, True, True, False, True, False, False, False, False, False, False, True, True, True, True, False, True, True, False, True, True, True, False, False, True, True, False, False, False, True, True, True, True, True, True, True, True, True, True, True, True, False, True, True, True, False, False, False, False, False, False, False, False, False, False, False, False, False, False, False, True, False, False, False, False, False, False, True, False, True, False, False, False, False, False, False, False, False, False, False, False, False, False, True, True, True, False, True, True, True, False, True, False, False, False, True, False, True, True, True, True, True, True, True, True, True, True, True, True, True, True, True, True, True, True, True, False, True, True, True, True, True, True, True, False, False, True, False, False, False, False, True, True, False, True, True, True, True, True, True, True, True, True, True, True, True, True, False, False, False, False, True, True, True, True, True, True, True, True, True, True, True, True, True, True, True, True, True, False, True, False, True, False, False, False, False, False, False, True, True, True, True, False, True, True, True, True, True, True, True, True, False, True, False, True, True, True, True, True, True, False, False, False, False, False, False, False, False, True, True, False, False, True, True, True, False, True, True, True, True, True, True, True, True, True, False, False, True, True, True, True, True, True, True, True, True, False, False, True, False, True, False, False, True, True, True, True, True, True, True, True, True, True, True, True, False, False, True, True, True, True, True, False, True, True, True, True, True, True, False, False, False, False, False, False, True, True, True, False, False, True, False, True, False, False, True, False, False, True, False, False, False, False, False, False, False, True, True, True, True, True, False, False, False, False, False, True, True, True, False, False, True, True, False, False, False, True, False, False, True, False, False, False, True, True, False, True, True, True, True, False, True, True, False, True, True, True, False, True, True, True, True, True, True, False, True, True, False, True, True, True, False, False, True, False, False, True, True, True, True, True, False, True, True, True, True, True, False, False, True, False, False, True, False, False, False, False, True, False, False, False, False, False, True, False, False, True, True, False, True, False, True, False, False, False, False, False, False, False, False, False, False, True, True, True, True, True, True, True, True, True, True, True, True, True, False, False, False, False, False, True, False, True, False, False, False, False, False, True, True, True, True, False, False, False, False, False, False, False, False, False, False, False, True, True, True, False, True, True, True, False, False, False, True, True, True, True, True, False, False, False, False, False, False, False, False, False, False, False, False, False, False, False, False, False, False, False, False, False, False, False, False, False, False, True, True, True, False, True, False, False, False, False, False, False, False, True, False, False, True, False, False, False, True, True, False, False, False, False, False, False, True, True, True, True, False, True, False, False, True, False, True, True, False, True, True, True, True, False, True, True, True, False, False, False, False, False, False, False, False, False, True, False, False, False, False, False, True, False, False, False, False, False, False, False, False, True, False, False, True, True, True, False, True, True, True, True, True, True, True, True, True, True, True, True, True, False, False, True, True, True, True, True, True, True, True, False, False, True, True, False, False, True, False, True, True, True, False, True, False, True, True, True, False, False, True, False, True, True, False, True, True, True, False, False, False, False, False, True, False, True, False, False, False, False, True, False, False, True, True, True, True, True, True, False, False, False, False, False, False, False, False, False, True, True, False, True, True, True, True, True, False, True, True, True, False, False, True, True, True, True, True, True, True, False, True, False, False, False, False, False, False, False, True, False, True, True, True, False, False, False, False, True, True, True, False, True, False, False, True, True, True, False, False, True, True, True, True, True, True, False, False, True, False, True, True, True, True, False, False, True, True, False, True, True, True, True, True, True, True, True, True, True, True, True, True, True, True, False, False, False, False, False, False, True, False, False, False, True, True, True, False, False, False, True, True, True, True, True, True, True, True, True, True, True, False, True, True, True, True, True, False, True]\n",
      "[False, False, False, False, True, True, False, False, False, False, False, False, True, True, True, True, True, True, False, False, False, False, False, False, False, False, False, False, False, False, False, False, False, False, False, False, False, False, False, True, False, False, False, False, False, False, False, False, False, False, False, False, False, False, False, True, False, False, False, False, False, True, False, False, False, True, False, True, False, False, True, False, False, True, False, True, False, False, True, False, False, True, False, False, False, False, False, True, True, True, False, True, True, False, True, True, True, True, False, False, False, False, True, False, False, False, False, False, False, False, False, False, False, False, False, True, True, True, True, True, True, True, True, True, True, False, True, False, False, False, False, False, False, False, False, False, True, True, False, False, False, False, False, False, False, False, True, False, False, True, True, True, True, True, True, True, True, True, True, True, False, False, False, False, False, False, False, False, True, True, False, False, False, False, False, False, False, False, False, False, False, False, False, False, False, True, True, False, True, False, False, True, False, False, False, True, True, True, True, True, False, True, False, True, True, False, False, False, False, False, True, False, False, False, False, False, False, False, True, True, False, False, False, False, False, False, True, True, False, False, False, True, False, True, False, False, False, True, True, False, False, False, False, False, False, True, True, True, False, True, True, True, True, False, False, False, False, False, True, False, False, False, False, False, False, False, False, False, False, False, False, False, False, True, True, True, False, False, False, False, True, True, True, False, False, False, False, False, False, False, False, True, False, False, False, False, False, True, False, False, False, False, False, False, False, True, False, False, True, False, False, True, False, False, True, False, True, True, False, True, True, True, True, False, True, True, True, True, False, True, False, False, False, False, True, True, True, True, True, True, False, False, False, False, False, False, True, True, True, True, True, True, True, False, False, False, False, True, True, False, False, False, False, False, False, True, True, True, True, False, False, False, False, False, False, False, False, False, False, False, False, True, True, True, True, True, False, False, False, False, True, False, False, True, True, False, False, True, True, True, False, False, False, False, False, False, True, False, True, False, False, False, False, True, True, False, True, False, False, False, False, False, False, False, False, False, False, False, False, False, False, False, False, True, False, True, True, False, False, False, False, False, False, False, False, False, False, False, False, True, False, False, False, True, True, False, False, False, False, False, False, False, False, False, False, False, False, False, False, False, False, False, False, False, False, False, True, False, True, True, False, False, False, False, False, False, False, False, False, False, False, False, False, False, False, False, False, False, False, False, False, False, False, False, False, False, False, False, False, False, False, False, False, False, False, False, False, False, False, False, False, False, False, False, False, False, False, False, False, False, False, False, False, False, False, True, True, False, False, False, False, False, False, False, False, True, False, False, True, False, False, False, False, False, False, False, False, False, False, False, False, False, False, False, False, False, False, False, True, False, False, True, True, False, False, False, False, False, False, False, False, False, False, False, False, False, False, False, False, False, False, False, False, False, False, False, True, True, False, False, False, False, False, False, False, False, False, True, True, True, False, False, False, False, False, True, True, True, False, False, False, False, False, False, True, True, False, False, False, True, False, False, True, False, True, True, False, False, True, False, True, False, True, False, False, False, False, False, False, True, True, True, True, True, False, False, False, False, False, False, False, False, False, False, False, False, False, False, False, False, False, False, False, False, False, False, True, True, False, False, False, False, True, True, True, False, False, False, True, True, True, True, True, True, True, True, True, True, True, True, True, False, False, False, False, True, False, False, False, True, False, False, False, False, False, False, False, True, False, True, True, True, False, False, False, False, False, False, False, False, False, False, False, True, True, True, True, True, True, False, False, False, False, False, True, False, True, True, True, True, True, True, False, False, False, True, True, True, True, True, False, True, False, True, True, True, True, True, False, False, False, False, False, False, True, True, True, False, False, False, False, False, False, True, False, False, False, False, False, False, False, False, False, False, False, False, False, False, False, False, False, False, False, False, False, False, False, False, False, False, False, False, False, False, False, True, True, True, True, True, True, True, True, True, True, True, True, True, True, True, True, True, True, True, True, True, True, True, False, True, False, False, False, True, False, False, False, False, False, False, False, False, False, False, True, True, True, True, True, False, False, False, False, True, False, False, False, True, True, False, False, False, False, False, False, False, False, False, False, False, False, False, False, False, False, False, False, False, False, True, True, True, True, True, True, True, True, True, False, False, False, False, False, False, False, True, True, False, False, False, False, True, True, True, True, False, False, False, False, False, False, False, False, False, False, False, False, False, False, False, False, False, False, False, True, False, False, False, False, True, False, True, False, False, False, False, False, False, False, True, False, False, False, False, False, False, False, False, False, False, False, False, False, False, False, False, False, False, False, False, False, False, False, False, False, False, False, True, True, False, False, False, False, True, True, False, False, False, False, False, False, False, True, True, False, False, False, False, False, False, False, True, False, True, True, False, False, False, False, False, False, False, False, False, False, False, False, False, False, False, False, False, False, False, False, False, False, True, True, True, False, False, False, False, True, False, True, True, True, False, True, True, True, False, True, False, False, False, False, False, False, False, False, False, False, False, False, False, True, True, True, True, False, False, False, False, False, False, False, True, True, False, False, False, True, False, False, False, False, False, False, False, False, False, False, False, False, False, False, False, False, False, False, False, False, False, False, False, False, False, False, False, False, False, False, False, False, False, True, True, False, False, False, False, False, False, False, False, False, False, False, False, False, False, False, False, False, False, False, True, True, True, True, True, True, True, True, True, True, True, True, True, False, True, True, True, True, True, True, True, True, False, True, True, False, False, False, False, False, False, False, False, False, False, False, False, False, False, False, False, False, False, False, False, False, False, False, False, False, False, False, False, False, False, False, True, False, False, False, False, False, False, False, False, False, False, False, False, False, False, False, False, False, False, False, False, False, False, False, False, False, False, False, False, False, False, False, False, False, False, False, False, False, False, False, True, False, False, False, False, False, True, False, True, True, True, True, False, False, False, False, False, False, False, False, False, False, False, False, False, False, False, False, False, False, False, False, False, False, False, False, False, False, False, False, False, False, False, False, False, False, False, True, True, False, False, False, False, False, False, False, False, False, True, False, False, False, False, False, True, False, False, False, False, False, False, False, False, True, True, True, False, False, False, False, False, False, False, False, False, False, False, False, False, False, True, False, False, False, False, False, False, False, False, False, False, False, False, False, False, False, False, False, False, False, False, False, False, False, False, False, False, False, False, False, False, False, False, True, True, True, True, False, False, False, False, False, False, False, False, False, False, False, False, False, False, False, False, False, False, False, False, False, True, True, False, False, True, True, True, True, True, False, True, False, False, True, False, True, True, True, True, True, False, False, False, True, False, False, False, False, False, False, False, False, True, True, False, False, True, True, False, False, True, True, False, False, True, True, False, False, True, True, False, False, True, True, False, False, True, True, False, False, True, True, False, False, True, False, True, False, True, False, True, True, True, True, True, True, True, True, False, False, True, True, False, False, False, True, True, True, False, False, False, False, False, False, False, False, False, False, False, False, False, False, True, False, False, False, False, True, True, False, True, True, True, True, True, True, True, True, False, False, False, False, False, True, True, True, False, False, True, True, False, True, True, False, False, False, False, False, False, False, False, False, True, False, True, False, True, False, True, False, True, True, False, True, True, True, True, False, False, True, False, False, False, False, False, False, False, False, False, False, False, False, False, False, False, False, False, False, False, False, False, False, False, False, False, False, False, False, False, False, False, False, False, False, True, True, False, False, False, False, True, False, False, False, False, False, False, False, False, True, False, False, False, False, False, False, False, False, False, False, False, False, False, False, True, False, False, False, False, False, False, False, False, False, False, False, False, False, True, False, False, False, False, False, False, True, False, False, True, True, False, False, False, False, False, False, False, True, False, False, False, True, False, True, True, True, False, False, False, True, True, True, True, True, True, True, False, False, False, False, False, False, False, False, False, False, False, False, False, False, True, False, False, False, False, False, False, False, False, False, False, False, False, False, False, False, False, False, False, False, False, False, False, False, False, False, False, False, False, False, False, False, False, False, False, False, True, False, False, False, True, True, True, True, False, False, False, False, False, False, False, True, False, False, True, True, False, False, False, True, True, True, False, False, False, False, False, True, False, False, False, True, True, True, True, False, True, True, False, False, False, False, False, False, False, False, False, False, False, False, False, False, True, False, False, False, False, False, False, True, False, False, False, False, False, False, False, True, True, True, True, True, True, False, False, False, False, False, False, False, False, False, False, False, True, True, True, False, False, False, False, False, False, True, True, True, True, False, False, False, False, False, True, False, True, False, False, True, False, True, False, False, True, True, False, True, True, True, False, False, False, True, False, False, False, False, False, False, False, False, False, False, False, False, False, False, False, False, False, False, False, True, True, True, True, False, False, False, True, False, False, False, True, False, False, False, False, False, False, True, False, False, False, False, False, True, False, False, False, False, True, False, False, True, False, False, False, False, False, True, True, False, False, True, False, True, False, True, False, True, False, False, False, False, False, False, False, False, False, False, False, False, False, False, False, False, False, False, False, False, True, False, False, False, False, False, False, False, False, False, False, False, False, False, False, True, False, False, False, False, False, False, False, True, True, True, True, False, False, False, False, False, True, True, False, True, True, False, False, False, True, False, False, False, False, False, False, False, False, False, True, True, True, True, False, True, False, True, True, True, True, False, False, False, False, False, False, False, False, False, False, False, False, False, False, True, False, True, True, False, False, True, False, False, False, False, True, True, True, False, False, False, True, True, True, False, False, False, True, True, True, True, False, True, True, False, False, False, False, False, False, False, False, False, False, False, False, False, False, False, False, False, False, False, False, False, False, False, False, False, False, False, False, False, False, False, False, False, False, True, True, True, False, True, True, True, True, True, True, True, True, True, True, True, True, True, True, True, False, True, True, True, True, True, True, True, True, True, True, False, False, False, True, True, True, True, False, True, False, False, False, False, True, False, True, False, True, True, False, True, True, False, True, False, True, True, True, False, False, False, False, False, False, False, False, True, False, False, False, True, False, False, False, False, True, True, True, True, False, False, True, True, False, True, False, True, True, True, True, False, False, True, False, False, False, False, False, False, False, False, False, False, False, False, False, False, False, False, False, False, False, False, False, False, True, False, False, False, False, False, False, True, False, False, False, False, False, True, False, False, False, False, False, False, False, False, False, True, True, True, True, True, False, False, False, False, False, False, True, True, True, True, True, False, False, False, False, False, True, False, False, True, True, False, False, False, False, False, False, False, False, False, False, False, True, False, True, True, True, False, True, True, True, False, False, False, False, True, True, True, True, True, True, True, True, True, True, True, True, True, True, True, False, False, False, False, False, True, False, True, True, True, True, True, True, True, True, True, True, False, True, True, True, True, True, True, True, True, True, False, False, False, False, False, False, False, False, False, True, True, False, False, False, True, True, False, False, False, False, False, False, False, False, False, False, False, False, False, False, False, True, False, True, True, True, False, True, True, True, True, True, True, True, True, True, True, False, False, False, False, False, False, True, False, False, False, False, False, False, False, False, True, True, True, False, False, True, False, False, False, False, False, False, False, False, False, False, False, False, False, False, False, False, False, False, False, True, True, True, True, False, False, False, False, False, False, False, False, False, False, False, False, False, False, False, False, True, False, False, False, True, True, True, True, False, False, False, False, False, False, True, True, True, True, True, False, False, False, False, False, False, False, True, False, False, True, False, False, False, False, False, False, False, False, False, False, False, False, True, True, True, False, False, False, False, False, False, True, False, False, False, True, False, False, False, False, False, False, False, False, False, False, False, False, False, False, False, False, True, True, False, False, True, False, False, False, True, True, True, False, False, False, True, False, True, False, False, False, False, False, False, False, False, False, False, False, True, False, False, False, False, False, False, False, False, False, False, False, False, False, False, True, False, False, True, True, True, True, True, True, False, True, False, False, False, False, True, False, False, False, False, False, False, False, False, False, False, False, False, False, False, False, True, False, False, False, False, False, False, True, True, True, True, True, True, True, True, True, True, True, True, True, True, True, True, True, True, False, False, False, False, True, True, True, True, True, True, True, True, True, True, False, False, True, True, True, True, True, False, False, False, False, False, False, False, False, True, True, True, True, True, False, False, False, False, False, False, False, False, False, False, False, False, False, False, False, False, False, False, True, True, True, True, True, True, True, False, False, True, False, False, False, False, False, False, False, False, False, False, False, False, False, False, False, False, False, False, True, True, True, True, True, False, False, False, True, True, False, False, False, False, False, False, False, True, True, False, False, True, True, True, True, True, True, True, False, False, False, False, False, False, False, False, False, False, False, False, False, False, False, False, False, False, False, True, False, True, False, False, False, False, False, False, False, False, False, False, False, True, True, True, True, True, True, True, True, False, True, True, False, False, False, True, True, False, False, False, True, False, False, False, False, True, False, True, False, False, False, False, False, False, False, False, False, False, False, False, False, False, False, False, False, False, False, True, True, False, False, False, False, False, False, False, True, True, True, True, False, True, True, True, False, True, False, False, False, False, False, False, False, False, False, True, True, True, True, True, False, False, False, False, False, False, False, False, True, True, True, False, True, True, True, True, True, True, True, True, True, True, True, True, True, False, False, False, False, False, False, False, False, False, True, False, False, True, False, False, False, False, True, False, False, True, False, False, False, False, False, False, False, True, True, True, True, True, False, False, False, False, False, False, False, False, False, False, False, False, False, False, False, False, False, False, False, False, False, False, False, False, False, False, False, False, False, False, False, False, False, False, False, False, False, False, False, False, False, True, False, True, True, True, False, False, False, False, False, False, False, False, False, True, False, True, True, True, True, False, False, False, True, True, True, False, False, False, False, False, False, False, True, True, False, False, False, False, False, False, False, False, False, False, False, False, False, False, False, False, True, True, False, False, False, True, True, True, True, True, True, True, False, False, False, True, True, True, True, True, True, True, True, True, True, True, True, True, True, True, True, True, False, False, False, False, False, False, False, True, False, True, False, True, False, True, True, False, False, True, True, False, False, False, False, False, False, False, False, False, False, False, True, False, True, True, False, True, False, True, True, False, False, False, False, False, False, False, False, False, False, False, False, True, False, False, False, False, False, False, False, False, False, False, False, False, False, True, False, False, False, False, False, False, False, False, False, False, True, True, True, False, False, False, False, False, False, False, False, True, True, True, False, False, True, False, False, False, False, False, False, True, False, False, False, False, False, False, False, True, True, False, True, False, False, False, True, True, False, True, True, True, False, True, False, True, False, False, True, True, False, False, False, True, True, True, True, False, False, True, True, False, False, False, False, False, False, False, False, False, False, True, True, True, True, True, False, True, True, True, True, True, True, True, False, False, True, True, True, True, False, False, False, True, True, False, False, False, False, False, False, False, False, False, True, False, False, False, True, True, False, False, False, False, False, False, False, False, False, False, False, False, False, False, False, False, False, False, False, False, False, False, False, False, False, False, False, False, False, False, False, False, False, False, False, False, False, False, False, False, False, False, True, True, True, True, True, False, False, True, True, True, False, True, True, False, False, False, False, False, False, False, False, False, False, False, True, True, True, True, True, True, False, False, False, True, True, True, False, False, True, False, False, True, True, False, True, True, False, False, False, False, False, True, False, False, True, True, True, True, False, False, False, False, False, False, False, False, False, False, False, True, False, True, True, True, True, False, True, False, True, True, False, True, False, False, False, False, False, False, False, True, True, True, False, False, True, True, False, True, True, False, True, False, False, False, False, False, False, False, False, False, True, False, False, False, False, True, False, False, False, False, False, False, False, False, True, False, False, False, False, False, True, False, True, False, False, False, True, False, False, True, False, True, True, True, False, True, False, False, True, True, True, False, False, False, True, True, True, False, False, False, False, False, False, False, False, False, False, False, False, False, False, False, False, False, False, False, False, False, True, False, True, False, False, True, True, True, True, True, True, True, True, True, False, False, False, False, False, False, False, False, False, True, False, True, False, False, False, False, True, False, False, False, False, False, False, False, True, True, False, True, True, True, True, False, False, False, False, True, False, False, False, True, True, True, True, False, False, False, False, True, True, True, False, False, False, False, False, False, False, False, True, True, True, True, False, False, False, False, True, False, True, False, False, True, True, False, True, True, True, False, False, True, True, True, False, False, False, False, False, False, False, False, False, False, False, False, False, True, True, False, True, False, False, False, False, False, False, True, True, False, False, False, False, False, False, False, False, True, True, True, False, False, False, False, True, False, False, False, True, True, False, False, False, False, False, False, False, False, False, False, False, False, True, False, False, True, False, False, False, False, True, False, False, False, False, False, False, False, True, True, True, True, True, True, True, True, True, True, False, False, True, True, True, False, False, False, False, False, False, False, False, False, False, False, False, False, False, False, False, False, False, False, False, False, False, False, False, False, True, False, False, True, False, False, False, True, True, True, False, False, True, True, False, False, False, True, True, True, False, False, False, False, False, False, False, False, False, False, False, False, False, False, False, False, False, True, True, True, True, False, False, False, True, True, False, False, False, False, False, False, True, False, True, False, True, False, False, False, False, False, True, False, False, False, False, False, False, False, False, False, False, False, False, False, False, True, True, True, True, False, False, True, True, True, False, False, True, False, True, False, False, True, False, False, False, False, True, False, True, False, False, False, False, False, False, False, False, False, True, True, False, False, False, False, False, False, False, False, False, False, False, False, False, False, False, False, False, False, False, False, False, False, False, False, False, False, False, True, True, False, True, False, False, True, True, False, False, False, True, False, True, True, False, False, True, False, True, False, False, False, True, False, False, False, False, True, True, False, False, False, False, False, False, False, True, True, False, False, False, False, False, False, False, False, False, False, False, True, False, False, False, False, False, False, False, False, False, False, False, False, False, True, False, False, False, False, False, False, False, False, False, True, True, True, False, False, True, True, True, True, True, True, True, False, True, False, True, False, False, True, False, False, True, True, True, False, True, True, True, False, False, False, True, True, True, False, True, True, False, False, False, False, False, False, True, False, False, False, False, True, True, True, True, True, True, False, False, True, True, True, True, False, False, True, True, True, True, True, False, False, True, True, True, False, True, False, False, False, False, False, False, False, False, False, False, False, False, False, False, False, True, False, False, False, False, False, False, False, True, False, True, False, False, False, False, False, True, False, False, True, True, False, False, False, False, False, False, False, False, False, False, False, False, False, False, False, False, False, False, False, False, False, False, False, False, False, False, False, False, False, False, False, False, False, False, False, False, False, False, False, False, False, True, False, False, True, False, False, True, False, False, False, True, False, True, False, True, False, False, True, True, False, False, False, False, False, False, False, False, False, False, False, False, False, False, False, False, False, False, False, False, False, False, False, False, True, False, False, False, False, False, True, True, True, True, False, False, False, False, True, True, False, False, False, False, False, False, False, False, False, False, False, False, False, False, False, False, False, False, False, True, True, False, False, True, False, False, True, True, True, False, True, False, False, False, False, True, False, False, False, False, True, True, False, False, True, False, True, True, True, False, True, False, False, True, True, True, True, True, True, True, True, False, False, False, True, True, True, False, False, False, False, True, False, False, True, False, False, False, False, True, True, False, True, True, False, True, True, False, True, True, True, True, False, True, False, True, False, False, False, False, False, False, False, False, False, False, False, False, True, True, False, False, False, True, True, False, False, False, True, True, True, True, False, False, False, False, False, False, False, False, False, False, False, False, False, False, False, False, False, False, False, False, True, False, False, False, False, False, True, True, False, False, False, False, False, True, True, True, True, False, False, False, False, True, False, True, True, False, False, False, True, False, False, False, False, False, False, True, True, False, False, True, False, False, False, False, True, False, False, True, True, False, False, False, False, False, True, True, False, False, True, False, False, False, True, False, True, True, False, False, False, True, True, False, False, False, False, False, False, True, False, False, False, False, True, True, False, False, False, False, True, False, True, False, False, False, False, False, True, True, True, True, False, False, True, True, False, True, True, True, False, False, False, False, True, True, True, False, False, False, False, True, True, True, True, False, False, False, False, True, False, True, True, False, False, False, True, True, True, False, False, False, False, False, False, False, True, False, True, True, True, True, False, False, False, False, False, False, False, False, True, True, True, True, True, False, False, False, False, False, False, False, True, False, True, False, False, False, False, False, False, False, False, False, False, True, False, False, False, False, False, True, True, False, False, True, False, False, False, False, False, False, False, True, True, True, False, False, False, False, False, False, False, False, False, False, False, False, False, False, True, True, True, True, True, False, False, False, False, False, False, True, True, True, True, True, True, True, True, True, False, True, False, False, False, False, False, False, True, False, False, True, True, False, False, False, True, False, False, True, True, True, True, False, False, False, False, False, False, False, False, False, True, False, True, False, False, False, True, True, True, True, True, True, True, False, False, False, False, False, False, False, False, False, False, False, False, False, True, True, True, True, True, False, False, False, False, False, True, True, True, True, True, False, False, True, False, True, False, False, True, False, False, False, False, False, False, True, True, False, False, False, False, True, True, False, False, False, False, False, False, True, True, True, True, True, True, True, True, True, True, False, False, False, False, False, False, False, False, False, False, False, False, True, True, False, False, True, True, True, False, True, False, True, True, False, False, False, True, False, False, False, False, False, False, False, False, False, False, False, False, False, False, True, True, True, False, False, False, False, False, False, False, True, False, True, False, False, True, True, False, True, True, True, False, True, True, False, False, False, False, False, False, False, False, False, False, False, False, False, False, False, False, False, False, False, False, True, True, True, True, False, False, True, False, True, True, True, True, True, True, True, True, False, False, False, False, False, False, False, False, True, False, True, True, True, False, True, True, False, True, True, True, True, True, True, True, True, True, True, True, False, False, True, True, False, False, False, False, True, False, False, False, False, False, False, False, False, False, False, False, False, False, False, False, False, False, False, False, True, True, True, False, False, True, False, True, True, False, True, False, False, False, False, False, False, False, True, True, False, False, False, False, False, False, False, False, False, False, False, False, True, False, False, True, False, False, False, False, False, False, False, False, False, False, False, False, False, False, False, False, False, False, False, False, False, False, False, False, False, True, False, False, False, True, False, False, False, True, True, False, False, False, True, True, True, True, False, False, False, True, True, True, True, True, False, False, False, False, False, False, False, False, False, False, False, False, False, False, False, False, False, False, False, True, False, False, False, True, True, True, True, True, True, True, True, False, False, False, False, True, True, True, True, True, False, False, False, False, False, False, False, False, True, False, False, False, True, True, False, False, False, False, True, False, False, False, False, False, True, False, True, False, False, False, False, False, True, True, False, False, False, True, False, False, False, True, True, False, False, False, False, False, False, True, True, False, False, False, False, False, False, True, True, True, True, True, False, False, False, False, True, False, False, False, False, True, True, False, False, False, False, False, False, False, True, True, True, True, True, True, False, False, False, False, False, False, False, True, True, True, False, False, False, False, False, True, True, True, True, False, True, False, False, True, False, False, False, False, False, False, True, False, True, False, False, False, False, False, False, False, False, False, False, False, False, False, False, False, False, False, False, False, False, False, False, True, False, False, False, True, True, False, True, False, False, False, False, False, True, False, True, True, False, False, False, False, False, False, False, False, False, False, False, False, False, False, False, False, False, False, False, False, False, False, False, False, False, False, False, False, False, False, False, False, False, False, False, False, False, False, False, False, False, False, False, False, False, False, False, False, False, False, False, False, False, False, False, True, False, True, True, True, True, True, False, False, False, False, False, False, False, False, False, False, False, False, False, False, False, False, False, False, False, False, False, False, False, False, False, False, False, False, False, False, False, False, False, False, False, False, False, False, False, False, False, False, False, False, False, False, False, False, False, False, True, True, False, True, True, False, False, True, False, False, False, False, False, False, False, False, False, False, False, False, False, False, False, False, False, False, False, False, False, False, False, False, False, False, False, False, False, True, False, True, True, True, True, True, False, False, True, True, False, True, True, True, True, True, True, False, False, False, True, True, True, False, False, True, False, False, False, False, False, False, True, True, True, False, False, False, False, False, True, True, False, True, False, False, False, False, False, False, False, False, False, False, False, False, False, False, False, False, False, False, False, False, False, False, False, True, True, False, False, False, True, False, False, False, True, False, True, False, False, False, False, False, False, False, True, True, False, False, False, True, True, False, False, False, False, False, True, True, False, True, False, True, True, False, False, True, True, True, False, False, False, True, False, True, False, True, False, True, False, False, True, False, False, True, False, False, False, False, True, True, True, False, False, False, False, False, False, False, False, False, False, True, True, True, True, True, True, False, False, False, False, True, False, False, False, True, True, False, False, False, False, False, False, False, False, False, False, False, False, False, False, False, False, False, True, False, False, True, False, False, False, False, False, False, False, True, True, True, True, True, False, False, False, False, True, False, True, False, True, False, False, False, False, False, False, False, False, False, False, False, False, False, False, False, False, False, False, False, True, True, False, False, False, False, True, True, True, False, False, False, False, False, False, False, False, False, False, False, False, False, False, False, False, False, False, False, True, True, True, False, False, True, False, False, False, False, True, False, False, False, False, True, True, True, True, True, True, True, True, True, False, False, False, False, False, False, False, False, False, False, False, False, False, False, False, True, True, True, False, False, False, False, False, False, False, False, False, False, False, False, False, False, True, False, True, False, False, False, True, False, True, False, True, True, False, False, False, True, False, True, False, False, False, False, False, False, True, True, True, False, False, False, True, True, False, True, False, False, False, False, False, False, False, False, False, True, True, False, False, False, True, True, True, True, True, False, False, False, False, False, False, False, False, False, False, False, False, False, False, False, False, False, False, False, False, False, False, False, False, False, False, False, False, False, False, False, True, True, False, True, False, False, False, False, False, False, False, False, False, False, False, False, False, False, True, True, False, False, False, False, False, False, False, False, False, False, False, True, False, True, True, True, False, False, False, False, True, False, False, True, True, True, True, True, True, True, True, True, False, True, True, True, True, True, True, True, True, True, True, True, True, False, True, True, True, True, True, False, False, True, False, False, False, False, False, False, False, True, False, False, False, True, False, True, False, False, False, False, True, False, False, False, False, False, False, False, False, True, True, True, True, False, False, False, False, False, False, False, False, False, True, False, False, False, False, True, False, False, False, True, False, True, False, False, False, False, False, False, True, True, True, False, True, True, False, True, True, False, False, False, False, False, False, False, False, False, True, False, False, False, False, False, False, False, True, False, False, False, False, False, False, False, False, False, True, False, False, True, False, True, False, False, False, False, False, False, False, False, False, False, False, False, False, False, False, False, False, False, False, False, True, False, False, False, False, True, True, False, True, True, True, False, False, True, True, True, False, False, False, False, False, False, True, True, True, True, True, True, True, True, False, False, True, False, False, False, False, False, True, False, True, True, True, True, True, True, True, False, False, True, True, True, False, False, False, False, False, False, False, False, False, False, False, False, False, False, False, False, False, False, False, False, True, True, True, True, False, False, False, False, False, False, False, False, False, False, True, False, False, False, False, True, False, True, True, True, True, True, True, True, False, True, False, False, False, False, False, True, True, False, True, False, False, False, False, True, False, False, False, True, False, False, False, True, False, False, True, False, False, False, False, True, False, True, False, True, True, True, True, False, False, False, True, False, False, False, False, False, False, True, True, False, False, False, False, False, False, False, False, True, False, False, False, True, False, False, False, True, True, False, False, True, False, True, False, False, False, False, False, True, True, True, False, True, True, True, True, True, True, False, False, True, True, True, True, False, False, False, False, False, False, False, False, False, False, False, False, False, False, False, False, False, False, False, False, False, False, False, False, True, False, False, False, False, False, True, False, False, False, False, True, True, False, False, False, False, False, True, True, False, False, False, False, False, True, True, False, False, False, False, False, False, False, True, False, False, False, False, False, False, False, False, False, False, False, False, False, False, False, False, False, False, False, True, False, False, True, False, False, False, False, False, False, False, False, False, False, False, False, False, False, False, False, False, False, False, False, False, False, False, False, False, False, False, False, False, False, False, True, False, True, True, True, False, True, False, False, False, False, True, False, False, False, False, True, False, False, False, False, False, False, False, False, False, False, False, False, False, False, True, True, True, True, True, True, True, True, False, True, False, True, True, True, False, False, False, False, True, False, False, False, True, False, False, False, False, False, False, False, False, False, False, False, False, False, False, False, False, False, False, False, False, False, False, False, False, False, False, True, False, False, False, False, False, False, False, False, False, False, False, False, True, False, False, True, False, False, False, False, False, False, True, False, False, False, False, False, False, False, False, False, False, False, False, True, False, False, False, False, False, False, True, True, True, True, True, True, True, True, True, True, True, True, True, True, True, True, True, False, False, False, False, False, False, False, False, False, False, False, False, False, False, False, False, False, False, True, True, True, True, False, True, True, True, True, False, True, True, False, True, False, False, False, False, True, True, False, False, True, False, True, True, True, False, False, False, True, False, True, False, True, False, False, False, False, False, True, True, True, True, False, True, True, False, False, False, False, False, False, False, False, False, False, False, False, True, False, False, False, False, False, False, False, False, True, True, False, False, False, False, False, False, False, False, False, False, False, False, False, False, False, False, False, False, False, False, False, False, False, False, False, True, True, False, False, False, False, True, False, False, True, True, True, False, False, False, False, False, False, True, True, False, True, True, False, False, True, True, False, False, True, True, True, False, True, True, True, False, False, True, False, False, False, True, False, False, True, False, True, True, False, False, False, False, False, False, False, True, True, True, False, False, False, False, False, True, False, False, False, False, False, False, True, False, False, False, False, False, False, True, True, True, True, False, False, False, False, False, False, False, False, False, False, False, False, True, True, False, False, True, True, True, True, True, True, True, True]\n"
     ]
    },
    {
     "name": "stderr",
     "output_type": "stream",
     "text": [
      "\n"
     ]
    }
   ],
   "source": [
    "# prediction\n",
    "def predict_kde(kde_rel, kde_un, data):\n",
    "    data = np.array([data])\n",
    "    data = data.reshape(-1, 1)\n",
    "    # data.reshape()\n",
    "    score_rel = kde_rel.score_samples(data)\n",
    "    score_un = kde_un.score_samples(data)\n",
    "    prediction = score_rel > score_un\n",
    "    return prediction[0]\n",
    "\n",
    "def predict_relation(kde_rel, kde_un, data_dict, ent_count):\n",
    "    \"\"\"Predict relation class given two kdes and a dictionary with log odds ratios\"\"\"\n",
    "    pred = []; label = []\n",
    "    for idx, text, relation in tqdm(df.itertuples(index=False)):\n",
    "        PMID, e1, e2 = idx.split(\".\")\n",
    "        # entity IDs should be different\n",
    "        if e1 == e2:\n",
    "            continue\n",
    "        df_pmid = df_ent.loc[df_ent[\"PMID\"] == PMID, :]\n",
    "        ent1 = df_pmid.loc[df_pmid[\"id\"] == e1, :][\"text\"].values[0]\n",
    "        ent2 = df_pmid.loc[df_pmid[\"id\"] == e2, :][\"text\"].values[0]\n",
    "        # entity text should be different\n",
    "        if ent1 == ent2:\n",
    "            continue\n",
    "        if ent1 in data_dict:\n",
    "            if ent2 in data_dict[ent1]:\n",
    "                log_odds = log2((n * data_dict[ent1][ent2]) / (ent_count[ent1] * ent_count[ent2]))\n",
    "                pred.append(predict_kde(kde_rel, kde_un, log_odds))\n",
    "                label.append(True if relation != 'false' else False)\n",
    "    return pred, label\n",
    "\n",
    "n = len(df)\n",
    "pred, label = predict_relation(kde_rel, kde_un, unsup_co_count, ent_count_dict)"
   ]
  },
  {
   "cell_type": "code",
   "execution_count": 56,
   "id": "cbea4030",
   "metadata": {},
   "outputs": [],
   "source": [
    "from sklearn.metrics import precision_recall_fscore_support\n",
    "p, r, f, s = precision_recall_fscore_support(label, pred)"
   ]
  },
  {
   "cell_type": "code",
   "execution_count": 57,
   "id": "0e8192e4",
   "metadata": {},
   "outputs": [
    {
     "name": "stdout",
     "output_type": "stream",
     "text": [
      "Precision: [0.78152394 0.37073316]\n",
      "Recall: [0.52230735 0.65840801]\n",
      "F1-score: [0.62614803 0.47436384]\n",
      "Support: [4438 1897]\n"
     ]
    }
   ],
   "source": [
    "print(f\"Precision: {p}\")\n",
    "print(f\"Recall: {r}\")\n",
    "print(f\"F1-score: {f}\")\n",
    "print(f\"Support: {s}\")"
   ]
  },
  {
   "cell_type": "markdown",
   "id": "6f903f83",
   "metadata": {},
   "source": [
    "## Supervised log odds ratio prediction"
   ]
  },
  {
   "cell_type": "code",
   "execution_count": 4,
   "id": "fd03c344",
   "metadata": {
    "scrolled": true
   },
   "outputs": [
    {
     "name": "stderr",
     "output_type": "stream",
     "text": [
      "292it [00:01, 164.15it/s]"
     ]
    },
    {
     "name": "stdout",
     "output_type": "stream",
     "text": [
      "Entity texts are equal: Ang II, Ang II, relation: false\n",
      "Entity texts are equal: Ang II, Ang II, relation: false\n",
      "Entity texts are equal: Ang II, Ang II, relation: false\n"
     ]
    },
    {
     "name": "stderr",
     "output_type": "stream",
     "text": [
      "326it [00:01, 161.93it/s]"
     ]
    },
    {
     "name": "stdout",
     "output_type": "stream",
     "text": [
      "Entity texts are equal: Ang II, Ang II, relation: false\n"
     ]
    },
    {
     "name": "stderr",
     "output_type": "stream",
     "text": [
      "428it [00:02, 164.12it/s]"
     ]
    },
    {
     "name": "stdout",
     "output_type": "stream",
     "text": [
      "Entity texts are equal: oxytocin, oxytocin, relation: false\n",
      "Entity texts are equal: oxytocin, oxytocin, relation: false\n",
      "Entity texts are equal: oxytocin, oxytocin, relation: false\n",
      "Entity texts are equal: oxytocin, oxytocin, relation: false\n",
      "Entity texts are equal: oxytocin, oxytocin, relation: false\n",
      "Entity texts are equal: oxytocin, oxytocin, relation: false\n",
      "Entity texts are equal: oxytocin, oxytocin, relation: false\n",
      "Entity texts are equal: oxytocin, oxytocin, relation: false\n",
      "Entity texts are equal: oxytocin, oxytocin, relation: false\n",
      "Entity texts are equal: oxytocin, oxytocin, relation: false\n",
      "Entity texts are equal: oxytocin, oxytocin, relation: false\n"
     ]
    },
    {
     "name": "stderr",
     "output_type": "stream",
     "text": [
      "2755it [00:16, 166.61it/s]"
     ]
    },
    {
     "name": "stdout",
     "output_type": "stream",
     "text": [
      "Entity texts are equal: AII, AII, relation: false\n",
      "Entity texts are equal: AII, AII, relation: false\n",
      "Entity texts are equal: AII, AII, relation: false\n",
      "Entity texts are equal: AII, AII, relation: false\n",
      "Entity texts are equal: bradykinin, bradykinin, relation: false\n",
      "Entity texts are equal: AII, AII, relation: false\n"
     ]
    },
    {
     "name": "stderr",
     "output_type": "stream",
     "text": [
      "5783it [00:35, 164.54it/s]"
     ]
    },
    {
     "name": "stdout",
     "output_type": "stream",
     "text": [
      "Entity texts are equal: Cys-Pro-Tyr-Cys, Cys-Pro-Tyr-Cys, relation: false\n",
      "Entity texts are equal: Cys-Ser-Tyr-Cys, Cys-Ser-Tyr-Cys, relation: false\n"
     ]
    },
    {
     "name": "stderr",
     "output_type": "stream",
     "text": [
      "7524it [00:45, 165.68it/s]"
     ]
    },
    {
     "name": "stdout",
     "output_type": "stream",
     "text": [
      "Entity texts are equal: AT2, AT2, relation: false\n",
      "Entity texts are equal: AT1, AT1, relation: false\n",
      "Entity texts are equal: AT2, AT2, relation: false\n",
      "Entity texts are equal: AT1, AT1, relation: false\n",
      "Entity texts are equal: AT2, AT2, relation: false\n",
      "Entity texts are equal: angiotensin II, angiotensin II, relation: false\n"
     ]
    },
    {
     "name": "stderr",
     "output_type": "stream",
     "text": [
      "9140it [00:55, 160.45it/s]"
     ]
    },
    {
     "name": "stdout",
     "output_type": "stream",
     "text": [
      "Entity texts are equal: DPP-4, DPP-4, relation: false\n"
     ]
    },
    {
     "name": "stderr",
     "output_type": "stream",
     "text": [
      "9226it [00:56, 161.32it/s]"
     ]
    },
    {
     "name": "stdout",
     "output_type": "stream",
     "text": [
      "Entity texts are equal: GnRH-II, GnRH-II, relation: false\n",
      "Entity texts are equal: GnRH-II, GnRH-II, relation: false\n",
      "Entity texts are equal: GnRH-II, GnRH-II, relation: false\n",
      "Entity texts are equal: GnRH-II, GnRH-II, relation: false\n",
      "Entity texts are equal: GnRH-II, GnRH-II, relation: false\n"
     ]
    },
    {
     "name": "stderr",
     "output_type": "stream",
     "text": [
      "9260it [00:56, 160.89it/s]"
     ]
    },
    {
     "name": "stdout",
     "output_type": "stream",
     "text": [
      "Entity texts are equal: angiotensin II, angiotensin II, relation: false\n",
      "Entity texts are equal: angiotensin II, angiotensin II, relation: false\n",
      "Entity texts are equal: Ang II, Ang II, relation: false\n",
      "Entity texts are equal: Ang II, Ang II, relation: false\n",
      "Entity texts are equal: Ang II, Ang II, relation: false\n",
      "Entity texts are equal: Ang II, Ang II, relation: false\n"
     ]
    },
    {
     "name": "stderr",
     "output_type": "stream",
     "text": [
      "9310it [00:56, 158.08it/s]"
     ]
    },
    {
     "name": "stdout",
     "output_type": "stream",
     "text": [
      "Entity texts are equal: Ang I, Ang I, relation: false\n",
      "Entity texts are equal: Ang II, Ang II, relation: false\n",
      "Entity texts are equal: Ang II, Ang II, relation: false\n"
     ]
    },
    {
     "name": "stderr",
     "output_type": "stream",
     "text": [
      "10153it [01:01, 168.00it/s]"
     ]
    },
    {
     "name": "stdout",
     "output_type": "stream",
     "text": [
      "Entity texts are equal: somatostatin, somatostatin, relation: false\n",
      "Entity texts are equal: arginine-vasopressin, arginine-vasopressin, relation: false\n"
     ]
    },
    {
     "name": "stderr",
     "output_type": "stream",
     "text": [
      "10986it [01:06, 165.21it/s]"
     ]
    },
    {
     "name": "stdout",
     "output_type": "stream",
     "text": [
      "Entity texts are equal: NMDA, NMDA, relation: false\n"
     ]
    },
    {
     "name": "stderr",
     "output_type": "stream",
     "text": [
      "11573it [01:10, 171.25it/s]"
     ]
    },
    {
     "name": "stdout",
     "output_type": "stream",
     "text": [
      "Entity texts are equal: GnRH, GnRH, relation: false\n",
      "Entity texts are equal: GH-releasing hormone, GH-releasing hormone, relation: false\n",
      "Entity texts are equal: TRH, TRH, relation: false\n"
     ]
    },
    {
     "name": "stderr",
     "output_type": "stream",
     "text": [
      "12322it [01:14, 166.61it/s]"
     ]
    },
    {
     "name": "stdout",
     "output_type": "stream",
     "text": [
      "Entity texts are equal: somatostatin, somatostatin, relation: false\n",
      "Entity texts are equal: somatostatin, somatostatin, relation: false\n",
      "Entity texts are equal: SRIF-14, SRIF-14, relation: false\n",
      "Entity texts are equal: SRIF-14, SRIF-14, relation: false\n",
      "Entity texts are equal: SRIF-14, SRIF-14, relation: false\n",
      "Entity texts are equal: SRIF-14, SRIF-14, relation: false\n",
      "Entity texts are equal: SRIF-14, SRIF-14, relation: false\n"
     ]
    },
    {
     "name": "stderr",
     "output_type": "stream",
     "text": [
      "13058it [01:19, 162.65it/s]"
     ]
    },
    {
     "name": "stdout",
     "output_type": "stream",
     "text": [
      "Entity texts are equal: arginine vasopressin, arginine vasopressin, relation: false\n",
      "Entity texts are equal: AVP, AVP, relation: false\n",
      "Entity texts are equal: AVP, AVP, relation: false\n",
      "Entity texts are equal: AVP, AVP, relation: false\n"
     ]
    },
    {
     "name": "stderr",
     "output_type": "stream",
     "text": [
      "13126it [01:19, 163.18it/s]"
     ]
    },
    {
     "name": "stdout",
     "output_type": "stream",
     "text": [
      "Entity texts are equal: VanB, VanB, relation: false\n"
     ]
    },
    {
     "name": "stderr",
     "output_type": "stream",
     "text": [
      "13212it [01:20, 163.10it/s]"
     ]
    },
    {
     "name": "stdout",
     "output_type": "stream",
     "text": [
      "Entity texts are equal: GnRH, GnRH, relation: false\n"
     ]
    },
    {
     "name": "stderr",
     "output_type": "stream",
     "text": [
      "13454it [01:21, 164.33it/s]"
     ]
    },
    {
     "name": "stdout",
     "output_type": "stream",
     "text": [
      "Entity texts are equal: gonadotrophin-releasing hormone, gonadotrophin-releasing hormone, relation: false\n",
      "Entity texts are equal: GnRH, GnRH, relation: false\n"
     ]
    },
    {
     "name": "stderr",
     "output_type": "stream",
     "text": [
      "13505it [01:22, 163.53it/s]"
     ]
    },
    {
     "name": "stdout",
     "output_type": "stream",
     "text": [
      "Entity texts are equal: dynorphin A, dynorphin A, relation: false\n",
      "Entity texts are equal: dynorphin A, dynorphin A, relation: false\n"
     ]
    },
    {
     "name": "stderr",
     "output_type": "stream",
     "text": [
      "14077it [01:25, 164.59it/s]"
     ]
    },
    {
     "name": "stdout",
     "output_type": "stream",
     "text": [
      "Entity texts are equal: arginine vasopressin, arginine vasopressin, relation: false\n",
      "Entity texts are equal: arginine vasopressin, arginine vasopressin, relation: false\n",
      "Entity texts are equal: arginine vasopressin, arginine vasopressin, relation: false\n",
      "Entity texts are equal: arginine vasopressin, arginine vasopressin, relation: false\n"
     ]
    },
    {
     "name": "stderr",
     "output_type": "stream",
     "text": [
      "15977it [01:37, 171.87it/s]"
     ]
    },
    {
     "name": "stdout",
     "output_type": "stream",
     "text": [
      "Entity texts are equal: substance P, substance P, relation: false\n",
      "Entity texts are equal: SP, SP, relation: false\n",
      "Entity texts are equal: SP, SP, relation: false\n"
     ]
    },
    {
     "name": "stderr",
     "output_type": "stream",
     "text": [
      "17918it [01:48, 169.58it/s]"
     ]
    },
    {
     "name": "stdout",
     "output_type": "stream",
     "text": [
      "Entity texts are equal: gonadotrophin-releasing hormone, gonadotrophin-releasing hormone, relation: false\n",
      "Entity texts are equal: gonadotrophin-releasing hormone, gonadotrophin-releasing hormone, relation: false\n",
      "Entity texts are equal: GnRH, GnRH, relation: false\n",
      "Entity texts are equal: GnRH, GnRH, relation: false\n",
      "Entity texts are equal: GnRH, GnRH, relation: false\n",
      "Entity texts are equal: GnRH, GnRH, relation: false\n",
      "Entity texts are equal: GnRH, GnRH, relation: false\n",
      "Entity texts are equal: GnRH, GnRH, relation: false\n",
      "Entity texts are equal: GnRH, GnRH, relation: false\n",
      "Entity texts are equal: GnRH, GnRH, relation: false\n",
      "Entity texts are equal: GnRH, GnRH, relation: false\n",
      "Entity texts are equal: GnRH, GnRH, relation: false\n"
     ]
    },
    {
     "name": "stderr",
     "output_type": "stream",
     "text": [
      "18335it [01:51, 169.24it/s]"
     ]
    },
    {
     "name": "stdout",
     "output_type": "stream",
     "text": [
      "Entity texts are equal: n-formyl-met-leu-phe, n-formyl-met-leu-phe, relation: false\n"
     ]
    },
    {
     "name": "stderr",
     "output_type": "stream",
     "text": [
      "18606it [01:53, 157.58it/s]"
     ]
    },
    {
     "name": "stdout",
     "output_type": "stream",
     "text": [
      "Entity texts are equal: GnRH, GnRH, relation: false\n",
      "Entity texts are equal: GnRH, GnRH, relation: false\n",
      "Entity texts are equal: GnRH, GnRH, relation: false\n",
      "Entity texts are equal: GnRH, GnRH, relation: false\n",
      "Entity texts are equal: GnRH, GnRH, relation: false\n",
      "Entity texts are equal: GnRH, GnRH, relation: false\n",
      "Entity texts are equal: GnRH, GnRH, relation: false\n",
      "Entity texts are equal: GnRH, GnRH, relation: false\n",
      "Entity texts are equal: GnRH, GnRH, relation: false\n"
     ]
    },
    {
     "name": "stderr",
     "output_type": "stream",
     "text": [
      "19644it [01:59, 162.99it/s]"
     ]
    },
    {
     "name": "stdout",
     "output_type": "stream",
     "text": [
      "Entity texts are equal: angiotensin II, angiotensin II, relation: false\n",
      "Entity texts are equal: angiotensin II, angiotensin II, relation: false\n",
      "Entity texts are equal: angiotensin II, angiotensin II, relation: false\n",
      "Entity texts are equal: angiotensin II, angiotensin II, relation: false\n",
      "Entity texts are equal: angiotensin II, angiotensin II, relation: false\n"
     ]
    },
    {
     "name": "stderr",
     "output_type": "stream",
     "text": [
      "20486it [02:04, 164.63it/s]"
     ]
    },
    {
     "name": "stdout",
     "output_type": "stream",
     "text": [
      "Entity texts are equal: 17 beta-EDH, 17 beta-EDH, relation: false\n"
     ]
    },
    {
     "name": "stderr",
     "output_type": "stream",
     "text": [
      "21119it [02:08, 164.73it/s]"
     ]
    },
    {
     "name": "stdout",
     "output_type": "stream",
     "text": [
      "Entity texts are equal: angiotensin, angiotensin, relation: false\n",
      "Entity texts are equal: Arginine vasopressin, Arginine vasopressin, relation: false\n"
     ]
    },
    {
     "name": "stderr",
     "output_type": "stream",
     "text": [
      "21497it [02:10, 165.82it/s]"
     ]
    },
    {
     "name": "stdout",
     "output_type": "stream",
     "text": [
      "Entity texts are equal: mTOR, mTOR, relation: false\n"
     ]
    },
    {
     "name": "stderr",
     "output_type": "stream",
     "text": [
      "21617it [02:11, 164.88it/s]"
     ]
    },
    {
     "name": "stdout",
     "output_type": "stream",
     "text": [
      "Entity texts are equal: neurotensin, neurotensin, relation: false\n",
      "Entity texts are equal: neurotensin, neurotensin, relation: false\n"
     ]
    },
    {
     "name": "stderr",
     "output_type": "stream",
     "text": [
      "22084it [02:14, 165.01it/s]"
     ]
    },
    {
     "name": "stdout",
     "output_type": "stream",
     "text": [
      "Entity texts are equal: pVIc, pVIc, relation: false\n",
      "Entity texts are equal: pVIc, pVIc, relation: false\n",
      "Entity texts are equal: pVIc, pVIc, relation: false\n",
      "Entity texts are equal: pVIc, pVIc, relation: false\n",
      "Entity texts are equal: pVIc, pVIc, relation: false\n",
      "Entity texts are equal: pVIc, pVIc, relation: false\n"
     ]
    },
    {
     "name": "stderr",
     "output_type": "stream",
     "text": [
      "22151it [02:14, 119.43it/s]"
     ]
    },
    {
     "name": "stdout",
     "output_type": "stream",
     "text": [
      "Entity texts are equal: Angiotensin II, Angiotensin II, relation: false\n",
      "Entity texts are equal: Ang II, Ang II, relation: false\n",
      "Entity texts are equal: Ang II, Ang II, relation: false\n",
      "Entity texts are equal: Ang II, Ang II, relation: false\n"
     ]
    },
    {
     "name": "stderr",
     "output_type": "stream",
     "text": [
      "23235it [02:22, 146.80it/s]"
     ]
    },
    {
     "name": "stdout",
     "output_type": "stream",
     "text": [
      "Entity texts are equal: DP, DP, relation: false\n",
      "Entity texts are equal: DP, DP, relation: false\n",
      "Entity texts are equal: IP, IP, relation: false\n",
      "Entity texts are equal: IP, IP, relation: false\n",
      "Entity texts are equal: TP, TP, relation: false\n"
     ]
    },
    {
     "name": "stderr",
     "output_type": "stream",
     "text": [
      "23269it [02:22, 155.30it/s]"
     ]
    },
    {
     "name": "stdout",
     "output_type": "stream",
     "text": [
      "Entity texts are equal: DP, DP, relation: false\n",
      "Entity texts are equal: DP, DP, relation: false\n",
      "Entity texts are equal: IP, IP, relation: false\n",
      "Entity texts are equal: IP, IP, relation: false\n"
     ]
    },
    {
     "name": "stderr",
     "output_type": "stream",
     "text": [
      "23341it [02:23, 170.25it/s]"
     ]
    },
    {
     "name": "stdout",
     "output_type": "stream",
     "text": [
      "Entity texts are equal: TP, TP, relation: false\n",
      "Entity texts are equal: IP, IP, relation: false\n"
     ]
    },
    {
     "name": "stderr",
     "output_type": "stream",
     "text": [
      "23377it [02:23, 174.21it/s]"
     ]
    },
    {
     "name": "stdout",
     "output_type": "stream",
     "text": [
      "Entity texts are equal: IP, IP, relation: false\n",
      "Entity texts are equal: TP, TP, relation: false\n",
      "Entity texts are equal: IP, IP, relation: false\n",
      "Entity texts are equal: IP, IP, relation: false\n",
      "Entity texts are equal: TP, TP, relation: false\n",
      "Entity texts are equal: IP, IP, relation: false\n",
      "Entity texts are equal: TP, TP, relation: false\n",
      "Entity texts are equal: FP, FP, relation: false\n"
     ]
    },
    {
     "name": "stderr",
     "output_type": "stream",
     "text": [
      "23609it [02:24, 166.38it/s]"
     ]
    },
    {
     "name": "stdout",
     "output_type": "stream",
     "text": [
      "Entity texts are equal: oxytocin, oxytocin, relation: false\n",
      "Entity texts are equal: oxytocin, oxytocin, relation: false\n",
      "Entity texts are equal: oxytocin, oxytocin, relation: false\n",
      "Entity texts are equal: oxytocin, oxytocin, relation: false\n",
      "Entity texts are equal: Astrin, Astrin, relation: false\n",
      "Entity texts are equal: astrin, astrin, relation: false\n",
      "Entity texts are equal: Astrin, Astrin, relation: false\n"
     ]
    },
    {
     "name": "stderr",
     "output_type": "stream",
     "text": [
      "24110it [02:28, 127.57it/s]"
     ]
    },
    {
     "name": "stdout",
     "output_type": "stream",
     "text": [
      "Entity texts are equal: oxytocin, oxytocin, relation: false\n",
      "Entity texts are equal: oxytocin, oxytocin, relation: false\n",
      "Entity texts are equal: oxytocin, oxytocin, relation: false\n",
      "Entity texts are equal: oxytocin, oxytocin, relation: false\n",
      "Entity texts are equal: oxytocin, oxytocin, relation: false\n"
     ]
    },
    {
     "name": "stderr",
     "output_type": "stream",
     "text": [
      "24363it [02:29, 160.47it/s]"
     ]
    },
    {
     "name": "stdout",
     "output_type": "stream",
     "text": [
      "Entity not a string: nan, NNMT\n"
     ]
    },
    {
     "name": "stderr",
     "output_type": "stream",
     "text": [
      "24924it [02:33, 139.44it/s]"
     ]
    },
    {
     "name": "stdout",
     "output_type": "stream",
     "text": [
      "Entity texts are equal: progestin, progestin, relation: false\n"
     ]
    },
    {
     "name": "stderr",
     "output_type": "stream",
     "text": [
      "24974it [02:33, 156.35it/s]"
     ]
    },
    {
     "name": "stdout",
     "output_type": "stream",
     "text": [
      "Entity texts are equal: progestin, progestin, relation: false\n"
     ]
    },
    {
     "name": "stderr",
     "output_type": "stream",
     "text": [
      "25300it [02:35, 137.08it/s]"
     ]
    },
    {
     "name": "stdout",
     "output_type": "stream",
     "text": [
      "Entity texts are equal: gonadotropin-releasing hormone, gonadotropin-releasing hormone, relation: false\n",
      "Entity texts are equal: GnRH, GnRH, relation: false\n",
      "Entity texts are equal: GnRH, GnRH, relation: false\n"
     ]
    },
    {
     "name": "stderr",
     "output_type": "stream",
     "text": [
      "25343it [02:36, 137.89it/s]"
     ]
    },
    {
     "name": "stdout",
     "output_type": "stream",
     "text": [
      "Entity texts are equal: GnRHs, GnRHs, relation: false\n",
      "Entity texts are equal: GnRH, GnRH, relation: false\n"
     ]
    },
    {
     "name": "stderr",
     "output_type": "stream",
     "text": [
      "25823it [02:39, 166.69it/s]"
     ]
    },
    {
     "name": "stdout",
     "output_type": "stream",
     "text": [
      "Entity texts are equal: angiotensin, angiotensin, relation: false\n",
      "Entity texts are equal: angiotensin, angiotensin, relation: false\n",
      "Entity texts are equal: angiotensin II, angiotensin II, relation: false\n",
      "Entity texts are equal: angiotensin II, angiotensin II, relation: false\n"
     ]
    },
    {
     "name": "stderr",
     "output_type": "stream",
     "text": [
      "25857it [02:39, 159.92it/s]"
     ]
    },
    {
     "name": "stdout",
     "output_type": "stream",
     "text": [
      "Entity texts are equal: oxytocin, oxytocin, relation: false\n"
     ]
    },
    {
     "name": "stderr",
     "output_type": "stream",
     "text": [
      "26463it [02:43, 162.19it/s]"
     ]
    },
    {
     "name": "stdout",
     "output_type": "stream",
     "text": [
      "Entity texts are equal: GnRH, GnRH, relation: false\n",
      "Entity texts are equal: GnRH, GnRH, relation: false\n",
      "Entity texts are equal: GnRH, GnRH, relation: false\n",
      "Entity texts are equal: GnRH, GnRH, relation: false\n",
      "Entity texts are equal: GnRH, GnRH, relation: false\n",
      "Entity texts are equal: GnRH, GnRH, relation: false\n",
      "Entity texts are equal: GnRH, GnRH, relation: false\n",
      "Entity texts are equal: GnRH, GnRH, relation: false\n",
      "Entity texts are equal: GnRH, GnRH, relation: false\n",
      "Entity texts are equal: GnRH, GnRH, relation: false\n",
      "Entity texts are equal: GnRH, GnRH, relation: false\n",
      "Entity texts are equal: GnRH, GnRH, relation: false\n",
      "Entity texts are equal: GnRH, GnRH, relation: false\n",
      "Entity texts are equal: GnRH, GnRH, relation: false\n",
      "Entity texts are equal: GnRH, GnRH, relation: false"
     ]
    },
    {
     "name": "stderr",
     "output_type": "stream",
     "text": [
      "26496it [02:43, 158.50it/s]"
     ]
    },
    {
     "name": "stdout",
     "output_type": "stream",
     "text": [
      "\n",
      "Entity texts are equal: GnRH, GnRH, relation: false\n",
      "Entity texts are equal: GnRH, GnRH, relation: false\n",
      "Entity texts are equal: GnRH, GnRH, relation: false\n",
      "Entity texts are equal: GnRH, GnRH, relation: false\n",
      "Entity texts are equal: GnRH, GnRH, relation: false\n"
     ]
    },
    {
     "name": "stderr",
     "output_type": "stream",
     "text": [
      "26681it [02:45, 160.01it/s]"
     ]
    },
    {
     "name": "stdout",
     "output_type": "stream",
     "text": [
      "Entity texts are equal: dopamine, dopamine, relation: false\n",
      "Entity texts are equal: dopamine, dopamine, relation: false\n"
     ]
    },
    {
     "name": "stderr",
     "output_type": "stream",
     "text": [
      "27375it [02:49, 160.94it/s]"
     ]
    },
    {
     "name": "stdout",
     "output_type": "stream",
     "text": [
      "Entity texts are equal: angiotensin II, angiotensin II, relation: false\n"
     ]
    },
    {
     "name": "stderr",
     "output_type": "stream",
     "text": [
      "28251it [02:54, 162.17it/s]"
     ]
    },
    {
     "name": "stdout",
     "output_type": "stream",
     "text": [
      "Entity texts are equal: angiotensin, angiotensin, relation: false\n"
     ]
    },
    {
     "name": "stderr",
     "output_type": "stream",
     "text": [
      "28767it [02:57, 160.80it/s]"
     ]
    },
    {
     "name": "stdout",
     "output_type": "stream",
     "text": [
      "Entity texts are equal: TRH, TRH, relation: false\n",
      "Entity texts are equal: TRH, TRH, relation: false\n",
      "Entity texts are equal: TRH, TRH, relation: false\n",
      "Entity texts are equal: TRH, TRH, relation: false\n",
      "Entity texts are equal: TRH, TRH, relation: false\n",
      "Entity texts are equal: TRH, TRH, relation: false\n",
      "Entity texts are equal: TRH, TRH, relation: false\n",
      "Entity texts are equal: TRH, TRH, relation: false\n",
      "Entity texts are equal: TRH, TRH, relation: false\n"
     ]
    },
    {
     "name": "stderr",
     "output_type": "stream",
     "text": [
      "28801it [02:58, 158.41it/s]"
     ]
    },
    {
     "name": "stdout",
     "output_type": "stream",
     "text": [
      "Entity texts are equal: TRH, TRH, relation: false\n",
      "Entity texts are equal: TRH, TRH, relation: false\n"
     ]
    },
    {
     "name": "stderr",
     "output_type": "stream",
     "text": [
      "29382it [03:01, 165.39it/s]"
     ]
    },
    {
     "name": "stdout",
     "output_type": "stream",
     "text": [
      "Entity texts are equal: GnRH, GnRH, relation: false\n",
      "Entity texts are equal: GnRH, GnRH, relation: false\n",
      "Entity texts are equal: GnRH, GnRH, relation: false\n",
      "Entity texts are equal: GnRH, GnRH, relation: false\n",
      "Entity texts are equal: GnRH, GnRH, relation: false\n",
      "Entity texts are equal: GnRH, GnRH, relation: false\n",
      "Entity texts are equal: GnRH, GnRH, relation: false\n",
      "Entity texts are equal: GnRH, GnRH, relation: false\n",
      "Entity texts are equal: GnRH, GnRH, relation: false\n"
     ]
    },
    {
     "name": "stderr",
     "output_type": "stream",
     "text": [
      "29433it [03:01, 161.20it/s]"
     ]
    },
    {
     "name": "stdout",
     "output_type": "stream",
     "text": [
      "Entity texts are equal: GnRH, GnRH, relation: false\n",
      "Entity texts are equal: GnRH, GnRH, relation: false\n",
      "Entity texts are equal: GnRH, GnRH, relation: false\n",
      "Entity texts are equal: GnRH, GnRH, relation: false\n",
      "Entity texts are equal: GnRH, GnRH, relation: false\n",
      "Entity texts are equal: GnRH, GnRH, relation: false\n",
      "Entity texts are equal: GnRH, GnRH, relation: false\n"
     ]
    },
    {
     "name": "stderr",
     "output_type": "stream",
     "text": [
      "29843it [03:04, 162.79it/s]"
     ]
    },
    {
     "name": "stdout",
     "output_type": "stream",
     "text": [
      "Entity texts are equal: angiotensin, angiotensin, relation: false\n"
     ]
    },
    {
     "name": "stderr",
     "output_type": "stream",
     "text": [
      "30492it [03:08, 173.47it/s]"
     ]
    },
    {
     "name": "stdout",
     "output_type": "stream",
     "text": [
      "Entity texts are equal: angiotensin, angiotensin, relation: false\n"
     ]
    },
    {
     "name": "stderr",
     "output_type": "stream",
     "text": [
      "30578it [03:08, 165.12it/s]"
     ]
    },
    {
     "name": "stdout",
     "output_type": "stream",
     "text": [
      "Entity texts are equal: HCS, HCS, relation: false\n"
     ]
    },
    {
     "name": "stderr",
     "output_type": "stream",
     "text": [
      "31369it [03:13, 166.26it/s]"
     ]
    },
    {
     "name": "stdout",
     "output_type": "stream",
     "text": [
      "Entity texts are equal: Cys-Ala-Leu-Asn-Asn, Cys-Ala-Leu-Asn-Asn, relation: false\n"
     ]
    },
    {
     "name": "stderr",
     "output_type": "stream",
     "text": [
      "34109it [03:30, 166.98it/s]"
     ]
    },
    {
     "name": "stdout",
     "output_type": "stream",
     "text": [
      "Entity texts are equal: 2-methyl-branched-chain acyl-CoA dehydrogenase, 2-methyl-branched-chain acyl-CoA dehydrogenase, relation: false\n",
      "Entity texts are equal: angiotensin, angiotensin, relation: false\n"
     ]
    },
    {
     "name": "stderr",
     "output_type": "stream",
     "text": [
      "34830it [03:34, 167.58it/s]"
     ]
    },
    {
     "name": "stdout",
     "output_type": "stream",
     "text": [
      "Entity texts are equal: vasopressin, vasopressin, relation: false\n",
      "Entity texts are equal: oxytocin, oxytocin, relation: false\n",
      "Entity texts are equal: Oxytocin, Oxytocin, relation: false\n",
      "Entity texts are equal: OT, OT, relation: false\n",
      "Entity texts are equal: OT, OT, relation: false\n"
     ]
    },
    {
     "name": "stderr",
     "output_type": "stream",
     "text": [
      "34881it [03:34, 161.54it/s]"
     ]
    },
    {
     "name": "stdout",
     "output_type": "stream",
     "text": [
      "Entity texts are equal: OT, OT, relation: false\n",
      "Entity texts are equal: OT, OT, relation: false\n",
      "Entity texts are equal: AVP, AVP, relation: false\n",
      "Entity texts are equal: AVP, AVP, relation: false\n",
      "Entity texts are equal: AVP, AVP, relation: false\n",
      "Entity texts are equal: vasopressin, vasopressin, relation: false\n"
     ]
    },
    {
     "name": "stderr",
     "output_type": "stream",
     "text": [
      "34914it [03:35, 156.73it/s]"
     ]
    },
    {
     "name": "stdout",
     "output_type": "stream",
     "text": [
      "Entity texts are equal: AVP, AVP, relation: false\n",
      "Entity texts are equal: AVP, AVP, relation: false\n",
      "Entity texts are equal: AVP, AVP, relation: false\n",
      "Entity texts are equal: AVP, AVP, relation: false\n",
      "Entity texts are equal: AVP, AVP, relation: false\n",
      "Entity texts are equal: AVP, AVP, relation: false\n",
      "Entity texts are equal: OT, OT, relation: false\n",
      "Entity texts are equal: OT, OT, relation: false\n",
      "Entity texts are equal: AVP, AVP, relation: false\n",
      "Entity texts are equal: AVP, AVP, relation: false\n",
      "Entity texts are equal: OT, OT, relation: false\n",
      "Entity texts are equal: OT, OT, relation: false\n"
     ]
    },
    {
     "name": "stderr",
     "output_type": "stream",
     "text": [
      "34947it [03:35, 158.93it/s]"
     ]
    },
    {
     "name": "stdout",
     "output_type": "stream",
     "text": [
      "Entity texts are equal: AVP, AVP, relation: false\n",
      "Entity texts are equal: OT, OT, relation: false\n",
      "Entity texts are equal: OT, OT, relation: false\n",
      "Entity texts are equal: OT, OT, relation: false\n",
      "Entity texts are equal: OT, OT, relation: false\n",
      "Entity texts are equal: AVP, AVP, relation: false\n",
      "Entity texts are equal: AVP, AVP, relation: false\n",
      "Entity texts are equal: AVP, AVP, relation: false\n",
      "Entity texts are equal: OT, OT, relation: false\n",
      "Entity texts are equal: OT, OT, relation: false\n",
      "Entity texts are equal: OT, OT, relation: false\n",
      "Entity texts are equal: OT, OT, relation: false\n",
      "Entity texts are equal: AVP, AVP, relation: false\n"
     ]
    },
    {
     "name": "stderr",
     "output_type": "stream",
     "text": [
      "34980it [03:35, 158.99it/s]"
     ]
    },
    {
     "name": "stdout",
     "output_type": "stream",
     "text": [
      "Entity texts are equal: AVP, AVP, relation: false\n",
      "Entity texts are equal: AVP, AVP, relation: false\n",
      "Entity texts are equal: OT, OT, relation: false\n",
      "Entity texts are equal: OT, OT, relation: false\n",
      "Entity texts are equal: OT, OT, relation: false\n",
      "Entity texts are equal: OT, OT, relation: false\n"
     ]
    },
    {
     "name": "stderr",
     "output_type": "stream",
     "text": [
      "35046it [03:35, 161.70it/s]"
     ]
    },
    {
     "name": "stdout",
     "output_type": "stream",
     "text": [
      "Entity texts are equal: OT, OT, relation: false\n",
      "Entity texts are equal: OT, OT, relation: false\n",
      "Entity texts are equal: OT, OT, relation: false\n",
      "Entity texts are equal: OT, OT, relation: false\n",
      "Entity texts are equal: OT, OT, relation: false\n",
      "Entity texts are equal: OT, OT, relation: false\n",
      "Entity texts are equal: OT, OT, relation: false\n",
      "Entity texts are equal: OT, OT, relation: false\n"
     ]
    },
    {
     "name": "stderr",
     "output_type": "stream",
     "text": [
      "35407it [03:38, 166.95it/s]"
     ]
    },
    {
     "name": "stdout",
     "output_type": "stream",
     "text": [
      "Entity texts are equal: HMG-CoA, HMG-CoA, relation: false\n"
     ]
    },
    {
     "name": "stderr",
     "output_type": "stream",
     "text": [
      "36185it [03:42, 164.43it/s]"
     ]
    },
    {
     "name": "stdout",
     "output_type": "stream",
     "text": [
      "Entity texts are equal: angiotensin II, angiotensin II, relation: false\n",
      "Entity texts are equal: Ang II, Ang II, relation: false\n",
      "Entity texts are equal: angiotensin II, angiotensin II, relation: false\n",
      "Entity texts are equal: Ang II, Ang II, relation: false\n",
      "Entity texts are equal: Ang II, Ang II, relation: false\n"
     ]
    },
    {
     "name": "stderr",
     "output_type": "stream",
     "text": [
      "36322it [03:43, 164.36it/s]"
     ]
    },
    {
     "name": "stdout",
     "output_type": "stream",
     "text": [
      "Entity texts are equal: bradykinin, bradykinin, relation: false\n",
      "Entity texts are equal: bradykinin, bradykinin, relation: false\n"
     ]
    },
    {
     "name": "stderr",
     "output_type": "stream",
     "text": [
      "36493it [03:44, 164.31it/s]"
     ]
    },
    {
     "name": "stdout",
     "output_type": "stream",
     "text": [
      "Entity texts are equal: Angiotensin II, Angiotensin II, relation: false\n",
      "Entity texts are equal: angiotensin (Ang) II, angiotensin (Ang) II, relation: false\n",
      "Entity texts are equal: Ang II, Ang II, relation: false\n",
      "Entity texts are equal: Ang II, Ang II, relation: false\n",
      "Entity texts are equal: Ang II, Ang II, relation: false\n",
      "Entity texts are equal: Ang I, Ang I, relation: false\n",
      "Entity texts are equal: Ang II, Ang II, relation: false\n",
      "Entity texts are equal: Ang II, Ang II, relation: false\n"
     ]
    },
    {
     "name": "stderr",
     "output_type": "stream",
     "text": [
      "36545it [03:44, 163.86it/s]"
     ]
    },
    {
     "name": "stdout",
     "output_type": "stream",
     "text": [
      "Entity texts are equal: Ang II, Ang II, relation: false\n",
      "Entity texts are equal: adenosine, adenosine, relation: false\n",
      "Entity texts are equal: adenosine, adenosine, relation: false\n"
     ]
    },
    {
     "name": "stderr",
     "output_type": "stream",
     "text": [
      "36580it [03:45, 166.12it/s]"
     ]
    },
    {
     "name": "stdout",
     "output_type": "stream",
     "text": [
      "Entity texts are equal: Adenosine, Adenosine, relation: false\n",
      "Entity texts are equal: adenosine, adenosine, relation: false\n",
      "Entity texts are equal: adenosine, adenosine, relation: false\n",
      "Entity texts are equal: adenosine, adenosine, relation: false\n",
      "Entity texts are equal: adenosine, adenosine, relation: false\n",
      "Entity texts are equal: adenosine, adenosine, relation: false\n",
      "Entity texts are equal: adenosine, adenosine, relation: false\n",
      "Entity texts are equal: adenosine, adenosine, relation: false\n",
      "Entity texts are equal: adenosine, adenosine, relation: false\n"
     ]
    },
    {
     "name": "stderr",
     "output_type": "stream",
     "text": [
      "36615it [03:45, 164.88it/s]"
     ]
    },
    {
     "name": "stdout",
     "output_type": "stream",
     "text": [
      "Entity texts are equal: adenosine, adenosine, relation: false\n"
     ]
    },
    {
     "name": "stderr",
     "output_type": "stream",
     "text": [
      "36666it [03:45, 162.64it/s]"
     ]
    },
    {
     "name": "stdout",
     "output_type": "stream",
     "text": [
      "Entity texts are equal: vasopressin, vasopressin, relation: false\n",
      "Entity texts are equal: vasopressin, vasopressin, relation: false\n",
      "Entity texts are equal: vasopressin, vasopressin, relation: false\n",
      "Entity texts are equal: vasopressin, vasopressin, relation: false\n",
      "Entity texts are equal: Vasopressin, Vasopressin, relation: false\n",
      "Entity texts are equal: vasopressin, vasopressin, relation: false\n",
      "Entity texts are equal: vasopressin, vasopressin, relation: false\n",
      "Entity texts are equal: vasopressin, vasopressin, relation: false\n",
      "Entity texts are equal: vasopressin, vasopressin, relation: false\n",
      "Entity texts are equal: GnRH II, GnRH II, relation: false\n",
      "Entity texts are equal: GnRH I, GnRH I, relation: false\n",
      "Entity texts are equal: GnRH II, GnRH II, relation: false\n"
     ]
    },
    {
     "name": "stderr",
     "output_type": "stream",
     "text": [
      "36700it [03:45, 160.16it/s]"
     ]
    },
    {
     "name": "stdout",
     "output_type": "stream",
     "text": [
      "Entity texts are equal: GnRH I, GnRH I, relation: false\n",
      "Entity texts are equal: GnRH II, GnRH II, relation: false\n",
      "Entity texts are equal: GnRH II, GnRH II, relation: false\n",
      "Entity texts are equal: [Trp2]-GnRH I, [Trp2]-GnRH I, relation: false\n"
     ]
    },
    {
     "name": "stderr",
     "output_type": "stream",
     "text": [
      "36734it [03:46, 159.98it/s]"
     ]
    },
    {
     "name": "stdout",
     "output_type": "stream",
     "text": [
      "Entity texts are equal: GnRH I, GnRH I, relation: false\n",
      "Entity texts are equal: [Trp2]-GnRH II, [Trp2]-GnRH II, relation: false\n",
      "Entity texts are equal: GnRH II, GnRH II, relation: false\n",
      "Entity texts are equal: GnRH I, GnRH I, relation: false\n",
      "Entity texts are equal: GnRH II, GnRH II, relation: false\n",
      "Entity texts are equal: GnRH II, GnRH II, relation: false\n",
      "Entity texts are equal: GnRH II, GnRH II, relation: false\n",
      "Entity texts are equal: GnRH, GnRH, relation: false\n"
     ]
    },
    {
     "name": "stderr",
     "output_type": "stream",
     "text": [
      "37526it [03:50, 167.07it/s]"
     ]
    },
    {
     "name": "stdout",
     "output_type": "stream",
     "text": [
      "Entity texts are equal: PMTLGYXNIRGL, PMTLGYXNIRGL, relation: false\n"
     ]
    },
    {
     "name": "stderr",
     "output_type": "stream",
     "text": [
      "37854it [03:52, 156.55it/s]"
     ]
    },
    {
     "name": "stdout",
     "output_type": "stream",
     "text": [
      "Entity texts are equal: neurotensin, neurotensin, relation: false\n",
      "Entity texts are equal: neurotensin, neurotensin, relation: false\n"
     ]
    },
    {
     "name": "stderr",
     "output_type": "stream",
     "text": [
      "38902it [03:59, 161.22it/s]"
     ]
    },
    {
     "name": "stdout",
     "output_type": "stream",
     "text": [
      "Entity texts are equal: Vasopressin, Vasopressin, relation: false\n",
      "Entity texts are equal: arginine vasopressin, arginine vasopressin, relation: false\n",
      "Entity texts are equal: AVP, AVP, relation: false\n",
      "Entity texts are equal: AVP, AVP, relation: false\n",
      "Entity texts are equal: angiotensin II, angiotensin II, relation: false\n",
      "Entity texts are equal: Ang II, Ang II, relation: false\n",
      "Entity texts are equal: Ang II, Ang II, relation: false\n"
     ]
    },
    {
     "name": "stderr",
     "output_type": "stream",
     "text": [
      "38936it [03:59, 160.36it/s]"
     ]
    },
    {
     "name": "stdout",
     "output_type": "stream",
     "text": [
      "Entity texts are equal: Ang II, Ang II, relation: false\n",
      "Entity texts are equal: Ang II, Ang II, relation: false\n",
      "Entity texts are equal: Ang II, Ang II, relation: false\n",
      "Entity texts are equal: Ang II, Ang II, relation: false\n",
      "Entity texts are equal: Ang II, Ang II, relation: false\n",
      "Entity texts are equal: Ang II, Ang II, relation: false\n"
     ]
    },
    {
     "name": "stderr",
     "output_type": "stream",
     "text": [
      "39574it [04:03, 163.99it/s]"
     ]
    },
    {
     "name": "stdout",
     "output_type": "stream",
     "text": [
      "Entity texts are equal: gonadotrophin-releasing hormone, gonadotrophin-releasing hormone, relation: false\n",
      "Entity texts are equal: GnRH, GnRH, relation: false\n"
     ]
    },
    {
     "name": "stderr",
     "output_type": "stream",
     "text": [
      "39693it [04:04, 164.55it/s]"
     ]
    },
    {
     "name": "stdout",
     "output_type": "stream",
     "text": [
      "Entity texts are equal: GGGGL, GGGGL, relation: false\n"
     ]
    },
    {
     "name": "stderr",
     "output_type": "stream",
     "text": [
      "39899it [04:05, 164.09it/s]"
     ]
    },
    {
     "name": "stdout",
     "output_type": "stream",
     "text": [
      "Entity texts are equal: angiotensin, angiotensin, relation: false\n",
      "Entity texts are equal: angiotensin II, angiotensin II, relation: false\n",
      "Entity texts are equal: angiotensin II, angiotensin II, relation: false\n"
     ]
    },
    {
     "name": "stderr",
     "output_type": "stream",
     "text": [
      "40739it [04:10, 168.64it/s]"
     ]
    },
    {
     "name": "stdout",
     "output_type": "stream",
     "text": [
      "Entity texts are equal: angiotensin, angiotensin, relation: false\n"
     ]
    },
    {
     "name": "stderr",
     "output_type": "stream",
     "text": [
      "41666it [04:15, 167.27it/s]"
     ]
    },
    {
     "name": "stdout",
     "output_type": "stream",
     "text": [
      "Entity texts are equal: BRS-3, BRS-3, relation: false\n",
      "Entity texts are equal: BRS-3, BRS-3, relation: false\n",
      "Entity texts are equal: BRS-3, BRS-3, relation: false\n"
     ]
    },
    {
     "name": "stderr",
     "output_type": "stream",
     "text": [
      "41906it [04:17, 168.41it/s]"
     ]
    },
    {
     "name": "stdout",
     "output_type": "stream",
     "text": [
      "Entity not a string: alpha 1 A-adrenoceptor, nan\n",
      "Entity not a string: alpha 1A adrenoceptors, nan\n",
      "Entity not a string: nan, alpha 1-adrenoceptor\n"
     ]
    },
    {
     "name": "stderr",
     "output_type": "stream",
     "text": [
      "42220it [04:19, 168.06it/s]"
     ]
    },
    {
     "name": "stdout",
     "output_type": "stream",
     "text": [
      "Entity texts are equal: NaK, NaK, relation: false\n"
     ]
    },
    {
     "name": "stderr",
     "output_type": "stream",
     "text": [
      "42254it [04:19, 160.09it/s]"
     ]
    },
    {
     "name": "stdout",
     "output_type": "stream",
     "text": [
      "Entity texts are equal: NaK, NaK, relation: false\n"
     ]
    },
    {
     "name": "stderr",
     "output_type": "stream",
     "text": [
      "42628it [04:21, 165.29it/s]"
     ]
    },
    {
     "name": "stdout",
     "output_type": "stream",
     "text": [
      "Entity texts are equal: angiotensin, angiotensin, relation: false\n",
      "Entity texts are equal: angiotensin II, angiotensin II, relation: false\n"
     ]
    },
    {
     "name": "stderr",
     "output_type": "stream",
     "text": [
      "43519it [04:27, 161.19it/s]"
     ]
    },
    {
     "name": "stdout",
     "output_type": "stream",
     "text": [
      "Entity texts are equal: somatostatin, somatostatin, relation: false\n",
      "Entity texts are equal: somatostatin, somatostatin, relation: false\n",
      "Entity texts are equal: somatostatin, somatostatin, relation: false\n",
      "Entity texts are equal: somatostatin, somatostatin, relation: false\n"
     ]
    },
    {
     "name": "stderr",
     "output_type": "stream",
     "text": [
      "43899it [04:30, 156.24it/s]"
     ]
    },
    {
     "name": "stdout",
     "output_type": "stream",
     "text": [
      "Entity texts are equal: oxytocin, oxytocin, relation: false\n",
      "Entity texts are equal: AVP, AVP, relation: false\n",
      "Entity texts are equal: oxytocin, oxytocin, relation: false\n",
      "Entity texts are equal: oxytocin, oxytocin, relation: false\n"
     ]
    },
    {
     "name": "stderr",
     "output_type": "stream",
     "text": [
      "43933it [04:30, 160.33it/s]"
     ]
    },
    {
     "name": "stdout",
     "output_type": "stream",
     "text": [
      "Entity texts are equal: Gly-Lys-Arg, Gly-Lys-Arg, relation: false\n"
     ]
    },
    {
     "name": "stderr",
     "output_type": "stream",
     "text": [
      "44302it [04:32, 155.14it/s]"
     ]
    },
    {
     "name": "stdout",
     "output_type": "stream",
     "text": [
      "Entity texts are equal: steroid sulfatases, steroid sulfatases, relation: false\n",
      "Entity texts are equal: STSs, STSs, relation: false\n",
      "Entity texts are equal: STSs, STSs, relation: false\n"
     ]
    },
    {
     "name": "stderr",
     "output_type": "stream",
     "text": [
      "45700it [04:41, 159.75it/s]"
     ]
    },
    {
     "name": "stdout",
     "output_type": "stream",
     "text": [
      "Entity texts are equal: angiotensin, angiotensin, relation: false\n",
      "Entity texts are equal: Ang II, Ang II, relation: false\n",
      "Entity texts are equal: Ang II, Ang II, relation: false\n",
      "Entity texts are equal: Ang II, Ang II, relation: false\n",
      "Entity texts are equal: Ang II, Ang II, relation: false\n",
      "Entity texts are equal: Ang II, Ang II, relation: false\n",
      "Entity texts are equal: Ang II, Ang II, relation: false\n",
      "Entity texts are equal: Ang II, Ang II, relation: false\n",
      "Entity texts are equal: Ang II, Ang II, relation: false\n",
      "Entity texts are equal: Ang II, Ang II, relation: false\n"
     ]
    },
    {
     "name": "stderr",
     "output_type": "stream",
     "text": [
      "45870it [04:42, 160.97it/s]"
     ]
    },
    {
     "name": "stdout",
     "output_type": "stream",
     "text": [
      "Entity texts are equal: gonadotrophin releasing hormone, gonadotrophin releasing hormone, relation: false\n",
      "Entity texts are equal: GnRH, GnRH, relation: false\n"
     ]
    },
    {
     "name": "stderr",
     "output_type": "stream",
     "text": [
      "45904it [04:42, 156.99it/s]"
     ]
    },
    {
     "name": "stdout",
     "output_type": "stream",
     "text": [
      "Entity texts are equal: somatostatin, somatostatin, relation: false\n",
      "Entity texts are equal: somatostatin, somatostatin, relation: false\n",
      "Entity texts are equal: somatostatin, somatostatin, relation: false\n",
      "Entity texts are equal: somatostatin, somatostatin, relation: false\n",
      "Entity texts are equal: somatostatin, somatostatin, relation: false\n"
     ]
    },
    {
     "name": "stderr",
     "output_type": "stream",
     "text": [
      "46446it [04:46, 161.20it/s]"
     ]
    },
    {
     "name": "stdout",
     "output_type": "stream",
     "text": [
      "Entity texts are equal: melatonin, melatonin, relation: false\n"
     ]
    },
    {
     "name": "stderr",
     "output_type": "stream",
     "text": [
      "47856it [04:55, 155.64it/s]"
     ]
    },
    {
     "name": "stdout",
     "output_type": "stream",
     "text": [
      "Entity texts are equal: angiotensin II, angiotensin II, relation: false\n"
     ]
    },
    {
     "name": "stderr",
     "output_type": "stream",
     "text": [
      "48589it [04:59, 172.31it/s]"
     ]
    },
    {
     "name": "stdout",
     "output_type": "stream",
     "text": [
      "Entity texts are equal: neurotensin, neurotensin, relation: false\n",
      "Entity texts are equal: neurotensin, neurotensin, relation: false\n",
      "Entity texts are equal: neurotensin, neurotensin, relation: false\n",
      "Entity texts are equal: neurotensin, neurotensin, relation: false\n",
      "Entity texts are equal: neurotensin, neurotensin, relation: false\n",
      "Entity texts are equal: neurotensin, neurotensin, relation: false\n",
      "Entity texts are equal: neurotensin, neurotensin, relation: false\n",
      "Entity texts are equal: neurotensin, neurotensin, relation: false\n",
      "Entity texts are equal: neurotensin, neurotensin, relation: false\n"
     ]
    },
    {
     "name": "stderr",
     "output_type": "stream",
     "text": [
      "48692it [05:00, 161.60it/s]"
     ]
    },
    {
     "name": "stdout",
     "output_type": "stream",
     "text": [
      "Entity texts are equal: vasopressin, vasopressin, relation: false\n",
      "Entity texts are equal: oxytocin, oxytocin, relation: false\n",
      "Entity texts are equal: Vasopressin, Vasopressin, relation: false\n",
      "Entity texts are equal: oxytocin, oxytocin, relation: false\n",
      "Entity texts are equal: vasopressin, vasopressin, relation: false\n"
     ]
    },
    {
     "name": "stderr",
     "output_type": "stream",
     "text": [
      "48744it [05:00, 167.08it/s]"
     ]
    },
    {
     "name": "stdout",
     "output_type": "stream",
     "text": [
      "Entity texts are equal: oxytocin, oxytocin, relation: false\n",
      "Entity texts are equal: vasopressin, vasopressin, relation: false\n",
      "Entity texts are equal: oxytocin, oxytocin, relation: false\n",
      "Entity texts are equal: oxytocin, oxytocin, relation: false\n",
      "Entity texts are equal: Vasopressin, Vasopressin, relation: false\n",
      "Entity texts are equal: vasopressin, vasopressin, relation: false\n",
      "Entity texts are equal: oxytocin, oxytocin, relation: false\n",
      "Entity texts are equal: vasopressin, vasopressin, relation: false\n",
      "Entity texts are equal: oxytocin, oxytocin, relation: false\n"
     ]
    },
    {
     "name": "stderr",
     "output_type": "stream",
     "text": [
      "49189it [05:03, 164.20it/s]"
     ]
    },
    {
     "name": "stdout",
     "output_type": "stream",
     "text": [
      "Entity texts are equal: thyrotropin, thyrotropin, relation: false\n"
     ]
    },
    {
     "name": "stderr",
     "output_type": "stream",
     "text": [
      "49544it [05:05, 164.88it/s]"
     ]
    },
    {
     "name": "stdout",
     "output_type": "stream",
     "text": [
      "Entity texts are equal: gonadotropin-releasing hormone, gonadotropin-releasing hormone, relation: false\n",
      "Entity texts are equal: GnRH, GnRH, relation: false\n"
     ]
    },
    {
     "name": "stderr",
     "output_type": "stream",
     "text": [
      "51198it [05:15, 165.21it/s]"
     ]
    },
    {
     "name": "stdout",
     "output_type": "stream",
     "text": [
      "Entity texts are equal: angiotensin (A) II, angiotensin (A) II, relation: false\n"
     ]
    },
    {
     "name": "stderr",
     "output_type": "stream",
     "text": [
      "51424it [05:16, 167.85it/s]"
     ]
    },
    {
     "name": "stdout",
     "output_type": "stream",
     "text": [
      "Entity texts are equal: lysine vasopressin, lysine vasopressin, relation: false\n",
      "Entity texts are equal: lysine vasopressin, lysine vasopressin, relation: false\n",
      "Entity texts are equal: LVP, LVP, relation: false\n",
      "Entity texts are equal: LVP, LVP, relation: false\n",
      "Entity texts are equal: LVP, LVP, relation: false\n",
      "Entity texts are equal: LVP, LVP, relation: false\n"
     ]
    },
    {
     "name": "stderr",
     "output_type": "stream",
     "text": [
      "51460it [05:17, 163.98it/s]"
     ]
    },
    {
     "name": "stdout",
     "output_type": "stream",
     "text": [
      "Entity texts are equal: LVP, LVP, relation: false\n",
      "Entity texts are equal: LVP, LVP, relation: false\n",
      "Entity texts are equal: LVP, LVP, relation: false\n"
     ]
    },
    {
     "name": "stderr",
     "output_type": "stream",
     "text": [
      "51935it [05:20, 161.46it/s]"
     ]
    },
    {
     "name": "stdout",
     "output_type": "stream",
     "text": [
      "Entity texts are equal: Sec, Sec, relation: false\n"
     ]
    },
    {
     "name": "stderr",
     "output_type": "stream",
     "text": [
      "51986it [05:20, 158.26it/s]"
     ]
    },
    {
     "name": "stdout",
     "output_type": "stream",
     "text": [
      "Entity texts are equal: angiotensin-II, angiotensin-II, relation: false\n",
      "Entity texts are equal: angiotensin-II, angiotensin-II, relation: false\n"
     ]
    },
    {
     "name": "stderr",
     "output_type": "stream",
     "text": [
      "52224it [05:21, 168.63it/s]"
     ]
    },
    {
     "name": "stdout",
     "output_type": "stream",
     "text": [
      "Entity texts are equal: DIC, DIC, relation: false\n",
      "Entity texts are equal: OGC, OGC, relation: false\n",
      "Entity texts are equal: DIC, DIC, relation: false\n",
      "Entity texts are equal: OGC, OGC, relation: false\n",
      "Entity texts are equal: Neurotensin, Neurotensin, relation: false\n"
     ]
    },
    {
     "name": "stderr",
     "output_type": "stream",
     "text": [
      "52278it [05:22, 166.54it/s]"
     ]
    },
    {
     "name": "stdout",
     "output_type": "stream",
     "text": [
      "Entity texts are equal: neurotensin, neurotensin, relation: false\n",
      "Entity texts are equal: neurotensin, neurotensin, relation: false\n",
      "Entity texts are equal: neurotensin, neurotensin, relation: false\n",
      "Entity texts are equal: neurotensin, neurotensin, relation: false\n"
     ]
    },
    {
     "name": "stderr",
     "output_type": "stream",
     "text": [
      "52942it [05:26, 159.97it/s]"
     ]
    },
    {
     "name": "stdout",
     "output_type": "stream",
     "text": [
      "Entity texts are equal: oxytocin, oxytocin, relation: false\n",
      "Entity texts are equal: Oxytocin, Oxytocin, relation: false\n",
      "Entity texts are equal: oxytocin, oxytocin, relation: false\n",
      "Entity texts are equal: oxytocin, oxytocin, relation: false\n",
      "Entity texts are equal: oxytocin, oxytocin, relation: false\n",
      "Entity texts are equal: Oxytocin, Oxytocin, relation: false\n",
      "Entity texts are equal: oxytocin, oxytocin, relation: false\n",
      "Entity texts are equal: oxytocin, oxytocin, relation: false\n",
      "Entity texts are equal: oxytocin, oxytocin, relation: false\n",
      "Entity texts are equal: oxytocin, oxytocin, relation: false\n",
      "Entity texts are equal: oxytocin, oxytocin, relation: false\n",
      "Entity texts are equal: oxytocin, oxytocin, relation: false\n",
      "Entity texts are equal: oxytocin, oxytocin, relation: false\n",
      "Entity texts are equal: oxytocin, oxytocin, relation: false\n",
      "Entity texts are equal: oxytocin, oxytocin, relation: false\n",
      "Entity texts are equal: oxytocin, oxytocin, relation: false\n"
     ]
    },
    {
     "name": "stderr",
     "output_type": "stream",
     "text": [
      "52976it [05:26, 160.43it/s]"
     ]
    },
    {
     "name": "stdout",
     "output_type": "stream",
     "text": [
      "Entity texts are equal: oxytocin, oxytocin, relation: false\n",
      "Entity texts are equal: oxytocin, oxytocin, relation: false\n",
      "Entity texts are equal: oxytocin, oxytocin, relation: false\n"
     ]
    },
    {
     "name": "stderr",
     "output_type": "stream",
     "text": [
      "53864it [05:31, 163.46it/s]"
     ]
    },
    {
     "name": "stdout",
     "output_type": "stream",
     "text": [
      "Entity texts are equal: Gonadotropin-releasing hormone, Gonadotropin-releasing hormone, relation: false\n",
      "Entity texts are equal: GnRH, GnRH, relation: false\n",
      "Entity texts are equal: GnRH, GnRH, relation: false\n",
      "Entity texts are equal: GnRH, GnRH, relation: false\n"
     ]
    },
    {
     "name": "stderr",
     "output_type": "stream",
     "text": [
      "53915it [05:32, 159.98it/s]"
     ]
    },
    {
     "name": "stdout",
     "output_type": "stream",
     "text": [
      "Entity texts are equal: LGTGPLRTFV, LGTGPLRTFV, relation: false\n",
      "Entity texts are equal: VGLITNGLAM, VGLITNGLAM, relation: false\n",
      "Entity texts are equal: LGAKILSVVI, LGAKILSVVI, relation: false\n",
      "Entity texts are equal: RTRGVGKVPR, RTRGVGKVPR, relation: false\n"
     ]
    },
    {
     "name": "stderr",
     "output_type": "stream",
     "text": [
      "55067it [05:39, 164.91it/s]"
     ]
    },
    {
     "name": "stdout",
     "output_type": "stream",
     "text": [
      "Entity texts are equal: oxytocin, oxytocin, relation: false\n"
     ]
    },
    {
     "name": "stderr",
     "output_type": "stream",
     "text": [
      "55638it [05:42, 159.64it/s]"
     ]
    },
    {
     "name": "stdout",
     "output_type": "stream",
     "text": [
      "Entity texts are equal: oxytocin, oxytocin, relation: false\n",
      "Entity texts are equal: oxytocin, oxytocin, relation: false\n",
      "Entity texts are equal: oxytocin, oxytocin, relation: false\n",
      "Entity texts are equal: oxytocin, oxytocin, relation: false\n",
      "Entity texts are equal: oxytocin, oxytocin, relation: false\n"
     ]
    },
    {
     "name": "stderr",
     "output_type": "stream",
     "text": [
      "55723it [05:43, 163.03it/s]"
     ]
    },
    {
     "name": "stdout",
     "output_type": "stream",
     "text": [
      "Entity texts are equal: oxytocin, oxytocin, relation: false\n",
      "Entity texts are equal: oxytocin, oxytocin, relation: false\n",
      "Entity texts are equal: oxytocin, oxytocin, relation: false\n"
     ]
    },
    {
     "name": "stderr",
     "output_type": "stream",
     "text": [
      "55789it [05:43, 159.58it/s]"
     ]
    },
    {
     "name": "stdout",
     "output_type": "stream",
     "text": [
      "Entity texts are equal: Gonadotropin-releasing hormone, Gonadotropin-releasing hormone, relation: false\n",
      "Entity texts are equal: Gonadotropin-releasing hormone, Gonadotropin-releasing hormone, relation: false\n",
      "Entity texts are equal: GnRH, GnRH, relation: false\n",
      "Entity texts are equal: GnRH, GnRH, relation: false\n",
      "Entity texts are equal: GnRH, GnRH, relation: false\n",
      "Entity texts are equal: GnRH, GnRH, relation: false\n"
     ]
    },
    {
     "name": "stderr",
     "output_type": "stream",
     "text": [
      "55839it [05:43, 161.93it/s]"
     ]
    },
    {
     "name": "stdout",
     "output_type": "stream",
     "text": [
      "Entity texts are equal: GnRH, GnRH, relation: false\n",
      "Entity texts are equal: GnRH, GnRH, relation: false\n",
      "Entity texts are equal: GnRH, GnRH, relation: false\n",
      "Entity texts are equal: GnRH, GnRH, relation: false\n",
      "Entity texts are equal: GnRH, GnRH, relation: false\n",
      "Entity texts are equal: GnRH, GnRH, relation: false\n",
      "Entity texts are equal: GnRH, GnRH, relation: false\n",
      "Entity texts are equal: GnRH, GnRH, relation: false\n",
      "Entity texts are equal: GnRH, GnRH, relation: false\n",
      "Entity texts are equal: GnRH, GnRH, relation: false\n",
      "Entity texts are equal: GnRH, GnRH, relation: false\n",
      "Entity texts are equal: GnRH, GnRH, relation: false\n",
      "Entity texts are equal: GnRH, GnRH, relation: false\n",
      "Entity texts are equal: GnRH, GnRH, relation: false\n",
      "Entity texts are equal: GnRH, GnRH, relation: false\n",
      "Entity texts are equal: GnRH, GnRH, relation: false\n",
      "Entity texts are equal: GnRH, GnRH, relation: false\n",
      "Entity texts are equal: GnRH, GnRH, relation: false\n",
      "Entity texts are equal: GnRH, GnRH, relation: false"
     ]
    },
    {
     "name": "stderr",
     "output_type": "stream",
     "text": [
      "57474it [05:53, 162.91it/s]"
     ]
    },
    {
     "name": "stdout",
     "output_type": "stream",
     "text": [
      "\n",
      "Entity texts are equal: vasopressin, vasopressin, relation: false\n"
     ]
    },
    {
     "name": "stderr",
     "output_type": "stream",
     "text": [
      "57763it [05:55, 165.23it/s]"
     ]
    },
    {
     "name": "stdout",
     "output_type": "stream",
     "text": [
      "Entity texts are equal: AVP, AVP, relation: false\n",
      "Entity texts are equal: AVP, AVP, relation: false\n"
     ]
    },
    {
     "name": "stderr",
     "output_type": "stream",
     "text": [
      "57917it [05:56, 167.76it/s]"
     ]
    },
    {
     "name": "stdout",
     "output_type": "stream",
     "text": [
      "Entity texts are equal: enkephalins, enkephalins, relation: false\n"
     ]
    },
    {
     "name": "stderr",
     "output_type": "stream",
     "text": [
      "58209it [05:58, 170.31it/s]"
     ]
    },
    {
     "name": "stdout",
     "output_type": "stream",
     "text": [
      "Entity texts are equal: thyroliberin, thyroliberin, relation: false\n",
      "Entity texts are equal: TRH, TRH, relation: false\n",
      "Entity texts are equal: thyroliberin, thyroliberin, relation: false\n",
      "Entity texts are equal: thyroliberin, thyroliberin, relation: false\n"
     ]
    },
    {
     "name": "stderr",
     "output_type": "stream",
     "text": [
      "59358it [06:05, 165.39it/s]"
     ]
    },
    {
     "name": "stdout",
     "output_type": "stream",
     "text": [
      "Entity texts are equal: gonadotrophin-releasing hormone, gonadotrophin-releasing hormone, relation: false\n",
      "Entity texts are equal: GnRH, GnRH, relation: false\n",
      "Entity texts are equal: GnRH, GnRH, relation: false\n",
      "Entity texts are equal: gonadotrophin-releasing hormone, gonadotrophin-releasing hormone, relation: false\n",
      "Entity texts are equal: GnRH, GnRH, relation: false\n",
      "Entity texts are equal: GnRH, GnRH, relation: false\n"
     ]
    },
    {
     "name": "stderr",
     "output_type": "stream",
     "text": [
      "59477it [06:06, 163.24it/s]"
     ]
    },
    {
     "name": "stdout",
     "output_type": "stream",
     "text": [
      "Entity texts are equal: vasopressin, vasopressin, relation: false\n",
      "Entity texts are equal: arginine vasopressin, arginine vasopressin, relation: false\n",
      "Entity texts are equal: AVP, AVP, relation: false\n"
     ]
    },
    {
     "name": "stderr",
     "output_type": "stream",
     "text": [
      "59546it [06:06, 167.71it/s]"
     ]
    },
    {
     "name": "stdout",
     "output_type": "stream",
     "text": [
      "Entity texts are equal: CpG, CpG, relation: false\n"
     ]
    },
    {
     "name": "stderr",
     "output_type": "stream",
     "text": [
      "59906it [06:08, 163.46it/s]"
     ]
    },
    {
     "name": "stdout",
     "output_type": "stream",
     "text": [
      "Entity texts are equal: oxytocin, oxytocin, relation: false\n",
      "Entity texts are equal: oxytocin, oxytocin, relation: false\n",
      "Entity texts are equal: oxytocin, oxytocin, relation: false\n",
      "Entity texts are equal: oxytocin, oxytocin, relation: false\n",
      "Entity texts are equal: oxytocin, oxytocin, relation: false\n",
      "Entity texts are equal: Oxytocin, Oxytocin, relation: false\n"
     ]
    },
    {
     "name": "stderr",
     "output_type": "stream",
     "text": [
      "60183it [06:10, 166.68it/s]"
     ]
    },
    {
     "name": "stdout",
     "output_type": "stream",
     "text": [
      "Entity texts are equal: TK, TK, relation: false\n",
      "Entity texts are equal: TK, TK, relation: false\n",
      "Entity texts are equal: TK, TK, relation: false\n",
      "Entity texts are equal: TK, TK, relation: false\n"
     ]
    },
    {
     "name": "stderr",
     "output_type": "stream",
     "text": [
      "60285it [06:10, 163.04it/s]"
     ]
    },
    {
     "name": "stdout",
     "output_type": "stream",
     "text": [
      "Entity texts are equal: mTOR, mTOR, relation: false\n",
      "Entity texts are equal: mTOR, mTOR, relation: false\n",
      "Entity texts are equal: mTOR, mTOR, relation: false\n",
      "Entity texts are equal: mTOR, mTOR, relation: false\n",
      "Entity texts are equal: mTOR, mTOR, relation: false\n"
     ]
    },
    {
     "name": "stderr",
     "output_type": "stream",
     "text": [
      "60319it [06:11, 162.09it/s]"
     ]
    },
    {
     "name": "stdout",
     "output_type": "stream",
     "text": [
      "Entity texts are equal: mTOR, mTOR, relation: false\n",
      "Entity texts are equal: mTOR, mTOR, relation: false\n",
      "Entity texts are equal: mTOR, mTOR, relation: false\n",
      "Entity texts are equal: mTOR, mTOR, relation: false\n",
      "Entity texts are equal: mTOR, mTOR, relation: false\n",
      "Entity texts are equal: mTOR, mTOR, relation: false\n",
      "Entity texts are equal: mTOR, mTOR, relation: false\n"
     ]
    },
    {
     "name": "stderr",
     "output_type": "stream",
     "text": [
      "60352it [06:11, 158.96it/s]"
     ]
    },
    {
     "name": "stdout",
     "output_type": "stream",
     "text": [
      "Entity texts are equal: mTOR, mTOR, relation: false\n",
      "Entity texts are equal: mTOR, mTOR, relation: false\n",
      "Entity texts are equal: mTOR, mTOR, relation: false\n",
      "Entity texts are equal: mTOR, mTOR, relation: false\n"
     ]
    },
    {
     "name": "stderr",
     "output_type": "stream",
     "text": [
      "60813it [06:14, 162.72it/s]"
     ]
    },
    {
     "name": "stdout",
     "output_type": "stream",
     "text": [
      "Entity texts are equal: estrogen, estrogen, relation: false\n"
     ]
    },
    {
     "name": "stderr",
     "output_type": "stream",
     "text": [
      "60915it [06:14, 164.21it/s]"
     ]
    },
    {
     "name": "stdout",
     "output_type": "stream",
     "text": [
      "Entity texts are equal: vasotocin, vasotocin, relation: false\n",
      "Entity texts are equal: AVT, AVT, relation: false\n",
      "Entity texts are equal: arginine vasopressin, arginine vasopressin, relation: false\n",
      "Entity texts are equal: AVP, AVP, relation: false\n",
      "Entity texts are equal: arginine vasotocin, arginine vasotocin, relation: false\n",
      "Entity texts are equal: AVT, AVT, relation: false\n",
      "Entity texts are equal: AVP, AVP, relation: false\n",
      "Entity texts are equal: AVT, AVT, relation: false\n",
      "Entity texts are equal: AVP, AVP, relation: false\n",
      "Entity texts are equal: AVT, AVT, relation: false\n",
      "Entity texts are equal: AVT, AVT, relation: false\n",
      "Entity texts are equal: AVT, AVT, relation: false\n",
      "Entity texts are equal: AVT, AVT, relation: false\n",
      "Entity texts are equal: AVT, AVT, relation: false\n",
      "Entity texts are equal: AVT, AVT, relation: false\n",
      "Entity texts are equal: AVP, AVP, relation: false\n"
     ]
    },
    {
     "name": "stderr",
     "output_type": "stream",
     "text": [
      "62247it [06:22, 168.60it/s]"
     ]
    },
    {
     "name": "stdout",
     "output_type": "stream",
     "text": [
      "Entity texts are equal: angiotensin, angiotensin, relation: false\n"
     ]
    },
    {
     "name": "stderr",
     "output_type": "stream",
     "text": [
      "63472it [06:30, 163.79it/s]"
     ]
    },
    {
     "name": "stdout",
     "output_type": "stream",
     "text": [
      "Entity texts are equal: angiotensin, angiotensin, relation: false\n",
      "Entity texts are equal: Ang-II, Ang-II, relation: false\n",
      "Entity texts are equal: angiotensin II, angiotensin II, relation: false\n",
      "Entity texts are equal: Ang II, Ang II, relation: false\n"
     ]
    },
    {
     "name": "stderr",
     "output_type": "stream",
     "text": [
      "63896it [06:33, 160.18it/s]"
     ]
    },
    {
     "name": "stdout",
     "output_type": "stream",
     "text": [
      "Entity texts are equal: angiotensin II, angiotensin II, relation: false\n",
      "Entity texts are equal: bradykinin, bradykinin, relation: false\n"
     ]
    },
    {
     "name": "stderr",
     "output_type": "stream",
     "text": [
      "64117it [06:34, 164.68it/s]"
     ]
    },
    {
     "name": "stdout",
     "output_type": "stream",
     "text": [
      "Entity texts are equal: somatostatin, somatostatin, relation: false\n",
      "Entity texts are equal: somatostatin-14, somatostatin-14, relation: false\n",
      "Entity texts are equal: somatostatin, somatostatin, relation: false\n",
      "Entity texts are equal: somatostatin, somatostatin, relation: false\n"
     ]
    },
    {
     "name": "stderr",
     "output_type": "stream",
     "text": [
      "64168it [06:35, 162.01it/s]"
     ]
    },
    {
     "name": "stdout",
     "output_type": "stream",
     "text": [
      "Entity texts are equal: angiotensin II, angiotensin II, relation: false\n",
      "Entity texts are equal: bradykinin, bradykinin, relation: false\n",
      "Entity texts are equal: angiotensin II, angiotensin II, relation: false\n",
      "Entity texts are equal: bradykinin, bradykinin, relation: false\n",
      "Entity texts are equal: angiotensin II, angiotensin II, relation: false\n",
      "Entity texts are equal: bradykinin, bradykinin, relation: false\n"
     ]
    },
    {
     "name": "stderr",
     "output_type": "stream",
     "text": [
      "64202it [06:35, 162.59it/s]"
     ]
    },
    {
     "name": "stdout",
     "output_type": "stream",
     "text": [
      "Entity texts are equal: angiotensin II, angiotensin II, relation: false\n",
      "Entity texts are equal: bradykinin, bradykinin, relation: false\n"
     ]
    },
    {
     "name": "stderr",
     "output_type": "stream",
     "text": [
      "64492it [06:37, 163.09it/s]"
     ]
    },
    {
     "name": "stdout",
     "output_type": "stream",
     "text": [
      "Entity texts are equal: substance P, substance P, relation: false\n",
      "Entity texts are equal: SP, SP, relation: false\n",
      "Entity texts are equal: SP, SP, relation: false\n",
      "Entity texts are equal: neurotensin, neurotensin, relation: false\n"
     ]
    },
    {
     "name": "stderr",
     "output_type": "stream",
     "text": [
      "64729it [06:38, 162.41it/s]\n"
     ]
    }
   ],
   "source": [
    "def update_ent_count(ent_count, ent):\n",
    "    \"\"\"count how many times an entity is mentioned in total\"\"\"\n",
    "    if ent in ent_count:\n",
    "        ent_count[ent] += 1\n",
    "    else:\n",
    "        ent_count[ent] = 1\n",
    "\n",
    "\n",
    "def update_co_count(co_count, ent1, ent2):\n",
    "    \"\"\"count number of cooccurences of two entities, but only if they are related\"\"\"\n",
    "    # check that both entity texts are strings\n",
    "    if (not isinstance(ent1, str)) or (not isinstance(ent2, str)):\n",
    "        print(f\"Entity not a string: {ent1}, {ent2}\")\n",
    "        return\n",
    "    if ent1 < ent2:\n",
    "        e1 = ent1\n",
    "        e2 = ent2\n",
    "    elif ent2 < ent1:\n",
    "        e1 = ent2\n",
    "        e2 = ent1\n",
    "    else:\n",
    "        print(f\"Neither entity string is smaller: {ent1}, {ent2}\")\n",
    "        return\n",
    "    if e1 in co_count:\n",
    "        if e2 in co_count[e1]:\n",
    "            co_count[e1][e2] += 1\n",
    "        else:\n",
    "            co_count[e1][e2] = 1\n",
    "    else:\n",
    "        co_count[e1] = {}\n",
    "        co_count[e1][e2] = 1\n",
    "\n",
    "ent_count = {}\n",
    "co_count = {}\n",
    "for idx, text, relation in tqdm(df.itertuples(index=False)):\n",
    "    PMID, e1, e2 = idx.split(\".\")\n",
    "    # entity IDs should be different\n",
    "    if e1 == e2:\n",
    "        print(f\"Entity IDs are equal: {e1}, {e2}\")\n",
    "        continue\n",
    "    df_pmid = df_ent.loc[df_ent[\"PMID\"] == PMID, :]\n",
    "    ent1 = df_pmid.loc[df_pmid[\"id\"] == e1, :][\"text\"].values[0]\n",
    "    ent2 = df_pmid.loc[df_pmid[\"id\"] == e2, :][\"text\"].values[0]\n",
    "    # ToDo: decide if texts should be different\n",
    "    # entity text should be different (?)\n",
    "    if ent1 == ent2:\n",
    "        print(f\"Entity texts are equal: {ent1}, {ent2}, relation: {relation}\")\n",
    "        continue\n",
    "    update_ent_count(ent_count, ent1)\n",
    "    update_ent_count(ent_count, ent2)\n",
    "    if relation != 'false':\n",
    "        update_co_count(co_count, ent1, ent2)"
   ]
  },
  {
   "cell_type": "code",
   "execution_count": 6,
   "id": "11922a07",
   "metadata": {},
   "outputs": [
    {
     "data": {
      "text/plain": [
       "{'androstanediol': {'human type 12 RDH': 1},\n",
       " 'DPHD': {'MAP kinase': 1,\n",
       "  'estrogen receptor': 1,\n",
       "  'RUNX2': 1,\n",
       "  'osterix': 1,\n",
       "  'osteocalcin': 1},\n",
       " 'ICI182780': {'estrogen receptor': 1},\n",
       " 'COL1A1': {'DPHD': 1}}"
      ]
     },
     "execution_count": 6,
     "metadata": {},
     "output_type": "execute_result"
    }
   ],
   "source": [
    "# co_count"
   ]
  },
  {
   "cell_type": "code",
   "execution_count": 50,
   "id": "3e276cee",
   "metadata": {},
   "outputs": [],
   "source": [
    "import pickle\n",
    "\n",
    "pickle.dump(ent_count, open(\"ent_count_dict.p\", \"wb\"))\n",
    "pickle.dump(co_count, open(\"co_count_dict.p\", \"wb\"))"
   ]
  },
  {
   "cell_type": "code",
   "execution_count": 27,
   "id": "cda14367",
   "metadata": {},
   "outputs": [],
   "source": [
    "ent_count = pickle.load(open(\"ent_count_dict.p\", \"rb\"))\n",
    "# [print(f\"{x}: {ent_count[x]}\") for x in ent_count]\n",
    "co_count = pickle.load(open(\"co_count_dict.p\", \"rb\"))"
   ]
  },
  {
   "cell_type": "markdown",
   "id": "16ca3665",
   "metadata": {},
   "source": [
    "## Calculate log odds ratio on training data"
   ]
  },
  {
   "cell_type": "code",
   "execution_count": 28,
   "id": "131269b1",
   "metadata": {},
   "outputs": [
    {
     "name": "stderr",
     "output_type": "stream",
     "text": [
      "100%|███████████████████████████████████| 5779/5779 [00:00<00:00, 345770.86it/s]\n"
     ]
    }
   ],
   "source": [
    "from math import log2\n",
    "\n",
    "n = len(df)\n",
    "cooc = {}\n",
    "co_list = []\n",
    "for e1 in tqdm(co_count):\n",
    "    cooc[e1] = {}\n",
    "    for e2 in co_count[e1]:\n",
    "        cooc[e1][e2] = log2((n * co_count[e1][e2]) / (ent_count[e1] * ent_count[e2]))\n",
    "        co_list.append(cooc[e1][e2])"
   ]
  },
  {
   "cell_type": "markdown",
   "id": "61863ff4",
   "metadata": {},
   "source": [
    "## Cooccurence for false relations"
   ]
  },
  {
   "cell_type": "code",
   "execution_count": 70,
   "id": "21092ed5",
   "metadata": {
    "scrolled": true
   },
   "outputs": [
    {
     "name": "stderr",
     "output_type": "stream",
     "text": [
      "281it [00:01, 152.76it/s]"
     ]
    },
    {
     "name": "stdout",
     "output_type": "stream",
     "text": [
      "Entity texts are equal: Ang II, Ang II, relation: false\n",
      "Entity texts are equal: Ang II, Ang II, relation: false\n"
     ]
    },
    {
     "name": "stderr",
     "output_type": "stream",
     "text": [
      "312it [00:02, 145.67it/s]"
     ]
    },
    {
     "name": "stdout",
     "output_type": "stream",
     "text": [
      "Entity texts are equal: Ang II, Ang II, relation: false\n",
      "Entity texts are equal: Ang II, Ang II, relation: false\n"
     ]
    },
    {
     "name": "stderr",
     "output_type": "stream",
     "text": [
      "425it [00:02, 144.08it/s]"
     ]
    },
    {
     "name": "stdout",
     "output_type": "stream",
     "text": [
      "Entity texts are equal: oxytocin, oxytocin, relation: false\n",
      "Entity texts are equal: oxytocin, oxytocin, relation: false\n",
      "Entity texts are equal: oxytocin, oxytocin, relation: false\n",
      "Entity texts are equal: oxytocin, oxytocin, relation: false\n",
      "Entity texts are equal: oxytocin, oxytocin, relation: false\n",
      "Entity texts are equal: oxytocin, oxytocin, relation: false\n",
      "Entity texts are equal: oxytocin, oxytocin, relation: false\n",
      "Entity texts are equal: oxytocin, oxytocin, relation: false\n",
      "Entity texts are equal: oxytocin, oxytocin, relation: false\n",
      "Entity texts are equal: oxytocin, oxytocin, relation: false\n",
      "Entity texts are equal: oxytocin, oxytocin, relation: false\n"
     ]
    },
    {
     "name": "stderr",
     "output_type": "stream",
     "text": [
      "2752it [00:21, 127.74it/s]"
     ]
    },
    {
     "name": "stdout",
     "output_type": "stream",
     "text": [
      "Entity texts are equal: AII, AII, relation: false\n",
      "Entity texts are equal: AII, AII, relation: false\n",
      "Entity texts are equal: AII, AII, relation: false\n",
      "Entity texts are equal: AII, AII, relation: false\n",
      "Entity texts are equal: bradykinin, bradykinin, relation: false\n"
     ]
    },
    {
     "name": "stderr",
     "output_type": "stream",
     "text": [
      "2779it [00:21, 128.05it/s]"
     ]
    },
    {
     "name": "stdout",
     "output_type": "stream",
     "text": [
      "Entity texts are equal: AII, AII, relation: false\n"
     ]
    },
    {
     "name": "stderr",
     "output_type": "stream",
     "text": [
      "5787it [00:46, 123.15it/s]"
     ]
    },
    {
     "name": "stdout",
     "output_type": "stream",
     "text": [
      "Entity texts are equal: Cys-Pro-Tyr-Cys, Cys-Pro-Tyr-Cys, relation: false\n",
      "Entity texts are equal: Cys-Ser-Tyr-Cys, Cys-Ser-Tyr-Cys, relation: false\n"
     ]
    },
    {
     "name": "stderr",
     "output_type": "stream",
     "text": [
      "7523it [01:00, 125.27it/s]"
     ]
    },
    {
     "name": "stdout",
     "output_type": "stream",
     "text": [
      "Entity texts are equal: AT2, AT2, relation: false\n",
      "Entity texts are equal: AT1, AT1, relation: false\n",
      "Entity texts are equal: AT2, AT2, relation: false\n",
      "Entity texts are equal: AT1, AT1, relation: false\n"
     ]
    },
    {
     "name": "stderr",
     "output_type": "stream",
     "text": [
      "7550it [01:00, 127.54it/s]"
     ]
    },
    {
     "name": "stdout",
     "output_type": "stream",
     "text": [
      "Entity texts are equal: AT2, AT2, relation: false\n",
      "Entity texts are equal: angiotensin II, angiotensin II, relation: false\n"
     ]
    },
    {
     "name": "stderr",
     "output_type": "stream",
     "text": [
      "9127it [01:13, 121.72it/s]"
     ]
    },
    {
     "name": "stdout",
     "output_type": "stream",
     "text": [
      "Entity texts are equal: DPP-4, DPP-4, relation: false\n"
     ]
    },
    {
     "name": "stderr",
     "output_type": "stream",
     "text": [
      "9218it [01:13, 126.04it/s]"
     ]
    },
    {
     "name": "stdout",
     "output_type": "stream",
     "text": [
      "Entity texts are equal: GnRH-II, GnRH-II, relation: false\n",
      "Entity texts are equal: GnRH-II, GnRH-II, relation: false\n",
      "Entity texts are equal: GnRH-II, GnRH-II, relation: false\n",
      "Entity texts are equal: GnRH-II, GnRH-II, relation: false\n"
     ]
    },
    {
     "name": "stderr",
     "output_type": "stream",
     "text": [
      "9245it [01:14, 124.70it/s]"
     ]
    },
    {
     "name": "stdout",
     "output_type": "stream",
     "text": [
      "Entity texts are equal: GnRH-II, GnRH-II, relation: false\n",
      "Entity texts are equal: angiotensin II, angiotensin II, relation: false\n",
      "Entity texts are equal: angiotensin II, angiotensin II, relation: false\n",
      "Entity texts are equal: Ang II, Ang II, relation: false\n",
      "Entity texts are equal: Ang II, Ang II, relation: false\n"
     ]
    },
    {
     "name": "stderr",
     "output_type": "stream",
     "text": [
      "9272it [01:14, 126.92it/s]"
     ]
    },
    {
     "name": "stdout",
     "output_type": "stream",
     "text": [
      "Entity texts are equal: Ang II, Ang II, relation: false\n",
      "Entity texts are equal: Ang II, Ang II, relation: false\n",
      "Entity texts are equal: Ang I, Ang I, relation: false\n",
      "Entity texts are equal: Ang II, Ang II, relation: false\n"
     ]
    },
    {
     "name": "stderr",
     "output_type": "stream",
     "text": [
      "9311it [01:14, 124.44it/s]"
     ]
    },
    {
     "name": "stdout",
     "output_type": "stream",
     "text": [
      "Entity texts are equal: Ang II, Ang II, relation: false\n"
     ]
    },
    {
     "name": "stderr",
     "output_type": "stream",
     "text": [
      "10144it [01:21, 129.70it/s]"
     ]
    },
    {
     "name": "stdout",
     "output_type": "stream",
     "text": [
      "Entity texts are equal: somatostatin, somatostatin, relation: false\n",
      "Entity texts are equal: arginine-vasopressin, arginine-vasopressin, relation: false\n"
     ]
    },
    {
     "name": "stderr",
     "output_type": "stream",
     "text": [
      "10976it [01:27, 123.56it/s]"
     ]
    },
    {
     "name": "stdout",
     "output_type": "stream",
     "text": [
      "Entity texts are equal: NMDA, NMDA, relation: false\n"
     ]
    },
    {
     "name": "stderr",
     "output_type": "stream",
     "text": [
      "11559it [01:32, 130.79it/s]"
     ]
    },
    {
     "name": "stdout",
     "output_type": "stream",
     "text": [
      "Entity texts are equal: GnRH, GnRH, relation: false\n",
      "Entity texts are equal: GH-releasing hormone, GH-releasing hormone, relation: false\n",
      "Entity texts are equal: TRH, TRH, relation: false\n"
     ]
    },
    {
     "name": "stderr",
     "output_type": "stream",
     "text": [
      "12288it [01:38, 128.06it/s]"
     ]
    },
    {
     "name": "stdout",
     "output_type": "stream",
     "text": [
      "Entity texts are equal: somatostatin, somatostatin, relation: false\n",
      "Entity texts are equal: somatostatin, somatostatin, relation: false\n",
      "Entity texts are equal: SRIF-14, SRIF-14, relation: false\n",
      "Entity texts are equal: SRIF-14, SRIF-14, relation: false\n",
      "Entity texts are equal: SRIF-14, SRIF-14, relation: false\n",
      "Entity texts are equal: SRIF-14, SRIF-14, relation: false\n",
      "Entity texts are equal: SRIF-14, SRIF-14, relation: false\n"
     ]
    },
    {
     "name": "stderr",
     "output_type": "stream",
     "text": [
      "13050it [01:44, 126.95it/s]"
     ]
    },
    {
     "name": "stdout",
     "output_type": "stream",
     "text": [
      "Entity texts are equal: arginine vasopressin, arginine vasopressin, relation: false\n",
      "Entity texts are equal: AVP, AVP, relation: false\n",
      "Entity texts are equal: AVP, AVP, relation: false\n",
      "Entity texts are equal: AVP, AVP, relation: false\n"
     ]
    },
    {
     "name": "stderr",
     "output_type": "stream",
     "text": [
      "13115it [01:44, 125.10it/s]"
     ]
    },
    {
     "name": "stdout",
     "output_type": "stream",
     "text": [
      "Entity texts are equal: VanB, VanB, relation: false\n"
     ]
    },
    {
     "name": "stderr",
     "output_type": "stream",
     "text": [
      "13208it [01:45, 123.51it/s]"
     ]
    },
    {
     "name": "stdout",
     "output_type": "stream",
     "text": [
      "Entity texts are equal: GnRH, GnRH, relation: false\n"
     ]
    },
    {
     "name": "stderr",
     "output_type": "stream",
     "text": [
      "13455it [01:47, 120.51it/s]"
     ]
    },
    {
     "name": "stdout",
     "output_type": "stream",
     "text": [
      "Entity texts are equal: gonadotrophin-releasing hormone, gonadotrophin-releasing hormone, relation: false\n",
      "Entity texts are equal: GnRH, GnRH, relation: false\n"
     ]
    },
    {
     "name": "stderr",
     "output_type": "stream",
     "text": [
      "13507it [01:47, 120.53it/s]"
     ]
    },
    {
     "name": "stdout",
     "output_type": "stream",
     "text": [
      "Entity texts are equal: dynorphin A, dynorphin A, relation: false\n",
      "Entity texts are equal: dynorphin A, dynorphin A, relation: false\n"
     ]
    },
    {
     "name": "stderr",
     "output_type": "stream",
     "text": [
      "14064it [01:52, 128.15it/s]"
     ]
    },
    {
     "name": "stdout",
     "output_type": "stream",
     "text": [
      "Entity texts are equal: arginine vasopressin, arginine vasopressin, relation: false\n",
      "Entity texts are equal: arginine vasopressin, arginine vasopressin, relation: false\n",
      "Entity texts are equal: arginine vasopressin, arginine vasopressin, relation: false\n",
      "Entity texts are equal: arginine vasopressin, arginine vasopressin, relation: false\n"
     ]
    },
    {
     "name": "stderr",
     "output_type": "stream",
     "text": [
      "15965it [02:07, 167.39it/s]"
     ]
    },
    {
     "name": "stdout",
     "output_type": "stream",
     "text": [
      "Entity texts are equal: substance P, substance P, relation: false\n",
      "Entity texts are equal: SP, SP, relation: false\n",
      "Entity texts are equal: SP, SP, relation: false\n"
     ]
    },
    {
     "name": "stderr",
     "output_type": "stream",
     "text": [
      "16719it [02:11, 167.01it/s]"
     ]
    },
    {
     "name": "stdout",
     "output_type": "stream",
     "text": [
      "Entity not a string: histamine H1-receptor, nan\n",
      "Entity not a string: nan, alpha-adrenoceptors\n",
      "Entity not a string: histamine H1-receptor, nan\n",
      "Entity not a string: H1, nan\n",
      "Entity not a string: histamine H1-receptor, nan\n",
      "Entity not a string: H1, nan\n"
     ]
    },
    {
     "name": "stderr",
     "output_type": "stream",
     "text": [
      "17896it [02:18, 168.22it/s]"
     ]
    },
    {
     "name": "stdout",
     "output_type": "stream",
     "text": [
      "Entity texts are equal: gonadotrophin-releasing hormone, gonadotrophin-releasing hormone, relation: false\n",
      "Entity texts are equal: gonadotrophin-releasing hormone, gonadotrophin-releasing hormone, relation: false\n",
      "Entity texts are equal: GnRH, GnRH, relation: false\n",
      "Entity texts are equal: GnRH, GnRH, relation: false\n",
      "Entity texts are equal: GnRH, GnRH, relation: false\n",
      "Entity texts are equal: GnRH, GnRH, relation: false\n",
      "Entity texts are equal: GnRH, GnRH, relation: false\n",
      "Entity texts are equal: GnRH, GnRH, relation: false\n",
      "Entity texts are equal: GnRH, GnRH, relation: false\n",
      "Entity texts are equal: GnRH, GnRH, relation: false\n",
      "Entity texts are equal: GnRH, GnRH, relation: false\n",
      "Entity texts are equal: GnRH, GnRH, relation: false\n"
     ]
    },
    {
     "name": "stderr",
     "output_type": "stream",
     "text": [
      "18341it [02:21, 170.72it/s]"
     ]
    },
    {
     "name": "stdout",
     "output_type": "stream",
     "text": [
      "Entity texts are equal: n-formyl-met-leu-phe, n-formyl-met-leu-phe, relation: false\n"
     ]
    },
    {
     "name": "stderr",
     "output_type": "stream",
     "text": [
      "18616it [02:23, 166.84it/s]"
     ]
    },
    {
     "name": "stdout",
     "output_type": "stream",
     "text": [
      "Entity texts are equal: GnRH, GnRH, relation: false\n",
      "Entity texts are equal: GnRH, GnRH, relation: false\n",
      "Entity texts are equal: GnRH, GnRH, relation: false\n",
      "Entity texts are equal: GnRH, GnRH, relation: false\n",
      "Entity texts are equal: GnRH, GnRH, relation: false\n",
      "Entity texts are equal: GnRH, GnRH, relation: false\n",
      "Entity texts are equal: GnRH, GnRH, relation: false\n",
      "Entity texts are equal: GnRH, GnRH, relation: false\n",
      "Entity texts are equal: GnRH, GnRH, relation: false\n"
     ]
    },
    {
     "name": "stderr",
     "output_type": "stream",
     "text": [
      "19638it [02:29, 166.61it/s]"
     ]
    },
    {
     "name": "stdout",
     "output_type": "stream",
     "text": [
      "Entity texts are equal: angiotensin II, angiotensin II, relation: false\n",
      "Entity texts are equal: angiotensin II, angiotensin II, relation: false\n",
      "Entity texts are equal: angiotensin II, angiotensin II, relation: false\n",
      "Entity texts are equal: angiotensin II, angiotensin II, relation: false\n",
      "Entity texts are equal: angiotensin II, angiotensin II, relation: false\n"
     ]
    },
    {
     "name": "stderr",
     "output_type": "stream",
     "text": [
      "20482it [02:34, 169.34it/s]"
     ]
    },
    {
     "name": "stdout",
     "output_type": "stream",
     "text": [
      "Entity texts are equal: 17 beta-EDH, 17 beta-EDH, relation: false\n"
     ]
    },
    {
     "name": "stderr",
     "output_type": "stream",
     "text": [
      "21113it [02:38, 167.54it/s]"
     ]
    },
    {
     "name": "stdout",
     "output_type": "stream",
     "text": [
      "Entity texts are equal: angiotensin, angiotensin, relation: false\n",
      "Entity texts are equal: Arginine vasopressin, Arginine vasopressin, relation: false\n"
     ]
    },
    {
     "name": "stderr",
     "output_type": "stream",
     "text": [
      "21487it [02:40, 166.92it/s]"
     ]
    },
    {
     "name": "stdout",
     "output_type": "stream",
     "text": [
      "Entity texts are equal: mTOR, mTOR, relation: false\n"
     ]
    },
    {
     "name": "stderr",
     "output_type": "stream",
     "text": [
      "21606it [02:41, 166.43it/s]"
     ]
    },
    {
     "name": "stdout",
     "output_type": "stream",
     "text": [
      "Entity texts are equal: neurotensin, neurotensin, relation: false\n",
      "Entity texts are equal: neurotensin, neurotensin, relation: false\n"
     ]
    },
    {
     "name": "stderr",
     "output_type": "stream",
     "text": [
      "22077it [02:44, 110.55it/s]"
     ]
    },
    {
     "name": "stdout",
     "output_type": "stream",
     "text": [
      "Entity texts are equal: pVIc, pVIc, relation: false\n",
      "Entity texts are equal: pVIc, pVIc, relation: false\n",
      "Entity texts are equal: pVIc, pVIc, relation: false\n",
      "Entity texts are equal: pVIc, pVIc, relation: false\n",
      "Entity texts are equal: pVIc, pVIc, relation: false\n",
      "Entity texts are equal: pVIc, pVIc, relation: false\n"
     ]
    },
    {
     "name": "stderr",
     "output_type": "stream",
     "text": [
      "22157it [02:45, 125.98it/s]"
     ]
    },
    {
     "name": "stdout",
     "output_type": "stream",
     "text": [
      "Entity texts are equal: Angiotensin II, Angiotensin II, relation: false\n",
      "Entity texts are equal: Ang II, Ang II, relation: false\n",
      "Entity texts are equal: Ang II, Ang II, relation: false\n",
      "Entity texts are equal: Ang II, Ang II, relation: false\n"
     ]
    },
    {
     "name": "stderr",
     "output_type": "stream",
     "text": [
      "23231it [02:54, 128.70it/s]"
     ]
    },
    {
     "name": "stdout",
     "output_type": "stream",
     "text": [
      "Entity texts are equal: DP, DP, relation: false\n",
      "Entity texts are equal: DP, DP, relation: false\n",
      "Entity texts are equal: IP, IP, relation: false\n",
      "Entity texts are equal: IP, IP, relation: false\n",
      "Entity texts are equal: TP, TP, relation: false\n"
     ]
    },
    {
     "name": "stderr",
     "output_type": "stream",
     "text": [
      "23270it [02:54, 128.01it/s]"
     ]
    },
    {
     "name": "stdout",
     "output_type": "stream",
     "text": [
      "Entity texts are equal: DP, DP, relation: false\n",
      "Entity texts are equal: DP, DP, relation: false\n",
      "Entity texts are equal: IP, IP, relation: false\n"
     ]
    },
    {
     "name": "stderr",
     "output_type": "stream",
     "text": [
      "23298it [02:54, 130.80it/s]"
     ]
    },
    {
     "name": "stdout",
     "output_type": "stream",
     "text": [
      "Entity texts are equal: IP, IP, relation: false\n",
      "Entity texts are equal: TP, TP, relation: false\n"
     ]
    },
    {
     "name": "stderr",
     "output_type": "stream",
     "text": [
      "23365it [02:55, 127.29it/s]"
     ]
    },
    {
     "name": "stdout",
     "output_type": "stream",
     "text": [
      "Entity texts are equal: IP, IP, relation: false\n",
      "Entity texts are equal: IP, IP, relation: false\n",
      "Entity texts are equal: TP, TP, relation: false\n",
      "Entity texts are equal: IP, IP, relation: false\n",
      "Entity texts are equal: IP, IP, relation: false\n"
     ]
    },
    {
     "name": "stderr",
     "output_type": "stream",
     "text": [
      "23391it [02:55, 127.38it/s]"
     ]
    },
    {
     "name": "stdout",
     "output_type": "stream",
     "text": [
      "Entity texts are equal: TP, TP, relation: false\n",
      "Entity texts are equal: IP, IP, relation: false\n",
      "Entity texts are equal: TP, TP, relation: false\n",
      "Entity texts are equal: FP, FP, relation: false\n"
     ]
    },
    {
     "name": "stderr",
     "output_type": "stream",
     "text": [
      "23601it [02:57, 120.69it/s]"
     ]
    },
    {
     "name": "stdout",
     "output_type": "stream",
     "text": [
      "Entity texts are equal: oxytocin, oxytocin, relation: false\n",
      "Entity texts are equal: oxytocin, oxytocin, relation: false\n",
      "Entity texts are equal: oxytocin, oxytocin, relation: false\n",
      "Entity texts are equal: oxytocin, oxytocin, relation: false\n",
      "Entity texts are equal: Astrin, Astrin, relation: false\n",
      "Entity texts are equal: astrin, astrin, relation: false\n",
      "Entity texts are equal: Astrin, Astrin, relation: false\n"
     ]
    },
    {
     "name": "stderr",
     "output_type": "stream",
     "text": [
      "24103it [03:01, 125.03it/s]"
     ]
    },
    {
     "name": "stdout",
     "output_type": "stream",
     "text": [
      "Entity texts are equal: oxytocin, oxytocin, relation: false\n",
      "Entity texts are equal: oxytocin, oxytocin, relation: false\n",
      "Entity texts are equal: oxytocin, oxytocin, relation: false\n",
      "Entity texts are equal: oxytocin, oxytocin, relation: false\n",
      "Entity texts are equal: oxytocin, oxytocin, relation: false\n"
     ]
    },
    {
     "name": "stderr",
     "output_type": "stream",
     "text": [
      "24367it [03:03, 123.88it/s]"
     ]
    },
    {
     "name": "stdout",
     "output_type": "stream",
     "text": [
      "Entity not a string: NNMT, nan\n"
     ]
    },
    {
     "name": "stderr",
     "output_type": "stream",
     "text": [
      "24927it [03:07, 127.93it/s]"
     ]
    },
    {
     "name": "stdout",
     "output_type": "stream",
     "text": [
      "Entity texts are equal: progestin, progestin, relation: false\n"
     ]
    },
    {
     "name": "stderr",
     "output_type": "stream",
     "text": [
      "24967it [03:07, 127.54it/s]"
     ]
    },
    {
     "name": "stdout",
     "output_type": "stream",
     "text": [
      "Entity texts are equal: progestin, progestin, relation: false\n"
     ]
    },
    {
     "name": "stderr",
     "output_type": "stream",
     "text": [
      "25294it [03:10, 120.98it/s]"
     ]
    },
    {
     "name": "stdout",
     "output_type": "stream",
     "text": [
      "Entity texts are equal: gonadotropin-releasing hormone, gonadotropin-releasing hormone, relation: false\n",
      "Entity texts are equal: GnRH, GnRH, relation: false\n"
     ]
    },
    {
     "name": "stderr",
     "output_type": "stream",
     "text": [
      "25320it [03:10, 119.96it/s]"
     ]
    },
    {
     "name": "stdout",
     "output_type": "stream",
     "text": [
      "Entity texts are equal: GnRH, GnRH, relation: false\n",
      "Entity texts are equal: GnRHs, GnRHs, relation: false\n",
      "Entity texts are equal: GnRH, GnRH, relation: false\n"
     ]
    },
    {
     "name": "stderr",
     "output_type": "stream",
     "text": [
      "25819it [03:14, 122.79it/s]"
     ]
    },
    {
     "name": "stdout",
     "output_type": "stream",
     "text": [
      "Entity texts are equal: angiotensin, angiotensin, relation: false\n",
      "Entity texts are equal: angiotensin, angiotensin, relation: false\n",
      "Entity texts are equal: angiotensin II, angiotensin II, relation: false\n",
      "Entity texts are equal: angiotensin II, angiotensin II, relation: false\n"
     ]
    },
    {
     "name": "stderr",
     "output_type": "stream",
     "text": [
      "25858it [03:15, 122.01it/s]"
     ]
    },
    {
     "name": "stdout",
     "output_type": "stream",
     "text": [
      "Entity texts are equal: oxytocin, oxytocin, relation: false\n"
     ]
    },
    {
     "name": "stderr",
     "output_type": "stream",
     "text": [
      "26444it [03:19, 125.51it/s]"
     ]
    },
    {
     "name": "stdout",
     "output_type": "stream",
     "text": [
      "Entity texts are equal: GnRH, GnRH, relation: false\n",
      "Entity texts are equal: GnRH, GnRH, relation: false\n",
      "Entity texts are equal: GnRH, GnRH, relation: false\n",
      "Entity texts are equal: GnRH, GnRH, relation: false\n",
      "Entity texts are equal: GnRH, GnRH, relation: false\n",
      "Entity texts are equal: GnRH, GnRH, relation: false\n",
      "Entity texts are equal: GnRH, GnRH, relation: false\n",
      "Entity texts are equal: GnRH, GnRH, relation: false\n"
     ]
    },
    {
     "name": "stderr",
     "output_type": "stream",
     "text": [
      "26470it [03:19, 120.94it/s]"
     ]
    },
    {
     "name": "stdout",
     "output_type": "stream",
     "text": [
      "Entity texts are equal: GnRH, GnRH, relation: false\n",
      "Entity texts are equal: GnRH, GnRH, relation: false\n",
      "Entity texts are equal: GnRH, GnRH, relation: false\n",
      "Entity texts are equal: GnRH, GnRH, relation: false\n",
      "Entity texts are equal: GnRH, GnRH, relation: false\n",
      "Entity texts are equal: GnRH, GnRH, relation: false\n",
      "Entity texts are equal: GnRH, GnRH, relation: false\n",
      "Entity texts are equal: GnRH, GnRH, relation: false\n",
      "Entity texts are equal: GnRH, GnRH, relation: false\n",
      "Entity texts are equal: GnRH, GnRH, relation: false\n",
      "Entity texts are equal: GnRH, GnRH, relation: false\n",
      "Entity texts are equal: GnRH, GnRH, relation: false\n"
     ]
    },
    {
     "name": "stderr",
     "output_type": "stream",
     "text": [
      "26669it [03:21, 126.66it/s]"
     ]
    },
    {
     "name": "stdout",
     "output_type": "stream",
     "text": [
      "Entity texts are equal: dopamine, dopamine, relation: false\n",
      "Entity texts are equal: dopamine, dopamine, relation: false\n"
     ]
    },
    {
     "name": "stderr",
     "output_type": "stream",
     "text": [
      "27158it [03:25, 129.39it/s]"
     ]
    },
    {
     "name": "stdout",
     "output_type": "stream",
     "text": [
      "Entity not a string: 5-HT1A, nan\n",
      "Entity not a string: 5-HT1A, nan\n",
      "Entity not a string: 5-HT1B/D, nan\n"
     ]
    },
    {
     "name": "stderr",
     "output_type": "stream",
     "text": [
      "27367it [03:27, 122.54it/s]"
     ]
    },
    {
     "name": "stdout",
     "output_type": "stream",
     "text": [
      "Entity texts are equal: angiotensin II, angiotensin II, relation: false\n"
     ]
    },
    {
     "name": "stderr",
     "output_type": "stream",
     "text": [
      "28243it [03:34, 127.15it/s]"
     ]
    },
    {
     "name": "stdout",
     "output_type": "stream",
     "text": [
      "Entity texts are equal: angiotensin, angiotensin, relation: false\n"
     ]
    },
    {
     "name": "stderr",
     "output_type": "stream",
     "text": [
      "28765it [03:38, 123.01it/s]"
     ]
    },
    {
     "name": "stdout",
     "output_type": "stream",
     "text": [
      "Entity texts are equal: TRH, TRH, relation: false\n",
      "Entity texts are equal: TRH, TRH, relation: false\n",
      "Entity texts are equal: TRH, TRH, relation: false\n",
      "Entity texts are equal: TRH, TRH, relation: false\n",
      "Entity texts are equal: TRH, TRH, relation: false\n",
      "Entity texts are equal: TRH, TRH, relation: false\n",
      "Entity texts are equal: TRH, TRH, relation: false\n",
      "Entity texts are equal: TRH, TRH, relation: false\n",
      "Entity texts are equal: TRH, TRH, relation: false\n"
     ]
    },
    {
     "name": "stderr",
     "output_type": "stream",
     "text": [
      "28805it [03:38, 123.99it/s]"
     ]
    },
    {
     "name": "stdout",
     "output_type": "stream",
     "text": [
      "Entity texts are equal: TRH, TRH, relation: false\n",
      "Entity texts are equal: TRH, TRH, relation: false\n"
     ]
    },
    {
     "name": "stderr",
     "output_type": "stream",
     "text": [
      "29373it [03:43, 126.12it/s]"
     ]
    },
    {
     "name": "stdout",
     "output_type": "stream",
     "text": [
      "Entity texts are equal: GnRH, GnRH, relation: false\n",
      "Entity texts are equal: GnRH, GnRH, relation: false\n",
      "Entity texts are equal: GnRH, GnRH, relation: false\n",
      "Entity texts are equal: GnRH, GnRH, relation: false\n",
      "Entity texts are equal: GnRH, GnRH, relation: false\n"
     ]
    },
    {
     "name": "stderr",
     "output_type": "stream",
     "text": [
      "29412it [03:43, 123.64it/s]"
     ]
    },
    {
     "name": "stdout",
     "output_type": "stream",
     "text": [
      "Entity texts are equal: GnRH, GnRH, relation: false\n",
      "Entity texts are equal: GnRH, GnRH, relation: false\n",
      "Entity texts are equal: GnRH, GnRH, relation: false\n",
      "Entity texts are equal: GnRH, GnRH, relation: false\n",
      "Entity texts are equal: GnRH, GnRH, relation: false\n",
      "Entity texts are equal: GnRH, GnRH, relation: false\n",
      "Entity texts are equal: GnRH, GnRH, relation: false\n"
     ]
    },
    {
     "name": "stderr",
     "output_type": "stream",
     "text": [
      "29438it [03:43, 122.48it/s]"
     ]
    },
    {
     "name": "stdout",
     "output_type": "stream",
     "text": [
      "Entity texts are equal: GnRH, GnRH, relation: false\n",
      "Entity texts are equal: GnRH, GnRH, relation: false\n",
      "Entity texts are equal: GnRH, GnRH, relation: false\n",
      "Entity texts are equal: GnRH, GnRH, relation: false\n"
     ]
    },
    {
     "name": "stderr",
     "output_type": "stream",
     "text": [
      "29835it [03:46, 127.07it/s]"
     ]
    },
    {
     "name": "stdout",
     "output_type": "stream",
     "text": [
      "Entity texts are equal: angiotensin, angiotensin, relation: false\n"
     ]
    },
    {
     "name": "stderr",
     "output_type": "stream",
     "text": [
      "30492it [03:52, 130.09it/s]"
     ]
    },
    {
     "name": "stdout",
     "output_type": "stream",
     "text": [
      "Entity texts are equal: angiotensin, angiotensin, relation: false\n"
     ]
    },
    {
     "name": "stderr",
     "output_type": "stream",
     "text": [
      "30573it [03:52, 128.40it/s]"
     ]
    },
    {
     "name": "stdout",
     "output_type": "stream",
     "text": [
      "Entity texts are equal: HCS, HCS, relation: false\n"
     ]
    },
    {
     "name": "stderr",
     "output_type": "stream",
     "text": [
      "31369it [03:59, 124.34it/s]"
     ]
    },
    {
     "name": "stdout",
     "output_type": "stream",
     "text": [
      "Entity texts are equal: Cys-Ala-Leu-Asn-Asn, Cys-Ala-Leu-Asn-Asn, relation: false\n"
     ]
    },
    {
     "name": "stderr",
     "output_type": "stream",
     "text": [
      "34099it [04:20, 128.00it/s]"
     ]
    },
    {
     "name": "stdout",
     "output_type": "stream",
     "text": [
      "Entity texts are equal: 2-methyl-branched-chain acyl-CoA dehydrogenase, 2-methyl-branched-chain acyl-CoA dehydrogenase, relation: false\n"
     ]
    },
    {
     "name": "stderr",
     "output_type": "stream",
     "text": [
      "34138it [04:21, 128.05it/s]"
     ]
    },
    {
     "name": "stdout",
     "output_type": "stream",
     "text": [
      "Entity texts are equal: angiotensin, angiotensin, relation: false\n"
     ]
    },
    {
     "name": "stderr",
     "output_type": "stream",
     "text": [
      "34829it [04:26, 129.84it/s]"
     ]
    },
    {
     "name": "stdout",
     "output_type": "stream",
     "text": [
      "Entity texts are equal: vasopressin, vasopressin, relation: false\n",
      "Entity texts are equal: oxytocin, oxytocin, relation: false\n",
      "Entity texts are equal: Oxytocin, Oxytocin, relation: false\n"
     ]
    },
    {
     "name": "stderr",
     "output_type": "stream",
     "text": [
      "34855it [04:27, 125.58it/s]"
     ]
    },
    {
     "name": "stdout",
     "output_type": "stream",
     "text": [
      "Entity texts are equal: OT, OT, relation: false\n",
      "Entity texts are equal: OT, OT, relation: false\n",
      "Entity texts are equal: OT, OT, relation: false\n",
      "Entity texts are equal: OT, OT, relation: false\n",
      "Entity texts are equal: AVP, AVP, relation: false\n"
     ]
    },
    {
     "name": "stderr",
     "output_type": "stream",
     "text": [
      "34881it [04:27, 124.62it/s]"
     ]
    },
    {
     "name": "stdout",
     "output_type": "stream",
     "text": [
      "Entity texts are equal: AVP, AVP, relation: false\n",
      "Entity texts are equal: AVP, AVP, relation: false\n",
      "Entity texts are equal: vasopressin, vasopressin, relation: false\n",
      "Entity texts are equal: AVP, AVP, relation: false\n",
      "Entity texts are equal: AVP, AVP, relation: false\n"
     ]
    },
    {
     "name": "stderr",
     "output_type": "stream",
     "text": [
      "34907it [04:27, 120.63it/s]"
     ]
    },
    {
     "name": "stdout",
     "output_type": "stream",
     "text": [
      "Entity texts are equal: AVP, AVP, relation: false\n",
      "Entity texts are equal: AVP, AVP, relation: false\n",
      "Entity texts are equal: AVP, AVP, relation: false\n",
      "Entity texts are equal: AVP, AVP, relation: false\n",
      "Entity texts are equal: OT, OT, relation: false\n",
      "Entity texts are equal: OT, OT, relation: false\n",
      "Entity texts are equal: AVP, AVP, relation: false\n",
      "Entity texts are equal: AVP, AVP, relation: false\n",
      "Entity texts are equal: OT, OT, relation: false\n",
      "Entity texts are equal: OT, OT, relation: false\n",
      "Entity texts are equal: AVP, AVP, relation: false\n"
     ]
    },
    {
     "name": "stderr",
     "output_type": "stream",
     "text": [
      "34933it [04:27, 119.39it/s]"
     ]
    },
    {
     "name": "stdout",
     "output_type": "stream",
     "text": [
      "Entity texts are equal: OT, OT, relation: false\n",
      "Entity texts are equal: OT, OT, relation: false\n",
      "Entity texts are equal: OT, OT, relation: false\n",
      "Entity texts are equal: OT, OT, relation: false\n",
      "Entity texts are equal: AVP, AVP, relation: false\n",
      "Entity texts are equal: AVP, AVP, relation: false\n",
      "Entity texts are equal: AVP, AVP, relation: false\n",
      "Entity texts are equal: OT, OT, relation: false\n",
      "Entity texts are equal: OT, OT, relation: false\n",
      "Entity texts are equal: OT, OT, relation: false\n"
     ]
    },
    {
     "name": "stderr",
     "output_type": "stream",
     "text": [
      "34971it [04:28, 122.09it/s]"
     ]
    },
    {
     "name": "stdout",
     "output_type": "stream",
     "text": [
      "Entity texts are equal: OT, OT, relation: false\n",
      "Entity texts are equal: AVP, AVP, relation: false\n",
      "Entity texts are equal: AVP, AVP, relation: false\n",
      "Entity texts are equal: AVP, AVP, relation: false\n",
      "Entity texts are equal: OT, OT, relation: false\n",
      "Entity texts are equal: OT, OT, relation: false\n",
      "Entity texts are equal: OT, OT, relation: false\n"
     ]
    },
    {
     "name": "stderr",
     "output_type": "stream",
     "text": [
      "34997it [04:28, 121.07it/s]"
     ]
    },
    {
     "name": "stdout",
     "output_type": "stream",
     "text": [
      "Entity texts are equal: OT, OT, relation: false\n"
     ]
    },
    {
     "name": "stderr",
     "output_type": "stream",
     "text": [
      "35048it [04:28, 118.63it/s]"
     ]
    },
    {
     "name": "stdout",
     "output_type": "stream",
     "text": [
      "Entity texts are equal: OT, OT, relation: false\n",
      "Entity texts are equal: OT, OT, relation: false\n",
      "Entity texts are equal: OT, OT, relation: false\n",
      "Entity texts are equal: OT, OT, relation: false\n"
     ]
    },
    {
     "name": "stderr",
     "output_type": "stream",
     "text": [
      "35073it [04:28, 118.98it/s]"
     ]
    },
    {
     "name": "stdout",
     "output_type": "stream",
     "text": [
      "Entity texts are equal: OT, OT, relation: false\n",
      "Entity texts are equal: OT, OT, relation: false\n",
      "Entity texts are equal: OT, OT, relation: false\n",
      "Entity texts are equal: OT, OT, relation: false\n"
     ]
    },
    {
     "name": "stderr",
     "output_type": "stream",
     "text": [
      "35402it [04:31, 119.67it/s]"
     ]
    },
    {
     "name": "stdout",
     "output_type": "stream",
     "text": [
      "Entity texts are equal: HMG-CoA, HMG-CoA, relation: false\n"
     ]
    },
    {
     "name": "stderr",
     "output_type": "stream",
     "text": [
      "36177it [04:37, 120.91it/s]"
     ]
    },
    {
     "name": "stdout",
     "output_type": "stream",
     "text": [
      "Entity texts are equal: angiotensin II, angiotensin II, relation: false\n",
      "Entity texts are equal: Ang II, Ang II, relation: false\n",
      "Entity texts are equal: angiotensin II, angiotensin II, relation: false\n",
      "Entity texts are equal: Ang II, Ang II, relation: false\n",
      "Entity texts are equal: Ang II, Ang II, relation: false\n"
     ]
    },
    {
     "name": "stderr",
     "output_type": "stream",
     "text": [
      "36319it [04:38, 125.16it/s]"
     ]
    },
    {
     "name": "stdout",
     "output_type": "stream",
     "text": [
      "Entity texts are equal: bradykinin, bradykinin, relation: false\n",
      "Entity texts are equal: bradykinin, bradykinin, relation: false\n"
     ]
    },
    {
     "name": "stderr",
     "output_type": "stream",
     "text": [
      "36476it [04:40, 125.41it/s]"
     ]
    },
    {
     "name": "stdout",
     "output_type": "stream",
     "text": [
      "Entity texts are equal: Angiotensin II, Angiotensin II, relation: false\n",
      "Entity texts are equal: angiotensin (Ang) II, angiotensin (Ang) II, relation: false\n",
      "Entity texts are equal: Ang II, Ang II, relation: false\n",
      "Entity texts are equal: Ang II, Ang II, relation: false\n",
      "Entity texts are equal: Ang II, Ang II, relation: false\n"
     ]
    },
    {
     "name": "stderr",
     "output_type": "stream",
     "text": [
      "36502it [04:40, 120.69it/s]"
     ]
    },
    {
     "name": "stdout",
     "output_type": "stream",
     "text": [
      "Entity texts are equal: Ang I, Ang I, relation: false\n",
      "Entity texts are equal: Ang II, Ang II, relation: false\n",
      "Entity texts are equal: Ang II, Ang II, relation: false\n",
      "Entity texts are equal: Ang II, Ang II, relation: false\n"
     ]
    },
    {
     "name": "stderr",
     "output_type": "stream",
     "text": [
      "36568it [04:40, 126.26it/s]"
     ]
    },
    {
     "name": "stdout",
     "output_type": "stream",
     "text": [
      "Entity texts are equal: adenosine, adenosine, relation: false\n",
      "Entity texts are equal: adenosine, adenosine, relation: false\n",
      "Entity texts are equal: Adenosine, Adenosine, relation: false\n",
      "Entity texts are equal: adenosine, adenosine, relation: false\n",
      "Entity texts are equal: adenosine, adenosine, relation: false\n",
      "Entity texts are equal: adenosine, adenosine, relation: false\n",
      "Entity texts are equal: adenosine, adenosine, relation: false\n",
      "Entity texts are equal: adenosine, adenosine, relation: false\n"
     ]
    },
    {
     "name": "stderr",
     "output_type": "stream",
     "text": [
      "36594it [04:41, 127.48it/s]"
     ]
    },
    {
     "name": "stdout",
     "output_type": "stream",
     "text": [
      "Entity texts are equal: adenosine, adenosine, relation: false\n",
      "Entity texts are equal: adenosine, adenosine, relation: false\n",
      "Entity texts are equal: adenosine, adenosine, relation: false\n"
     ]
    },
    {
     "name": "stderr",
     "output_type": "stream",
     "text": [
      "36621it [04:41, 127.77it/s]"
     ]
    },
    {
     "name": "stdout",
     "output_type": "stream",
     "text": [
      "Entity texts are equal: adenosine, adenosine, relation: false\n"
     ]
    },
    {
     "name": "stderr",
     "output_type": "stream",
     "text": [
      "36671it [04:41, 150.67it/s]"
     ]
    },
    {
     "name": "stdout",
     "output_type": "stream",
     "text": [
      "Entity texts are equal: vasopressin, vasopressin, relation: false\n",
      "Entity texts are equal: vasopressin, vasopressin, relation: false\n",
      "Entity texts are equal: vasopressin, vasopressin, relation: false\n",
      "Entity texts are equal: vasopressin, vasopressin, relation: false\n",
      "Entity texts are equal: Vasopressin, Vasopressin, relation: false\n",
      "Entity texts are equal: vasopressin, vasopressin, relation: false\n",
      "Entity texts are equal: vasopressin, vasopressin, relation: false\n",
      "Entity texts are equal: vasopressin, vasopressin, relation: false\n",
      "Entity texts are equal: vasopressin, vasopressin, relation: false\n",
      "Entity texts are equal: GnRH II, GnRH II, relation: false\n",
      "Entity texts are equal: GnRH I, GnRH I, relation: false\n",
      "Entity texts are equal: GnRH II, GnRH II, relation: false\n"
     ]
    },
    {
     "name": "stderr",
     "output_type": "stream",
     "text": [
      "36704it [04:41, 156.08it/s]"
     ]
    },
    {
     "name": "stdout",
     "output_type": "stream",
     "text": [
      "Entity texts are equal: GnRH I, GnRH I, relation: false\n",
      "Entity texts are equal: GnRH II, GnRH II, relation: false\n",
      "Entity texts are equal: GnRH II, GnRH II, relation: false\n",
      "Entity texts are equal: [Trp2]-GnRH I, [Trp2]-GnRH I, relation: false\n"
     ]
    },
    {
     "name": "stderr",
     "output_type": "stream",
     "text": [
      "36736it [04:41, 154.63it/s]"
     ]
    },
    {
     "name": "stdout",
     "output_type": "stream",
     "text": [
      "Entity texts are equal: GnRH I, GnRH I, relation: false\n",
      "Entity texts are equal: [Trp2]-GnRH II, [Trp2]-GnRH II, relation: false\n",
      "Entity texts are equal: GnRH II, GnRH II, relation: false\n",
      "Entity texts are equal: GnRH I, GnRH I, relation: false\n",
      "Entity texts are equal: GnRH II, GnRH II, relation: false\n",
      "Entity texts are equal: GnRH II, GnRH II, relation: false\n",
      "Entity texts are equal: GnRH II, GnRH II, relation: false\n",
      "Entity texts are equal: GnRH, GnRH, relation: false\n"
     ]
    },
    {
     "name": "stderr",
     "output_type": "stream",
     "text": [
      "37524it [04:48, 124.56it/s]"
     ]
    },
    {
     "name": "stdout",
     "output_type": "stream",
     "text": [
      "Entity texts are equal: PMTLGYXNIRGL, PMTLGYXNIRGL, relation: false\n"
     ]
    },
    {
     "name": "stderr",
     "output_type": "stream",
     "text": [
      "37852it [04:50, 139.94it/s]"
     ]
    },
    {
     "name": "stdout",
     "output_type": "stream",
     "text": [
      "Entity texts are equal: neurotensin, neurotensin, relation: false\n",
      "Entity texts are equal: neurotensin, neurotensin, relation: false\n"
     ]
    },
    {
     "name": "stderr",
     "output_type": "stream",
     "text": [
      "38884it [04:57, 154.12it/s]"
     ]
    },
    {
     "name": "stdout",
     "output_type": "stream",
     "text": [
      "Entity texts are equal: Vasopressin, Vasopressin, relation: false\n",
      "Entity texts are equal: arginine vasopressin, arginine vasopressin, relation: false\n",
      "Entity texts are equal: AVP, AVP, relation: false\n",
      "Entity texts are equal: AVP, AVP, relation: false\n",
      "Entity texts are equal: angiotensin II, angiotensin II, relation: false\n"
     ]
    },
    {
     "name": "stderr",
     "output_type": "stream",
     "text": [
      "38916it [04:57, 146.39it/s]"
     ]
    },
    {
     "name": "stdout",
     "output_type": "stream",
     "text": [
      "Entity texts are equal: Ang II, Ang II, relation: false\n",
      "Entity texts are equal: Ang II, Ang II, relation: false\n",
      "Entity texts are equal: Ang II, Ang II, relation: false\n",
      "Entity texts are equal: Ang II, Ang II, relation: false\n",
      "Entity texts are equal: Ang II, Ang II, relation: false\n",
      "Entity texts are equal: Ang II, Ang II, relation: false\n",
      "Entity texts are equal: Ang II, Ang II, relation: false\n",
      "Entity texts are equal: Ang II, Ang II, relation: false\n"
     ]
    },
    {
     "name": "stderr",
     "output_type": "stream",
     "text": [
      "39572it [05:01, 149.23it/s]"
     ]
    },
    {
     "name": "stdout",
     "output_type": "stream",
     "text": [
      "Entity texts are equal: gonadotrophin-releasing hormone, gonadotrophin-releasing hormone, relation: false\n",
      "Entity texts are equal: GnRH, GnRH, relation: false\n"
     ]
    },
    {
     "name": "stderr",
     "output_type": "stream",
     "text": [
      "39700it [05:02, 149.65it/s]"
     ]
    },
    {
     "name": "stdout",
     "output_type": "stream",
     "text": [
      "Entity texts are equal: GGGGL, GGGGL, relation: false\n"
     ]
    },
    {
     "name": "stderr",
     "output_type": "stream",
     "text": [
      "39893it [05:03, 107.91it/s]"
     ]
    },
    {
     "name": "stdout",
     "output_type": "stream",
     "text": [
      "Entity texts are equal: angiotensin, angiotensin, relation: false\n",
      "Entity texts are equal: angiotensin II, angiotensin II, relation: false\n"
     ]
    },
    {
     "name": "stderr",
     "output_type": "stream",
     "text": [
      "39919it [05:03, 116.30it/s]"
     ]
    },
    {
     "name": "stdout",
     "output_type": "stream",
     "text": [
      "Entity texts are equal: angiotensin II, angiotensin II, relation: false\n"
     ]
    },
    {
     "name": "stderr",
     "output_type": "stream",
     "text": [
      "40728it [05:10, 112.32it/s]"
     ]
    },
    {
     "name": "stdout",
     "output_type": "stream",
     "text": [
      "Entity texts are equal: angiotensin, angiotensin, relation: false\n"
     ]
    },
    {
     "name": "stderr",
     "output_type": "stream",
     "text": [
      "41666it [05:18, 126.45it/s]"
     ]
    },
    {
     "name": "stdout",
     "output_type": "stream",
     "text": [
      "Entity texts are equal: BRS-3, BRS-3, relation: false\n",
      "Entity texts are equal: BRS-3, BRS-3, relation: false\n",
      "Entity texts are equal: BRS-3, BRS-3, relation: false\n"
     ]
    },
    {
     "name": "stderr",
     "output_type": "stream",
     "text": [
      "41904it [05:20, 130.44it/s]"
     ]
    },
    {
     "name": "stdout",
     "output_type": "stream",
     "text": [
      "Entity not a string: nan, alpha 1-adrenoceptor\n"
     ]
    },
    {
     "name": "stderr",
     "output_type": "stream",
     "text": [
      "42208it [05:22, 122.26it/s]"
     ]
    },
    {
     "name": "stdout",
     "output_type": "stream",
     "text": [
      "Entity texts are equal: NaK, NaK, relation: false\n"
     ]
    },
    {
     "name": "stderr",
     "output_type": "stream",
     "text": [
      "42247it [05:22, 121.23it/s]"
     ]
    },
    {
     "name": "stdout",
     "output_type": "stream",
     "text": [
      "Entity texts are equal: NaK, NaK, relation: false\n"
     ]
    },
    {
     "name": "stderr",
     "output_type": "stream",
     "text": [
      "42627it [05:25, 125.49it/s]"
     ]
    },
    {
     "name": "stdout",
     "output_type": "stream",
     "text": [
      "Entity texts are equal: angiotensin, angiotensin, relation: false\n",
      "Entity texts are equal: angiotensin II, angiotensin II, relation: false\n"
     ]
    },
    {
     "name": "stderr",
     "output_type": "stream",
     "text": [
      "43499it [05:32, 124.70it/s]"
     ]
    },
    {
     "name": "stdout",
     "output_type": "stream",
     "text": [
      "Entity texts are equal: somatostatin, somatostatin, relation: false\n",
      "Entity texts are equal: somatostatin, somatostatin, relation: false\n",
      "Entity texts are equal: somatostatin, somatostatin, relation: false\n",
      "Entity texts are equal: somatostatin, somatostatin, relation: false\n"
     ]
    },
    {
     "name": "stderr",
     "output_type": "stream",
     "text": [
      "43892it [05:36, 124.79it/s]"
     ]
    },
    {
     "name": "stdout",
     "output_type": "stream",
     "text": [
      "Entity texts are equal: oxytocin, oxytocin, relation: false\n",
      "Entity texts are equal: AVP, AVP, relation: false\n",
      "Entity texts are equal: oxytocin, oxytocin, relation: false\n",
      "Entity texts are equal: oxytocin, oxytocin, relation: false\n"
     ]
    },
    {
     "name": "stderr",
     "output_type": "stream",
     "text": [
      "43918it [05:36, 124.22it/s]"
     ]
    },
    {
     "name": "stdout",
     "output_type": "stream",
     "text": [
      "Entity texts are equal: Gly-Lys-Arg, Gly-Lys-Arg, relation: false\n"
     ]
    },
    {
     "name": "stderr",
     "output_type": "stream",
     "text": [
      "44285it [05:39, 121.54it/s]"
     ]
    },
    {
     "name": "stdout",
     "output_type": "stream",
     "text": [
      "Entity texts are equal: steroid sulfatases, steroid sulfatases, relation: false\n",
      "Entity texts are equal: STSs, STSs, relation: false\n",
      "Entity texts are equal: STSs, STSs, relation: false\n"
     ]
    },
    {
     "name": "stderr",
     "output_type": "stream",
     "text": [
      "45685it [05:51, 122.56it/s]"
     ]
    },
    {
     "name": "stdout",
     "output_type": "stream",
     "text": [
      "Entity texts are equal: angiotensin, angiotensin, relation: false\n",
      "Entity texts are equal: Ang II, Ang II, relation: false\n",
      "Entity texts are equal: Ang II, Ang II, relation: false\n",
      "Entity texts are equal: Ang II, Ang II, relation: false\n",
      "Entity texts are equal: Ang II, Ang II, relation: false\n",
      "Entity texts are equal: Ang II, Ang II, relation: false\n",
      "Entity texts are equal: Ang II, Ang II, relation: false\n",
      "Entity texts are equal: Ang II, Ang II, relation: false\n",
      "Entity texts are equal: Ang II, Ang II, relation: false\n"
     ]
    },
    {
     "name": "stderr",
     "output_type": "stream",
     "text": [
      "45711it [05:51, 123.22it/s]"
     ]
    },
    {
     "name": "stdout",
     "output_type": "stream",
     "text": [
      "Entity texts are equal: Ang II, Ang II, relation: false\n"
     ]
    },
    {
     "name": "stderr",
     "output_type": "stream",
     "text": [
      "45868it [05:52, 122.75it/s]"
     ]
    },
    {
     "name": "stdout",
     "output_type": "stream",
     "text": [
      "Entity texts are equal: gonadotrophin releasing hormone, gonadotrophin releasing hormone, relation: false\n",
      "Entity texts are equal: GnRH, GnRH, relation: false\n"
     ]
    },
    {
     "name": "stderr",
     "output_type": "stream",
     "text": [
      "45907it [05:52, 121.26it/s]"
     ]
    },
    {
     "name": "stdout",
     "output_type": "stream",
     "text": [
      "Entity texts are equal: somatostatin, somatostatin, relation: false\n",
      "Entity texts are equal: somatostatin, somatostatin, relation: false\n",
      "Entity texts are equal: somatostatin, somatostatin, relation: false\n",
      "Entity texts are equal: somatostatin, somatostatin, relation: false\n",
      "Entity texts are equal: somatostatin, somatostatin, relation: false\n"
     ]
    },
    {
     "name": "stderr",
     "output_type": "stream",
     "text": [
      "46431it [05:57, 121.98it/s]"
     ]
    },
    {
     "name": "stdout",
     "output_type": "stream",
     "text": [
      "Entity texts are equal: melatonin, melatonin, relation: false\n"
     ]
    },
    {
     "name": "stderr",
     "output_type": "stream",
     "text": [
      "47855it [06:10, 124.44it/s]"
     ]
    },
    {
     "name": "stdout",
     "output_type": "stream",
     "text": [
      "Entity texts are equal: angiotensin II, angiotensin II, relation: false\n"
     ]
    },
    {
     "name": "stderr",
     "output_type": "stream",
     "text": [
      "48570it [06:16, 106.11it/s]"
     ]
    },
    {
     "name": "stdout",
     "output_type": "stream",
     "text": [
      "Entity texts are equal: neurotensin, neurotensin, relation: false\n",
      "Entity texts are equal: neurotensin, neurotensin, relation: false\n",
      "Entity texts are equal: neurotensin, neurotensin, relation: false\n",
      "Entity texts are equal: neurotensin, neurotensin, relation: false\n"
     ]
    },
    {
     "name": "stderr",
     "output_type": "stream",
     "text": [
      "48594it [06:16, 111.11it/s]"
     ]
    },
    {
     "name": "stdout",
     "output_type": "stream",
     "text": [
      "Entity texts are equal: neurotensin, neurotensin, relation: false\n",
      "Entity texts are equal: neurotensin, neurotensin, relation: false\n",
      "Entity texts are equal: neurotensin, neurotensin, relation: false\n",
      "Entity texts are equal: neurotensin, neurotensin, relation: false\n",
      "Entity texts are equal: neurotensin, neurotensin, relation: false\n"
     ]
    },
    {
     "name": "stderr",
     "output_type": "stream",
     "text": [
      "48688it [06:17, 111.25it/s]"
     ]
    },
    {
     "name": "stdout",
     "output_type": "stream",
     "text": [
      "Entity texts are equal: vasopressin, vasopressin, relation: false\n",
      "Entity texts are equal: oxytocin, oxytocin, relation: false\n",
      "Entity texts are equal: Vasopressin, Vasopressin, relation: false\n",
      "Entity texts are equal: oxytocin, oxytocin, relation: false\n"
     ]
    },
    {
     "name": "stderr",
     "output_type": "stream",
     "text": [
      "48710it [06:18, 78.91it/s] "
     ]
    },
    {
     "name": "stdout",
     "output_type": "stream",
     "text": [
      "Entity texts are equal: vasopressin, vasopressin, relation: false\n",
      "Entity texts are equal: oxytocin, oxytocin, relation: false\n"
     ]
    },
    {
     "name": "stderr",
     "output_type": "stream",
     "text": [
      "\r",
      "48719it [06:18, 72.72it/s]"
     ]
    },
    {
     "name": "stdout",
     "output_type": "stream",
     "text": [
      "Entity texts are equal: vasopressin, vasopressin, relation: false\n",
      "Entity texts are equal: oxytocin, oxytocin, relation: false\n",
      "Entity texts are equal: oxytocin, oxytocin, relation: false\n"
     ]
    },
    {
     "name": "stderr",
     "output_type": "stream",
     "text": [
      "48735it [06:18, 66.92it/s]"
     ]
    },
    {
     "name": "stdout",
     "output_type": "stream",
     "text": [
      "Entity texts are equal: Vasopressin, Vasopressin, relation: false\n",
      "Entity texts are equal: vasopressin, vasopressin, relation: false\n"
     ]
    },
    {
     "name": "stderr",
     "output_type": "stream",
     "text": [
      "48759it [06:18, 74.52it/s]"
     ]
    },
    {
     "name": "stdout",
     "output_type": "stream",
     "text": [
      "Entity texts are equal: oxytocin, oxytocin, relation: false\n",
      "Entity texts are equal: vasopressin, vasopressin, relation: false\n",
      "Entity texts are equal: oxytocin, oxytocin, relation: false\n"
     ]
    },
    {
     "name": "stderr",
     "output_type": "stream",
     "text": [
      "49186it [06:22, 114.15it/s]"
     ]
    },
    {
     "name": "stdout",
     "output_type": "stream",
     "text": [
      "Entity texts are equal: thyrotropin, thyrotropin, relation: false\n"
     ]
    },
    {
     "name": "stderr",
     "output_type": "stream",
     "text": [
      "49530it [06:25, 122.74it/s]"
     ]
    },
    {
     "name": "stdout",
     "output_type": "stream",
     "text": [
      "Entity texts are equal: gonadotropin-releasing hormone, gonadotropin-releasing hormone, relation: false\n",
      "Entity texts are equal: GnRH, GnRH, relation: false\n"
     ]
    },
    {
     "name": "stderr",
     "output_type": "stream",
     "text": [
      "51187it [06:38, 117.79it/s]"
     ]
    },
    {
     "name": "stdout",
     "output_type": "stream",
     "text": [
      "Entity texts are equal: angiotensin (A) II, angiotensin (A) II, relation: false\n"
     ]
    },
    {
     "name": "stderr",
     "output_type": "stream",
     "text": [
      "51399it [06:40, 124.90it/s]"
     ]
    },
    {
     "name": "stdout",
     "output_type": "stream",
     "text": [
      "Entity texts are equal: lysine vasopressin, lysine vasopressin, relation: false\n",
      "Entity texts are equal: lysine vasopressin, lysine vasopressin, relation: false\n",
      "Entity texts are equal: LVP, LVP, relation: false\n",
      "Entity texts are equal: LVP, LVP, relation: false\n",
      "Entity texts are equal: LVP, LVP, relation: false\n"
     ]
    },
    {
     "name": "stderr",
     "output_type": "stream",
     "text": [
      "51437it [06:40, 115.16it/s]"
     ]
    },
    {
     "name": "stdout",
     "output_type": "stream",
     "text": [
      "Entity texts are equal: LVP, LVP, relation: false\n",
      "Entity texts are equal: LVP, LVP, relation: false\n",
      "Entity texts are equal: LVP, LVP, relation: false\n",
      "Entity texts are equal: LVP, LVP, relation: false\n"
     ]
    },
    {
     "name": "stderr",
     "output_type": "stream",
     "text": [
      "51927it [06:44, 118.47it/s]"
     ]
    },
    {
     "name": "stdout",
     "output_type": "stream",
     "text": [
      "Entity texts are equal: Sec, Sec, relation: false\n"
     ]
    },
    {
     "name": "stderr",
     "output_type": "stream",
     "text": [
      "51977it [06:45, 120.03it/s]"
     ]
    },
    {
     "name": "stdout",
     "output_type": "stream",
     "text": [
      "Entity texts are equal: angiotensin-II, angiotensin-II, relation: false\n",
      "Entity texts are equal: angiotensin-II, angiotensin-II, relation: false\n"
     ]
    },
    {
     "name": "stderr",
     "output_type": "stream",
     "text": [
      "52213it [06:47, 121.89it/s]"
     ]
    },
    {
     "name": "stdout",
     "output_type": "stream",
     "text": [
      "Entity texts are equal: DIC, DIC, relation: false\n",
      "Entity texts are equal: OGC, OGC, relation: false\n",
      "Entity texts are equal: DIC, DIC, relation: false\n",
      "Entity texts are equal: OGC, OGC, relation: false\n"
     ]
    },
    {
     "name": "stderr",
     "output_type": "stream",
     "text": [
      "52240it [06:47, 123.06it/s]"
     ]
    },
    {
     "name": "stdout",
     "output_type": "stream",
     "text": [
      "Entity texts are equal: Neurotensin, Neurotensin, relation: false\n"
     ]
    },
    {
     "name": "stderr",
     "output_type": "stream",
     "text": [
      "52268it [06:47, 126.91it/s]"
     ]
    },
    {
     "name": "stdout",
     "output_type": "stream",
     "text": [
      "Entity texts are equal: neurotensin, neurotensin, relation: false\n",
      "Entity texts are equal: neurotensin, neurotensin, relation: false\n",
      "Entity texts are equal: neurotensin, neurotensin, relation: false\n",
      "Entity texts are equal: neurotensin, neurotensin, relation: false\n"
     ]
    },
    {
     "name": "stderr",
     "output_type": "stream",
     "text": [
      "52938it [06:53, 125.55it/s]"
     ]
    },
    {
     "name": "stdout",
     "output_type": "stream",
     "text": [
      "Entity texts are equal: oxytocin, oxytocin, relation: false\n",
      "Entity texts are equal: Oxytocin, Oxytocin, relation: false\n",
      "Entity texts are equal: oxytocin, oxytocin, relation: false\n",
      "Entity texts are equal: oxytocin, oxytocin, relation: false\n",
      "Entity texts are equal: oxytocin, oxytocin, relation: false\n",
      "Entity texts are equal: Oxytocin, Oxytocin, relation: false\n",
      "Entity texts are equal: oxytocin, oxytocin, relation: false\n",
      "Entity texts are equal: oxytocin, oxytocin, relation: false\n"
     ]
    },
    {
     "name": "stderr",
     "output_type": "stream",
     "text": [
      "52964it [06:53, 125.72it/s]"
     ]
    },
    {
     "name": "stdout",
     "output_type": "stream",
     "text": [
      "Entity texts are equal: oxytocin, oxytocin, relation: false\n",
      "Entity texts are equal: oxytocin, oxytocin, relation: false\n",
      "Entity texts are equal: oxytocin, oxytocin, relation: false\n",
      "Entity texts are equal: oxytocin, oxytocin, relation: false\n",
      "Entity texts are equal: oxytocin, oxytocin, relation: false\n",
      "Entity texts are equal: oxytocin, oxytocin, relation: false\n",
      "Entity texts are equal: oxytocin, oxytocin, relation: false\n",
      "Entity texts are equal: oxytocin, oxytocin, relation: false\n",
      "Entity texts are equal: oxytocin, oxytocin, relation: false\n",
      "Entity texts are equal: oxytocin, oxytocin, relation: false\n",
      "Entity texts are equal: oxytocin, oxytocin, relation: false\n"
     ]
    },
    {
     "name": "stderr",
     "output_type": "stream",
     "text": [
      "53859it [07:00, 120.53it/s]"
     ]
    },
    {
     "name": "stdout",
     "output_type": "stream",
     "text": [
      "Entity texts are equal: Gonadotropin-releasing hormone, Gonadotropin-releasing hormone, relation: false\n",
      "Entity texts are equal: GnRH, GnRH, relation: false\n",
      "Entity texts are equal: GnRH, GnRH, relation: false\n",
      "Entity texts are equal: GnRH, GnRH, relation: false\n"
     ]
    },
    {
     "name": "stderr",
     "output_type": "stream",
     "text": [
      "53898it [07:00, 123.29it/s]"
     ]
    },
    {
     "name": "stdout",
     "output_type": "stream",
     "text": [
      "Entity texts are equal: LGTGPLRTFV, LGTGPLRTFV, relation: false\n",
      "Entity texts are equal: VGLITNGLAM, VGLITNGLAM, relation: false\n",
      "Entity texts are equal: LGAKILSVVI, LGAKILSVVI, relation: false\n",
      "Entity texts are equal: RTRGVGKVPR, RTRGVGKVPR, relation: false\n"
     ]
    },
    {
     "name": "stderr",
     "output_type": "stream",
     "text": [
      "55069it [07:10, 123.98it/s]"
     ]
    },
    {
     "name": "stdout",
     "output_type": "stream",
     "text": [
      "Entity texts are equal: oxytocin, oxytocin, relation: false\n"
     ]
    },
    {
     "name": "stderr",
     "output_type": "stream",
     "text": [
      "55625it [07:14, 119.83it/s]"
     ]
    },
    {
     "name": "stdout",
     "output_type": "stream",
     "text": [
      "Entity texts are equal: oxytocin, oxytocin, relation: false\n",
      "Entity texts are equal: oxytocin, oxytocin, relation: false\n",
      "Entity texts are equal: oxytocin, oxytocin, relation: false\n"
     ]
    },
    {
     "name": "stderr",
     "output_type": "stream",
     "text": [
      "55650it [07:15, 119.77it/s]"
     ]
    },
    {
     "name": "stdout",
     "output_type": "stream",
     "text": [
      "Entity texts are equal: oxytocin, oxytocin, relation: false\n",
      "Entity texts are equal: oxytocin, oxytocin, relation: false\n",
      "Entity texts are equal: oxytocin, oxytocin, relation: false\n"
     ]
    },
    {
     "name": "stderr",
     "output_type": "stream",
     "text": [
      "55701it [07:15, 122.12it/s]"
     ]
    },
    {
     "name": "stdout",
     "output_type": "stream",
     "text": [
      "Entity texts are equal: oxytocin, oxytocin, relation: false\n",
      "Entity texts are equal: oxytocin, oxytocin, relation: false\n"
     ]
    },
    {
     "name": "stderr",
     "output_type": "stream",
     "text": [
      "55781it [07:16, 126.04it/s]"
     ]
    },
    {
     "name": "stdout",
     "output_type": "stream",
     "text": [
      "Entity texts are equal: Gonadotropin-releasing hormone, Gonadotropin-releasing hormone, relation: false\n",
      "Entity texts are equal: Gonadotropin-releasing hormone, Gonadotropin-releasing hormone, relation: false\n",
      "Entity texts are equal: GnRH, GnRH, relation: false\n",
      "Entity texts are equal: GnRH, GnRH, relation: false\n",
      "Entity texts are equal: GnRH, GnRH, relation: false\n",
      "Entity texts are equal: GnRH, GnRH, relation: false\n"
     ]
    },
    {
     "name": "stderr",
     "output_type": "stream",
     "text": [
      "55820it [07:16, 122.40it/s]"
     ]
    },
    {
     "name": "stdout",
     "output_type": "stream",
     "text": [
      "Entity texts are equal: GnRH, GnRH, relation: false\n",
      "Entity texts are equal: GnRH, GnRH, relation: false\n",
      "Entity texts are equal: GnRH, GnRH, relation: false\n",
      "Entity texts are equal: GnRH, GnRH, relation: false\n",
      "Entity texts are equal: GnRH, GnRH, relation: false\n",
      "Entity texts are equal: GnRH, GnRH, relation: false\n",
      "Entity texts are equal: GnRH, GnRH, relation: false\n",
      "Entity texts are equal: GnRH, GnRH, relation: false\n"
     ]
    },
    {
     "name": "stderr",
     "output_type": "stream",
     "text": [
      "55861it [07:16, 125.59it/s]"
     ]
    },
    {
     "name": "stdout",
     "output_type": "stream",
     "text": [
      "Entity texts are equal: GnRH, GnRH, relation: false\n",
      "Entity texts are equal: GnRH, GnRH, relation: false\n",
      "Entity texts are equal: GnRH, GnRH, relation: false\n",
      "Entity texts are equal: GnRH, GnRH, relation: false\n",
      "Entity texts are equal: GnRH, GnRH, relation: false\n",
      "Entity texts are equal: GnRH, GnRH, relation: false\n",
      "Entity texts are equal: GnRH, GnRH, relation: false\n",
      "Entity texts are equal: GnRH, GnRH, relation: false\n",
      "Entity texts are equal: GnRH, GnRH, relation: false\n",
      "Entity texts are equal: GnRH, GnRH, relation: false\n",
      "Entity texts are equal: GnRH, GnRH, relation: false\n"
     ]
    },
    {
     "name": "stderr",
     "output_type": "stream",
     "text": [
      "57467it [07:29, 118.46it/s]"
     ]
    },
    {
     "name": "stdout",
     "output_type": "stream",
     "text": [
      "Entity texts are equal: vasopressin, vasopressin, relation: false\n"
     ]
    },
    {
     "name": "stderr",
     "output_type": "stream",
     "text": [
      "57703it [07:31, 114.24it/s]"
     ]
    },
    {
     "name": "stdout",
     "output_type": "stream",
     "text": [
      "Entity not a string: nan, alpha-2 AR\n",
      "Entity not a string: alpha-2CDel AR, nan\n"
     ]
    },
    {
     "name": "stderr",
     "output_type": "stream",
     "text": [
      "57755it [07:32, 120.54it/s]"
     ]
    },
    {
     "name": "stdout",
     "output_type": "stream",
     "text": [
      "Entity texts are equal: AVP, AVP, relation: false\n",
      "Entity texts are equal: AVP, AVP, relation: false\n"
     ]
    },
    {
     "name": "stderr",
     "output_type": "stream",
     "text": [
      "57912it [07:33, 125.01it/s]"
     ]
    },
    {
     "name": "stdout",
     "output_type": "stream",
     "text": [
      "Entity texts are equal: enkephalins, enkephalins, relation: false\n"
     ]
    },
    {
     "name": "stderr",
     "output_type": "stream",
     "text": [
      "58204it [07:35, 123.63it/s]"
     ]
    },
    {
     "name": "stdout",
     "output_type": "stream",
     "text": [
      "Entity texts are equal: thyroliberin, thyroliberin, relation: false\n",
      "Entity texts are equal: TRH, TRH, relation: false\n",
      "Entity texts are equal: thyroliberin, thyroliberin, relation: false\n"
     ]
    },
    {
     "name": "stderr",
     "output_type": "stream",
     "text": [
      "58230it [07:36, 122.30it/s]"
     ]
    },
    {
     "name": "stdout",
     "output_type": "stream",
     "text": [
      "Entity texts are equal: thyroliberin, thyroliberin, relation: false\n"
     ]
    },
    {
     "name": "stderr",
     "output_type": "stream",
     "text": [
      "59348it [07:45, 124.50it/s]"
     ]
    },
    {
     "name": "stdout",
     "output_type": "stream",
     "text": [
      "Entity texts are equal: gonadotrophin-releasing hormone, gonadotrophin-releasing hormone, relation: false\n",
      "Entity texts are equal: GnRH, GnRH, relation: false\n",
      "Entity texts are equal: GnRH, GnRH, relation: false\n",
      "Entity texts are equal: gonadotrophin-releasing hormone, gonadotrophin-releasing hormone, relation: false\n",
      "Entity texts are equal: GnRH, GnRH, relation: false\n",
      "Entity texts are equal: GnRH, GnRH, relation: false\n"
     ]
    },
    {
     "name": "stderr",
     "output_type": "stream",
     "text": [
      "59467it [07:46, 125.39it/s]"
     ]
    },
    {
     "name": "stdout",
     "output_type": "stream",
     "text": [
      "Entity texts are equal: vasopressin, vasopressin, relation: false\n",
      "Entity texts are equal: arginine vasopressin, arginine vasopressin, relation: false\n",
      "Entity texts are equal: AVP, AVP, relation: false\n"
     ]
    },
    {
     "name": "stderr",
     "output_type": "stream",
     "text": [
      "59545it [07:46, 124.12it/s]"
     ]
    },
    {
     "name": "stdout",
     "output_type": "stream",
     "text": [
      "Entity texts are equal: CpG, CpG, relation: false\n"
     ]
    },
    {
     "name": "stderr",
     "output_type": "stream",
     "text": [
      "59911it [07:49, 122.62it/s]"
     ]
    },
    {
     "name": "stdout",
     "output_type": "stream",
     "text": [
      "Entity texts are equal: oxytocin, oxytocin, relation: false\n",
      "Entity texts are equal: oxytocin, oxytocin, relation: false\n",
      "Entity texts are equal: oxytocin, oxytocin, relation: false\n",
      "Entity texts are equal: oxytocin, oxytocin, relation: false\n",
      "Entity texts are equal: oxytocin, oxytocin, relation: false\n",
      "Entity texts are equal: Oxytocin, Oxytocin, relation: false\n"
     ]
    },
    {
     "name": "stderr",
     "output_type": "stream",
     "text": [
      "60174it [07:51, 125.04it/s]"
     ]
    },
    {
     "name": "stdout",
     "output_type": "stream",
     "text": [
      "Entity texts are equal: TK, TK, relation: false\n",
      "Entity texts are equal: TK, TK, relation: false\n",
      "Entity texts are equal: TK, TK, relation: false\n",
      "Entity texts are equal: TK, TK, relation: false\n"
     ]
    },
    {
     "name": "stderr",
     "output_type": "stream",
     "text": [
      "60265it [07:52, 122.53it/s]"
     ]
    },
    {
     "name": "stdout",
     "output_type": "stream",
     "text": [
      "Entity texts are equal: mTOR, mTOR, relation: false\n",
      "Entity texts are equal: mTOR, mTOR, relation: false\n",
      "Entity texts are equal: mTOR, mTOR, relation: false\n",
      "Entity texts are equal: mTOR, mTOR, relation: false\n"
     ]
    },
    {
     "name": "stderr",
     "output_type": "stream",
     "text": [
      "60304it [07:52, 122.50it/s]"
     ]
    },
    {
     "name": "stdout",
     "output_type": "stream",
     "text": [
      "Entity texts are equal: mTOR, mTOR, relation: false\n",
      "Entity texts are equal: mTOR, mTOR, relation: false\n",
      "Entity texts are equal: mTOR, mTOR, relation: false\n",
      "Entity texts are equal: mTOR, mTOR, relation: false\n",
      "Entity texts are equal: mTOR, mTOR, relation: false\n",
      "Entity texts are equal: mTOR, mTOR, relation: false\n",
      "Entity texts are equal: mTOR, mTOR, relation: false\n"
     ]
    },
    {
     "name": "stderr",
     "output_type": "stream",
     "text": [
      "60330it [07:53, 120.56it/s]"
     ]
    },
    {
     "name": "stdout",
     "output_type": "stream",
     "text": [
      "Entity texts are equal: mTOR, mTOR, relation: false\n",
      "Entity texts are equal: mTOR, mTOR, relation: false\n",
      "Entity texts are equal: mTOR, mTOR, relation: false\n",
      "Entity texts are equal: mTOR, mTOR, relation: false\n",
      "Entity texts are equal: mTOR, mTOR, relation: false\n"
     ]
    },
    {
     "name": "stderr",
     "output_type": "stream",
     "text": [
      "60799it [07:56, 121.71it/s]"
     ]
    },
    {
     "name": "stdout",
     "output_type": "stream",
     "text": [
      "Entity texts are equal: estrogen, estrogen, relation: false\n"
     ]
    },
    {
     "name": "stderr",
     "output_type": "stream",
     "text": [
      "60917it [07:57, 119.87it/s]"
     ]
    },
    {
     "name": "stdout",
     "output_type": "stream",
     "text": [
      "Entity texts are equal: vasotocin, vasotocin, relation: false\n",
      "Entity texts are equal: AVT, AVT, relation: false\n",
      "Entity texts are equal: arginine vasopressin, arginine vasopressin, relation: false\n",
      "Entity texts are equal: AVP, AVP, relation: false\n",
      "Entity texts are equal: arginine vasotocin, arginine vasotocin, relation: false\n",
      "Entity texts are equal: AVT, AVT, relation: false\n",
      "Entity texts are equal: AVP, AVP, relation: false\n",
      "Entity texts are equal: AVT, AVT, relation: false\n",
      "Entity texts are equal: AVP, AVP, relation: false\n"
     ]
    },
    {
     "name": "stderr",
     "output_type": "stream",
     "text": [
      "60943it [07:58, 121.37it/s]"
     ]
    },
    {
     "name": "stdout",
     "output_type": "stream",
     "text": [
      "Entity texts are equal: AVT, AVT, relation: false\n",
      "Entity texts are equal: AVT, AVT, relation: false\n",
      "Entity texts are equal: AVT, AVT, relation: false\n",
      "Entity texts are equal: AVT, AVT, relation: false\n",
      "Entity texts are equal: AVT, AVT, relation: false\n",
      "Entity texts are equal: AVT, AVT, relation: false\n",
      "Entity texts are equal: AVP, AVP, relation: false\n"
     ]
    },
    {
     "name": "stderr",
     "output_type": "stream",
     "text": [
      "62219it [08:08, 125.52it/s]"
     ]
    },
    {
     "name": "stdout",
     "output_type": "stream",
     "text": [
      "Entity texts are equal: angiotensin, angiotensin, relation: false\n"
     ]
    },
    {
     "name": "stderr",
     "output_type": "stream",
     "text": [
      "63478it [08:18, 123.67it/s]"
     ]
    },
    {
     "name": "stdout",
     "output_type": "stream",
     "text": [
      "Entity texts are equal: angiotensin, angiotensin, relation: false\n",
      "Entity texts are equal: Ang-II, Ang-II, relation: false\n",
      "Entity texts are equal: angiotensin II, angiotensin II, relation: false\n",
      "Entity texts are equal: Ang II, Ang II, relation: false\n"
     ]
    },
    {
     "name": "stderr",
     "output_type": "stream",
     "text": [
      "63887it [08:22, 120.37it/s]"
     ]
    },
    {
     "name": "stdout",
     "output_type": "stream",
     "text": [
      "Entity texts are equal: angiotensin II, angiotensin II, relation: false\n",
      "Entity texts are equal: bradykinin, bradykinin, relation: false\n"
     ]
    },
    {
     "name": "stderr",
     "output_type": "stream",
     "text": [
      "64111it [08:23, 121.59it/s]"
     ]
    },
    {
     "name": "stdout",
     "output_type": "stream",
     "text": [
      "Entity texts are equal: somatostatin, somatostatin, relation: false\n",
      "Entity texts are equal: somatostatin-14, somatostatin-14, relation: false\n",
      "Entity texts are equal: somatostatin, somatostatin, relation: false\n",
      "Entity texts are equal: somatostatin, somatostatin, relation: false\n"
     ]
    },
    {
     "name": "stderr",
     "output_type": "stream",
     "text": [
      "64149it [08:24, 117.66it/s]"
     ]
    },
    {
     "name": "stdout",
     "output_type": "stream",
     "text": [
      "Entity texts are equal: angiotensin II, angiotensin II, relation: false\n",
      "Entity texts are equal: bradykinin, bradykinin, relation: false\n",
      "Entity texts are equal: angiotensin II, angiotensin II, relation: false\n",
      "Entity texts are equal: bradykinin, bradykinin, relation: false\n",
      "Entity texts are equal: angiotensin II, angiotensin II, relation: false\n"
     ]
    },
    {
     "name": "stderr",
     "output_type": "stream",
     "text": [
      "64174it [08:24, 116.08it/s]"
     ]
    },
    {
     "name": "stdout",
     "output_type": "stream",
     "text": [
      "Entity texts are equal: bradykinin, bradykinin, relation: false\n",
      "Entity texts are equal: angiotensin II, angiotensin II, relation: false\n",
      "Entity texts are equal: bradykinin, bradykinin, relation: false\n"
     ]
    },
    {
     "name": "stderr",
     "output_type": "stream",
     "text": [
      "64478it [08:27, 118.42it/s]"
     ]
    },
    {
     "name": "stdout",
     "output_type": "stream",
     "text": [
      "Entity texts are equal: substance P, substance P, relation: false\n",
      "Entity texts are equal: SP, SP, relation: false\n",
      "Entity texts are equal: SP, SP, relation: false\n"
     ]
    },
    {
     "name": "stderr",
     "output_type": "stream",
     "text": [
      "64516it [08:27, 118.61it/s]"
     ]
    },
    {
     "name": "stdout",
     "output_type": "stream",
     "text": [
      "Entity texts are equal: neurotensin, neurotensin, relation: false\n"
     ]
    },
    {
     "name": "stderr",
     "output_type": "stream",
     "text": [
      "64729it [08:29, 127.14it/s]\n"
     ]
    }
   ],
   "source": [
    "co_count_false = {}\n",
    "for idx, text, relation in tqdm(df.itertuples(index=False)):\n",
    "    PMID, e1, e2 = idx.split(\".\")\n",
    "    # entity IDs should be different\n",
    "    if e1 == e2:\n",
    "        print(f\"Entity IDs are equal: {e1}, {e2}\")\n",
    "        continue\n",
    "    df_pmid = df_ent.loc[df_ent[\"PMID\"] == PMID, :]\n",
    "    ent1 = df_pmid.loc[df_pmid[\"id\"] == e1, :][\"text\"].values[0]\n",
    "    ent2 = df_pmid.loc[df_pmid[\"id\"] == e2, :][\"text\"].values[0]\n",
    "    # ToDo: decide if texts should be different\n",
    "    # entity text should be different\n",
    "    if ent1 == ent2:\n",
    "        print(f\"Entity texts are equal: {ent1}, {ent2}, relation: {relation}\")\n",
    "        continue\n",
    "    if relation == 'false':\n",
    "        update_co_count(co_count_false, ent1, ent2)"
   ]
  },
  {
   "cell_type": "code",
   "execution_count": 72,
   "id": "be4b746f",
   "metadata": {},
   "outputs": [],
   "source": [
    "import pickle\n",
    "\n",
    "pickle.dump(co_count_false, open(\"co_count_dict_false.p\", \"wb\"))"
   ]
  },
  {
   "cell_type": "code",
   "execution_count": 29,
   "id": "e4715c5c",
   "metadata": {},
   "outputs": [],
   "source": [
    "co_count_false = pickle.load(open(\"co_count_dict_false.p\", \"rb\"))"
   ]
  },
  {
   "cell_type": "code",
   "execution_count": 30,
   "id": "7d1489d2",
   "metadata": {},
   "outputs": [
    {
     "name": "stderr",
     "output_type": "stream",
     "text": [
      "100%|███████████████████████████████████| 9172/9172 [00:00<00:00, 225037.47it/s]\n"
     ]
    }
   ],
   "source": [
    "from math import log2\n",
    "\n",
    "n = len(df)\n",
    "cooc = {}\n",
    "co_list_false = []\n",
    "for e1 in tqdm(co_count_false):\n",
    "    cooc[e1] = {}\n",
    "    for e2 in co_count_false[e1]:\n",
    "        cooc[e1][e2] = log2((n * co_count_false[e1][e2]) / (ent_count[e1] * ent_count[e2]))\n",
    "        co_list_false.append(cooc[e1][e2])"
   ]
  },
  {
   "cell_type": "code",
   "execution_count": 31,
   "id": "41db8a0b",
   "metadata": {},
   "outputs": [
    {
     "data": {
      "image/png": "[encoded data removed]",
      "text/plain": [
       "<Figure size 864x576 with 1 Axes>"
      ]
     },
     "metadata": {
      "needs_background": "light"
     },
     "output_type": "display_data"
    }
   ],
   "source": [
    "bins = np.linspace(math.ceil(min([min(co_list), min(co_list_false)])), \n",
    "                   math.floor(max([max(co_list), max(co_list_false)])),\n",
    "                   50) # fixed number of bins\n",
    "\n",
    "fig = plt.figure(figsize=(12, 8))\n",
    "plt.xlim([min([min(co_list), min(co_list_false)]), max([max(co_list), max(co_list_false)])])\n",
    "\n",
    "plt.hist(co_list, bins=bins, alpha=0.5, label='related', edgecolor = \"black\")\n",
    "plt.hist(co_list_false, bins=bins, alpha=0.5, label='unrelated', edgecolor = \"black\")\n",
    "plt.title('Supervised cooccurence of entities')\n",
    "plt.xlabel('entity combinations')\n",
    "plt.ylabel('count')\n",
    "plt.legend()\n",
    "plt.show()"
   ]
  },
  {
   "cell_type": "code",
   "execution_count": 32,
   "id": "affd935d",
   "metadata": {},
   "outputs": [],
   "source": [
    "# prediction\n",
    "from sklearn.neighbors import KernelDensity\n",
    "import numpy as np\n",
    "\n",
    "def predict_kde(kde_rel, kde_un, data):\n",
    "    score_rel = kde_rel.score_samples(data)\n",
    "    score_un = kde_un.score_samples(data)\n",
    "    prediction = score_rel > score_un\n",
    "    return prediction\n",
    "\n",
    "related_array = np.array(co_list)\n",
    "related_array = related_array.reshape(-1, 1)\n",
    "unrelated_array = np.array(co_list_false)\n",
    "unrelated_array = unrelated_array.reshape(-1, 1)\n",
    "\n",
    "kde_rel = KernelDensity(kernel='gaussian', bandwidth=0.2).fit(related_array)\n",
    "kde_un = KernelDensity(kernel='gaussian', bandwidth=0.2).fit(unrelated_array)\n",
    "pred_rel = predict_kde(kde_rel, kde_un, related_array)\n",
    "pred_un = predict_kde(kde_rel, kde_un, unrelated_array)"
   ]
  },
  {
   "cell_type": "code",
   "execution_count": 34,
   "id": "b2addb3e",
   "metadata": {},
   "outputs": [
    {
     "name": "stdout",
     "output_type": "stream",
     "text": [
      "0.6305268633424983\n",
      "0.5221819149998336\n"
     ]
    }
   ],
   "source": [
    "print(sum(pred_rel) / len(pred_rel))\n",
    "print(sum(pred_un) / len(pred_un))"
   ]
  }
 ],
 "metadata": {
  "kernelspec": {
   "display_name": "Python 3 (ipykernel)",
   "language": "python",
   "name": "python3"
  },
  "language_info": {
   "codemirror_mode": {
    "name": "ipython",
    "version": 3
   },
   "file_extension": ".py",
   "mimetype": "text/x-python",
   "name": "python",
   "nbconvert_exporter": "python",
   "pygments_lexer": "ipython3",
   "version": "3.9.7"
  }
 },
 "nbformat": 4,
 "nbformat_minor": 5
}
